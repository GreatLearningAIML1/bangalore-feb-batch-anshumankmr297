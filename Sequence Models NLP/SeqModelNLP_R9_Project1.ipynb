{
 "cells": [
  {
   "cell_type": "markdown",
   "metadata": {
    "colab_type": "text",
    "id": "xT7MKZuMRaCg"
   },
   "source": [
    "# Sentiment Classification\n"
   ]
  },
  {
   "cell_type": "markdown",
   "metadata": {
    "colab_type": "text",
    "id": "Wq4RCyyPSYRp"
   },
   "source": [
    "## Loading the dataset"
   ]
  },
  {
   "cell_type": "code",
   "execution_count": 31,
   "metadata": {},
   "outputs": [],
   "source": [
    "# import all necessary packages\n",
    "import warnings \n",
    "warnings.filterwarnings('ignore')\n",
    "\n",
    "import matplotlib.pyplot as plt\n",
    "%matplotlib inline\n",
    "\n",
    "import numpy as np\n",
    "import seaborn as sns\n",
    "from sklearn import metrics\n",
    "\n",
    "import keras\n",
    "from keras.models import Sequential\n",
    "from keras.layers import LSTM, SimpleRNN, Dense, Dropout\n",
    "from keras.layers import Flatten\n",
    "from keras.layers.embeddings import Embedding\n",
    "\n",
    "from keras.callbacks import ModelCheckpoint, EarlyStopping\n",
    "from keras.callbacks import TensorBoard\n",
    "import time"
   ]
  },
  {
   "cell_type": "code",
   "execution_count": 14,
   "metadata": {
    "colab": {},
    "colab_type": "code",
    "id": "NGCtiXUhSWss"
   },
   "outputs": [],
   "source": [
    "from keras.datasets import imdb\n",
    "\n",
    "vocab_size = 10000 #vocab size\n",
    "\n",
    "(x_train, y_train), (x_test, y_test) = imdb.load_data(num_words=vocab_size) # vocab_size is no.of words to consider from the dataset, ordering based on frequency."
   ]
  },
  {
   "cell_type": "code",
   "execution_count": 15,
   "metadata": {
    "colab": {},
    "colab_type": "code",
    "id": "fCPC_WN-eCyw"
   },
   "outputs": [],
   "source": [
    "from keras.preprocessing.sequence import pad_sequences\n",
    "vocab_size = 10000 #vocab size\n",
    "maxlen = 300  #number of word used from each review"
   ]
  },
  {
   "cell_type": "markdown",
   "metadata": {
    "colab_type": "text",
    "id": "qMEsHYrWxdtk"
   },
   "source": [
    "## Train test split"
   ]
  },
  {
   "cell_type": "code",
   "execution_count": 16,
   "metadata": {
    "colab": {},
    "colab_type": "code",
    "id": "h0g381XzeCyz"
   },
   "outputs": [],
   "source": [
    "#load dataset as a list of ints\n",
    "(x_train, y_train), (x_test, y_test) = imdb.load_data(num_words=vocab_size)\n",
    "#make all sequences of the same length\n",
    "x_train = pad_sequences(x_train, maxlen=maxlen)\n",
    "x_test =  pad_sequences(x_test, maxlen=maxlen)"
   ]
  },
  {
   "cell_type": "code",
   "execution_count": 17,
   "metadata": {
    "colab": {},
    "colab_type": "code",
    "id": "Jy6n-uM2eCy2"
   },
   "outputs": [
    {
     "name": "stdout",
     "output_type": "stream",
     "text": [
      "x_train shape:  (25000, 300)\n",
      "y_train shape:  (25000,)\n",
      "x_test shape:  (25000, 300)\n",
      "y_test shape:  (25000,)\n"
     ]
    }
   ],
   "source": [
    "# checking the dataset shape\n",
    "print(\"x_train shape: \", x_train.shape)\n",
    "print(\"y_train shape: \", y_train.shape)\n",
    "print(\"x_test shape: \", x_test.shape)\n",
    "print(\"y_test shape: \", y_test.shape)"
   ]
  },
  {
   "cell_type": "code",
   "execution_count": 18,
   "metadata": {
    "colab": {},
    "colab_type": "code",
    "id": "tZhMAgaNeCy5"
   },
   "outputs": [
    {
     "data": {
      "text/plain": [
       "array([1, 0, 0, 1, 0], dtype=int64)"
      ]
     },
     "execution_count": 18,
     "metadata": {},
     "output_type": "execute_result"
    }
   ],
   "source": [
    "# checking first five review \n",
    "y_train[0:5]"
   ]
  },
  {
   "cell_type": "markdown",
   "metadata": {
    "colab_type": "text",
    "id": "dybtUgUReCy8"
   },
   "source": [
    "## Build Keras Embedding Layer Model\n",
    "We can think of the Embedding layer as a dicionary that maps a index assigned to a word to a word vector. This layer is very flexible and can be used in a few ways:\n",
    "\n",
    "* The embedding layer can be used at the start of a larger deep learning model. \n",
    "* Also we could load pre-train word embeddings into the embedding layer when we create our model.\n",
    "* Use the embedding layer to train our own word2vec models.\n",
    "\n",
    "The keras embedding layer doesn't require us to onehot encode our words, instead we have to give each word a unqiue intger number as an id. For the imdb dataset we've loaded this has already been done, but if this wasn't the case we could use sklearn [LabelEncoder](http://scikit-learn.org/stable/modules/generated/sklearn.preprocessing.LabelEncoder.html)."
   ]
  },
  {
   "cell_type": "code",
   "execution_count": 19,
   "metadata": {
    "colab": {},
    "colab_type": "code",
    "id": "A5OLM4eBeCy9"
   },
   "outputs": [
    {
     "name": "stderr",
     "output_type": "stream",
     "text": [
      "A subdirectory or file model_checkpoints already exists.\n",
      "Error occurred while processing: model_checkpoints.\n",
      "A subdirectory or file # already exists.\n",
      "Error occurred while processing: #.\n",
      "A subdirectory or file folder already exists.\n",
      "Error occurred while processing: folder.\n",
      "A subdirectory or file for already exists.\n",
      "Error occurred while processing: for.\n",
      "A subdirectory or file saving already exists.\n",
      "Error occurred while processing: saving.\n",
      "A subdirectory or file checkpoints already exists.\n",
      "Error occurred while processing: checkpoints.\n",
      "A subdirectory or file models already exists.\n",
      "Error occurred while processing: models.\n",
      "A subdirectory or file # already exists.\n",
      "Error occurred while processing: #.\n",
      "A subdirectory or file folder already exists.\n",
      "Error occurred while processing: folder.\n",
      "A subdirectory or file for already exists.\n",
      "Error occurred while processing: for.\n",
      "A subdirectory or file saving already exists.\n",
      "Error occurred while processing: saving.\n",
      "A subdirectory or file models already exists.\n",
      "Error occurred while processing: models.\n",
      "A subdirectory or file for already exists.\n",
      "Error occurred while processing: for.\n",
      "A subdirectory or file future already exists.\n",
      "Error occurred while processing: future.\n",
      "A subdirectory or file use already exists.\n",
      "Error occurred while processing: use.\n",
      "A subdirectory or file cnf already exists.\n",
      "Error occurred while processing: cnf.\n",
      "A subdirectory or file # already exists.\n",
      "Error occurred while processing: #.\n",
      "A subdirectory or file folder already exists.\n",
      "Error occurred while processing: folder.\n",
      "A subdirectory or file for already exists.\n",
      "Error occurred while processing: for.\n",
      "A subdirectory or file saving already exists.\n",
      "Error occurred while processing: saving.\n",
      "A subdirectory or file models already exists.\n",
      "Error occurred while processing: models.\n",
      "A subdirectory or file for already exists.\n",
      "Error occurred while processing: for.\n",
      "A subdirectory or file future already exists.\n",
      "Error occurred while processing: future.\n",
      "A subdirectory or file use already exists.\n",
      "Error occurred while processing: use.\n"
     ]
    }
   ],
   "source": [
    "!mkdir model_checkpoints # folder for saving checkpoints\n",
    "!mkdir models # folder for saving models for future use\n",
    "!mkdir cnf # folder for saving models for future use"
   ]
  },
  {
   "cell_type": "code",
   "execution_count": 20,
   "metadata": {
    "colab": {},
    "colab_type": "code",
    "id": "TxNDNhrseCzA"
   },
   "outputs": [],
   "source": [
    "# utility fxn to plot model history and accuracy for each epoch\n",
    "def plot_model_history(model_history):\n",
    "    fig, axs = plt.subplots(1,2,figsize=(15,5))\n",
    "    # summarize history for accuracy\n",
    "    axs[0].plot(range(1,len(model_history.history['acc'])+1),model_history.history['acc'])\n",
    "    axs[0].plot(range(1,len(model_history.history['val_acc'])+1),model_history.history['val_acc'])\n",
    "    axs[0].set_title('Model Accuracy')\n",
    "    axs[0].set_ylabel('Accuracy')\n",
    "    axs[0].set_xlabel('Epoch')\n",
    "    axs[0].set_xticks(np.arange(1,len(model_history.history['acc'])+1),len(model_history.history['acc'])/10)\n",
    "    axs[0].legend(['train', 'val'], loc='best')\n",
    "    # summarize history for loss\n",
    "    axs[1].plot(range(1,len(model_history.history['loss'])+1),model_history.history['loss'])\n",
    "    axs[1].plot(range(1,len(model_history.history['val_loss'])+1),model_history.history['val_loss'])\n",
    "    axs[1].set_title('Model Loss')\n",
    "    axs[1].set_ylabel('Loss')\n",
    "    axs[1].set_xlabel('Epoch')\n",
    "    axs[1].set_xticks(np.arange(1,len(model_history.history['loss'])+1),len(model_history.history['loss'])/10)\n",
    "    axs[1].legend(['train', 'val'], loc='best')\n",
    "    plt.show()\n",
    "\n",
    "# callback utility fxn for tensorboard, Initializing Early stopping and Model chekpoint callbacks**\n",
    "# these fxn will be passed in model.fit \n",
    "def EarlyStopingModelCheckPoint():\n",
    "    #tensorboard = TensorBoard(log_dir=\".logs/{}\".format(time.time()))\n",
    "\n",
    "    #Adding Early stopping callback to the fit function is going to stop the training,\n",
    "    #if the val_loss is not going to change even '0.001' for more than 5 continous epochs\n",
    "\n",
    "    early_stopping = EarlyStopping(monitor='val_loss', min_delta=0.001, patience=3)\n",
    "\n",
    "    #Adding Model Checkpoint callback to the fit function is going to save the weights whenever val_loss achieves \n",
    "    # a new low value. Hence saving the best weights occurred during training\n",
    "\n",
    "    model_checkpoint =  ModelCheckpoint('model_checkpoints/checkpoint_{epoch:02d}_loss{val_loss:.4f}.h5',\n",
    "                                                               monitor='val_loss',\n",
    "                                                               verbose=1,\n",
    "                                                               save_best_only=True,\n",
    "                                                               save_weights_only=True,\n",
    "                                                               mode='auto',\n",
    "                                                               period=1)\n",
    "    return early_stopping, model_checkpoint\n",
    "\n",
    "review = ['Positive', 'Negative']\n",
    "\n",
    "def plot_cnf_matrix(cnf_matrix, name):\n",
    "    fig, ax = plt.subplots(1, figsize=(12,5))\n",
    "    ax = sns.heatmap(cnf_matrix, ax=ax, cmap=plt.cm.Greens, annot=True)\n",
    "    ax.set_xticklabels(review)\n",
    "    ax.set_yticklabels(review)\n",
    "    plt.title('Confusion Matrix')\n",
    "    plt.ylabel('True class')\n",
    "    plt.xlabel('Predicted class')\n",
    "    fig.savefig('cnf/{}.png'.format(name), dpi=300)\n",
    "    plt.show();\n",
    "    \n",
    "def get1D_y_predict(y_pred):\n",
    "    result = []\n",
    "    for i in range(len(y_pred)):\n",
    "        if(y_pred[i][0] > 0.50):\n",
    "            result.append(1)\n",
    "        else:\n",
    "            result.append(0)\n",
    "    return result"
   ]
  },
  {
   "cell_type": "code",
   "execution_count": 21,
   "metadata": {
    "colab": {},
    "colab_type": "code",
    "id": "L3CSVVPPeCzD"
   },
   "outputs": [
    {
     "name": "stdout",
     "output_type": "stream",
     "text": [
      "WARNING:tensorflow:From C:\\Users\\Public\\Anaconda3\\lib\\site-packages\\keras\\backend\\tensorflow_backend.py:74: The name tf.get_default_graph is deprecated. Please use tf.compat.v1.get_default_graph instead.\n",
      "\n",
      "WARNING:tensorflow:From C:\\Users\\Public\\Anaconda3\\lib\\site-packages\\keras\\backend\\tensorflow_backend.py:517: The name tf.placeholder is deprecated. Please use tf.compat.v1.placeholder instead.\n",
      "\n",
      "WARNING:tensorflow:From C:\\Users\\Public\\Anaconda3\\lib\\site-packages\\keras\\backend\\tensorflow_backend.py:4138: The name tf.random_uniform is deprecated. Please use tf.random.uniform instead.\n",
      "\n",
      "WARNING:tensorflow:From C:\\Users\\Public\\Anaconda3\\lib\\site-packages\\keras\\backend\\tensorflow_backend.py:133: The name tf.placeholder_with_default is deprecated. Please use tf.compat.v1.placeholder_with_default instead.\n",
      "\n",
      "WARNING:tensorflow:From C:\\Users\\Public\\Anaconda3\\lib\\site-packages\\keras\\backend\\tensorflow_backend.py:3445: calling dropout (from tensorflow.python.ops.nn_ops) with keep_prob is deprecated and will be removed in a future version.\n",
      "Instructions for updating:\n",
      "Please use `rate` instead of `keep_prob`. Rate should be set to `rate = 1 - keep_prob`.\n"
     ]
    }
   ],
   "source": [
    "# define the model\n",
    "model1 = Sequential()\n",
    "\n",
    "# Embedding layer\n",
    "model1.add(Embedding(vocab_size, 8, input_length=maxlen, name=\"embedding1\"))\n",
    "\n",
    "# Recurrent layer\n",
    "model1.add(\n",
    "    SimpleRNN(\n",
    "        1, return_sequences=False, dropout=0.1, name=\"simple_rnn1\"))\n",
    "\n",
    "# Output layer: binary output\n",
    "model1.add(Dense(1, activation='sigmoid', name=\"output\"))"
   ]
  },
  {
   "cell_type": "code",
   "execution_count": 22,
   "metadata": {},
   "outputs": [
    {
     "name": "stdout",
     "output_type": "stream",
     "text": [
      "WARNING:tensorflow:From C:\\Users\\Public\\Anaconda3\\lib\\site-packages\\keras\\optimizers.py:790: The name tf.train.Optimizer is deprecated. Please use tf.compat.v1.train.Optimizer instead.\n",
      "\n",
      "WARNING:tensorflow:From C:\\Users\\Public\\Anaconda3\\lib\\site-packages\\keras\\backend\\tensorflow_backend.py:3376: The name tf.log is deprecated. Please use tf.math.log instead.\n",
      "\n",
      "WARNING:tensorflow:From C:\\Users\\Public\\Anaconda3\\lib\\site-packages\\tensorflow\\python\\ops\\nn_impl.py:180: add_dispatch_support.<locals>.wrapper (from tensorflow.python.ops.array_ops) is deprecated and will be removed in a future version.\n",
      "Instructions for updating:\n",
      "Use tf.where in 2.0, which has the same broadcast rule as np.where\n"
     ]
    }
   ],
   "source": [
    "# compile the model\n",
    "model1.compile(optimizer='adam', loss='binary_crossentropy', metrics=['acc'])"
   ]
  },
  {
   "cell_type": "code",
   "execution_count": 23,
   "metadata": {},
   "outputs": [
    {
     "name": "stdout",
     "output_type": "stream",
     "text": [
      "_________________________________________________________________\n",
      "Layer (type)                 Output Shape              Param #   \n",
      "=================================================================\n",
      "embedding1 (Embedding)       (None, 300, 8)            80000     \n",
      "_________________________________________________________________\n",
      "simple_rnn1 (SimpleRNN)      (None, 1)                 10        \n",
      "_________________________________________________________________\n",
      "output (Dense)               (None, 1)                 2         \n",
      "=================================================================\n",
      "Total params: 80,012\n",
      "Trainable params: 80,012\n",
      "Non-trainable params: 0\n",
      "_________________________________________________________________\n",
      "None\n"
     ]
    }
   ],
   "source": [
    "# summarize the model\n",
    "print(model1.summary())"
   ]
  },
  {
   "cell_type": "code",
   "execution_count": 24,
   "metadata": {},
   "outputs": [
    {
     "name": "stdout",
     "output_type": "stream",
     "text": [
      "Train on 25000 samples, validate on 25000 samples\n",
      "Epoch 1/50\n",
      "25000/25000 [==============================] - 353s 14ms/step - loss: 0.5586 - acc: 0.7549 - val_loss: 0.6053 - val_acc: 0.6668\n",
      "\n",
      "Epoch 00001: val_loss improved from inf to 0.60530, saving model to model_checkpoints/checkpoint_01_loss0.6053.h5\n",
      "Epoch 2/50\n",
      "25000/25000 [==============================] - 232s 9ms/step - loss: 0.4721 - acc: 0.8144 - val_loss: 0.4623 - val_acc: 0.8164\n",
      "\n",
      "Epoch 00002: val_loss improved from 0.60530 to 0.46232, saving model to model_checkpoints/checkpoint_02_loss0.4623.h5\n",
      "Epoch 3/50\n",
      "25000/25000 [==============================] - 216s 9ms/step - loss: 0.4360 - acc: 0.8291 - val_loss: 0.4532 - val_acc: 0.8128\n",
      "\n",
      "Epoch 00003: val_loss improved from 0.46232 to 0.45319, saving model to model_checkpoints/checkpoint_03_loss0.4532.h5\n",
      "Epoch 4/50\n",
      "25000/25000 [==============================] - 252s 10ms/step - loss: 0.4142 - acc: 0.8365 - val_loss: 0.4526 - val_acc: 0.8064\n",
      "\n",
      "Epoch 00004: val_loss improved from 0.45319 to 0.45262, saving model to model_checkpoints/checkpoint_04_loss0.4526.h5\n",
      "Epoch 5/50\n",
      "25000/25000 [==============================] - 224s 9ms/step - loss: 0.3697 - acc: 0.8602 - val_loss: 0.4482 - val_acc: 0.8068\n",
      "\n",
      "Epoch 00005: val_loss improved from 0.45262 to 0.44816, saving model to model_checkpoints/checkpoint_05_loss0.4482.h5\n",
      "Epoch 6/50\n",
      "25000/25000 [==============================] - 226s 9ms/step - loss: 0.3383 - acc: 0.8746 - val_loss: 0.4489 - val_acc: 0.8066\n",
      "\n",
      "Epoch 00006: val_loss did not improve from 0.44816\n",
      "Epoch 7/50\n",
      "25000/25000 [==============================] - 244s 10ms/step - loss: 0.3316 - acc: 0.8753 - val_loss: 0.4579 - val_acc: 0.8019\n",
      "\n",
      "Epoch 00007: val_loss did not improve from 0.44816\n",
      "Epoch 8/50\n",
      "25000/25000 [==============================] - 245s 10ms/step - loss: 0.3204 - acc: 0.8808 - val_loss: 0.4776 - val_acc: 0.7983\n",
      "\n",
      "Epoch 00008: val_loss did not improve from 0.44816\n"
     ]
    }
   ],
   "source": [
    "# fit the model\n",
    "early_stopping,model_checkpoint = EarlyStopingModelCheckPoint()\n",
    "\n",
    "history1 = model1.fit(x_train, y_train, \n",
    "                    validation_data=(x_test, y_test),\n",
    "                    epochs=50,\n",
    "                    batch_size=64, # Number of observations per batch\n",
    "                    verbose=1, # Print description after each epoch\n",
    "                    callbacks=[early_stopping,model_checkpoint])"
   ]
  },
  {
   "cell_type": "code",
   "execution_count": 25,
   "metadata": {},
   "outputs": [
    {
     "data": {
      "image/png": "[encoded data removed]",
      "text/plain": [
       "<Figure size 1080x360 with 2 Axes>"
      ]
     },
     "metadata": {
      "needs_background": "light"
     },
     "output_type": "display_data"
    }
   ],
   "source": [
    "# plot model history\n",
    "plot_model_history(history1)"
   ]
  },
  {
   "cell_type": "code",
   "execution_count": 26,
   "metadata": {},
   "outputs": [
    {
     "name": "stdout",
     "output_type": "stream",
     "text": [
      "25000/25000 [==============================] - 166s 7ms/step\n",
      "\n",
      "Experiment1: Accuracy: 79.83\n"
     ]
    }
   ],
   "source": [
    "# compute accuracy for validation dataset\n",
    "val_loss1, val_acc1 = model1.evaluate(x_test, y_test, verbose=1)\n",
    "print('\\nExperiment1: Accuracy: %0.2f' %(val_acc1*100))"
   ]
  },
  {
   "cell_type": "code",
   "execution_count": 27,
   "metadata": {},
   "outputs": [
    {
     "name": "stdout",
     "output_type": "stream",
     "text": [
      "Classification Report: \n",
      "\n",
      "               precision    recall  f1-score   support\n",
      "\n",
      "           0       0.77      0.86      0.81     12500\n",
      "           1       0.84      0.74      0.78     12500\n",
      "\n",
      "    accuracy                           0.80     25000\n",
      "   macro avg       0.80      0.80      0.80     25000\n",
      "weighted avg       0.80      0.80      0.80     25000\n",
      "\n"
     ]
    }
   ],
   "source": [
    "# predict test data and get classification report\n",
    "y_pred1 = model1.predict(x_test)\n",
    "ypred1 = get1D_y_predict(y_pred1)\n",
    "\n",
    "# classification report with model acciracy and F1 score\n",
    "cr1 = metrics.classification_report(y_test,ypred1)\n",
    "print(\"Classification Report: \\n\\n\", cr1)"
   ]
  },
  {
   "cell_type": "code",
   "execution_count": 28,
   "metadata": {},
   "outputs": [],
   "source": [
    "# Save model and weights for future use. \n",
    "model1.save('models/exp1_model.h5')\n",
    "model1.save_weights('exp1_weights.h5')"
   ]
  },
  {
   "cell_type": "code",
   "execution_count": 32,
   "metadata": {},
   "outputs": [
    {
     "data": {
      "image/png": "[encoded data removed]",
      "text/plain": [
       "<Figure size 864x360 with 2 Axes>"
      ]
     },
     "metadata": {
      "needs_background": "light"
     },
     "output_type": "display_data"
    }
   ],
   "source": [
    "# confusion matrix\n",
    "cm3 = metrics.confusion_matrix(y_test, ypred1)\n",
    "plot_cnf_matrix(cm3, \"exp3_cm\")"
   ]
  },
  {
   "cell_type": "markdown",
   "metadata": {
    "colab_type": "text",
    "id": "Igq8Qm8GeCzG"
   },
   "source": [
    "## Retrive the output of each layer in keras for a given single test sample from the trained model you built"
   ]
  },
  {
   "cell_type": "code",
   "execution_count": 33,
   "metadata": {
    "colab": {},
    "colab_type": "code",
    "id": "0AqOnLa2eCzH"
   },
   "outputs": [],
   "source": [
    "from keras.models import load_model\n",
    "model = load_model('models/exp1_model.h5')"
   ]
  },
  {
   "cell_type": "code",
   "execution_count": 34,
   "metadata": {
    "colab": {},
    "colab_type": "code",
    "id": "-dUDSg7VeCzM"
   },
   "outputs": [
    {
     "name": "stdout",
     "output_type": "stream",
     "text": [
      "_________________________________________________________________\n",
      "Layer (type)                 Output Shape              Param #   \n",
      "=================================================================\n",
      "embedding1 (Embedding)       (None, 300, 8)            80000     \n",
      "_________________________________________________________________\n",
      "simple_rnn1 (SimpleRNN)      (None, 1)                 10        \n",
      "_________________________________________________________________\n",
      "output (Dense)               (None, 1)                 2         \n",
      "=================================================================\n",
      "Total params: 80,012\n",
      "Trainable params: 80,012\n",
      "Non-trainable params: 0\n",
      "_________________________________________________________________\n"
     ]
    }
   ],
   "source": [
    "model.summary()"
   ]
  },
  {
   "cell_type": "code",
   "execution_count": 35,
   "metadata": {
    "colab": {},
    "colab_type": "code",
    "id": "Tskt_1npeCzP"
   },
   "outputs": [],
   "source": [
    "from keras import backend as K\n",
    "\n",
    "inp = model.input                               # input placeholder\n",
    "outputs = [layer.output for layer in model.layers ]          # all layer outputs\n",
    "functors = [K.function([inp, K.learning_phase()], [out]) for out in outputs]    # evaluation functions"
   ]
  },
  {
   "cell_type": "code",
   "execution_count": 36,
   "metadata": {},
   "outputs": [
    {
     "name": "stdout",
     "output_type": "stream",
     "text": [
      "\n",
      "Layer name: embedding1, Shape: (300, 8): \n",
      "Layer output\n",
      "[[ 0.00203719  0.03755599  0.00095761 ...  0.05155735  0.04745995\n",
      "   0.01487463]\n",
      " [ 0.00203719  0.03755599  0.00095761 ...  0.05155735  0.04745995\n",
      "   0.01487463]\n",
      " [ 0.00203719  0.03755599  0.00095761 ...  0.05155735  0.04745995\n",
      "   0.01487463]\n",
      " ...\n",
      " [ 0.00120711 -0.0140387  -0.00928267 ... -0.00145953 -0.02471307\n",
      "   0.04000523]\n",
      " [ 0.01005122 -0.04690026 -0.01622277 ...  0.0195183   0.06434371\n",
      "   0.03296579]\n",
      " [-0.05817852 -0.06459054 -0.05457132 ...  0.00400955 -0.00482264\n",
      "  -0.00979416]]\n",
      "\n",
      "Layer name: simple_rnn1, Shape: (1,): \n",
      "Layer output\n",
      "[0.5663294]\n",
      "\n",
      "Layer name: output, Shape: (1,): \n",
      "Layer output\n",
      "[0.10430717]\n"
     ]
    }
   ],
   "source": [
    "# getting outpur at each layer for test sample\n",
    "\n",
    "sample_pos = 100  # btw 0~24999\n",
    "testSample = x_test[sample_pos][np.newaxis,...] # get the test sample\n",
    "\n",
    "layer_outs = [func([testSample, 1.]) for func in functors] # get the output at each layer for the test sample\n",
    "\n",
    "# print output at each layer\n",
    "for idx, layer in enumerate(model.layers):\n",
    "    print(\"\\nLayer name: {}, Shape: {}: \".format(layer.name, layer_outs[idx][0][0].shape))\n",
    "    print(\"Layer output\")\n",
    "    print(layer_outs[idx][0][0])"
   ]
  },
  {
   "cell_type": "code",
   "execution_count": 39,
   "metadata": {},
   "outputs": [
    {
     "data": {
      "text/plain": [
       "<matplotlib.axes._subplots.AxesSubplot at 0x1b9b97ecb70>"
      ]
     },
     "execution_count": 39,
     "metadata": {},
     "output_type": "execute_result"
    },
    {
     "data": {
      "image/png": "[encoded data removed]",
      "text/plain": [
       "<Figure size 432x288 with 1 Axes>"
      ]
     },
     "metadata": {
      "needs_background": "light"
     },
     "output_type": "display_data"
    }
   ],
   "source": [
    "# comparing validation accuracy of all the experiments\n",
    "models = [\"Emb+S-RNN\"]\n",
    "model_acc = [val_acc1]\n",
    "sns.barplot(x=models, y=model_acc)"
   ]
  },
  {
   "cell_type": "code",
   "execution_count": null,
   "metadata": {},
   "outputs": [],
   "source": []
  }
 ],
 "metadata": {
  "accelerator": "GPU",
  "colab": {
   "collapsed_sections": [],
   "name": "SeqNLP_Project1_Questions.ipynb",
   "provenance": [],
   "version": "0.3.2"
  },
  "kernelspec": {
   "display_name": "Python 3",
   "language": "python",
   "name": "python3"
  },
  "language_info": {
   "codemirror_mode": {
    "name": "ipython",
    "version": 3
   },
   "file_extension": ".py",
   "mimetype": "text/x-python",
   "name": "python",
   "nbconvert_exporter": "python",
   "pygments_lexer": "ipython3",
   "version": "3.7.3"
  }
 },
 "nbformat": 4,
 "nbformat_minor": 1
}
