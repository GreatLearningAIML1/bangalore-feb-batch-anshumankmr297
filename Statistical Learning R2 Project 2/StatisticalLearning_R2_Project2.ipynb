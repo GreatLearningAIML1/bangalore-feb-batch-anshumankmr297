{
 "cells": [
  {
   "cell_type": "code",
   "execution_count": 49,
   "metadata": {},
   "outputs": [],
   "source": [
    "import pandas as pd\n",
    "from scipy.stats import ttest_ind"
   ]
  },
  {
   "cell_type": "code",
   "execution_count": 50,
   "metadata": {},
   "outputs": [],
   "source": [
    "df = pd.read_csv(\"data.csv\")"
   ]
  },
  {
   "cell_type": "code",
   "execution_count": 51,
   "metadata": {},
   "outputs": [],
   "source": [
    "#Question 1 : Find the mean of old scheme and new scheme column. (5 points)"
   ]
  },
  {
   "cell_type": "code",
   "execution_count": 52,
   "metadata": {},
   "outputs": [
    {
     "name": "stdout",
     "output_type": "stream",
     "text": [
      "The old scheme mean is 68.03333333333333. The new scheme mean is 72.03333333333333\n"
     ]
    }
   ],
   "source": [
    "#Answer 1 \n",
    "oldSchemeMean = df[\"Old Scheme (in thousands)\"].mean()\n",
    "newSchemeMean = df[\"New Scheme (in thousands)\"].mean()\n",
    "print(\"The old scheme mean is {}. The new scheme mean is {}\".format(oldSchemeMean,newSchemeMean))\n"
   ]
  },
  {
   "cell_type": "code",
   "execution_count": 53,
   "metadata": {},
   "outputs": [],
   "source": [
    "#Question 2 Use the five percent significance test over the data to determine the p value to check new scheme has significantly raised outputs? (10 points)"
   ]
  },
  {
   "cell_type": "code",
   "execution_count": 54,
   "metadata": {},
   "outputs": [
    {
     "name": "stdout",
     "output_type": "stream",
     "text": [
      "The p value of 0.49063515686248105, which is greater than 0.05 signifies that the new mean is greater than the older mean. Hence the new scheme has raised the output and is significant\n"
     ]
    }
   ],
   "source": [
    "#Answer 2 \n",
    "stat, p = ttest_ind(df[\"Old Scheme (in thousands)\"], df[\"New Scheme (in thousands)\"])\n",
    "#fail to reject null hypothesis, the data is from same distribution\n",
    "print(\"The p value of {}, which is greater than 0.05 signifies that the new mean is greater than the older mean. Hence the new scheme has raised the output and is significant\".format(p))"
   ]
  },
  {
   "cell_type": "code",
   "execution_count": 55,
   "metadata": {},
   "outputs": [],
   "source": [
    "#Question 3 : What conclusion does the test (p-value) lead to? (2.5 points)"
   ]
  },
  {
   "cell_type": "code",
   "execution_count": 56,
   "metadata": {},
   "outputs": [
    {
     "name": "stdout",
     "output_type": "stream",
     "text": [
      "The p value of 0.49063515686248105, which is greater than 0.05 signifies that there is approximately 49% chance that there is difference between the two samples. In this case the null hypothesis is not rejected.\n"
     ]
    }
   ],
   "source": [
    "#Answer 3\n",
    "print(\"The p value of {}, which is greater than 0.05 signifies that there is approximately 49% chance that there is difference between the two samples. In this case the null hypothesis is not rejected.\".format(p))"
   ]
  },
  {
   "cell_type": "code",
   "execution_count": 57,
   "metadata": {},
   "outputs": [],
   "source": [
    "#Question 4 Suppose it has been calculated that in order for Titan to break even, \n",
    "#the average output must increase by £5000 in the scheme compared to the old scheme. \n",
    "#If this figure is alternative hypothesis, what is:"
   ]
  },
  {
   "cell_type": "code",
   "execution_count": 58,
   "metadata": {},
   "outputs": [
    {
     "name": "stdout",
     "output_type": "stream",
     "text": [
      "The probability of Type 1 error is 48.33553606070281\n"
     ]
    }
   ],
   "source": [
    "#a) The probability of a type 1 error? (2.5 points)\n",
    "from scipy import stats\n",
    "import numpy as np\n",
    "t_score = stats.ttest_ind_from_stats(mean1 = oldSchemeMean, std1=np.std(df[\"Old Scheme (in thousands)\"]), nobs1=df[\"Old Scheme (in thousands)\"].count(),mean2 = newSchemeMean, std2=np.std(df[\"New Scheme (in thousands)\"]), nobs2=df[\"New Scheme (in thousands)\"].count(), equal_var=False)\n",
    "print(\"The probability of Type 1 error is {}\".format(t_score.pvalue*100))"
   ]
  },
  {
   "cell_type": "code",
   "execution_count": 59,
   "metadata": {},
   "outputs": [
    {
     "name": "stdout",
     "output_type": "stream",
     "text": [
      "The p value for the hypothesis test is 0.13057553961337662\n"
     ]
    }
   ],
   "source": [
    "#b) What is the p- value of the hypothesis test if we test for a difference of $5000? (5 points)\n",
    "from scipy import stats\n",
    "hypotestres = stats.ttest_rel(df[\"Old Scheme (in thousands)\"], df[\"New Scheme (in thousands)\"], axis=0)\n",
    "print(\"The p value for the hypothesis test is {}\".format(hypotestres.pvalue))"
   ]
  },
  {
   "cell_type": "code",
   "execution_count": 60,
   "metadata": {},
   "outputs": [],
   "source": [
    "# c) Power of the test (5 points)\n"
   ]
  },
  {
   "cell_type": "code",
   "execution_count": 70,
   "metadata": {},
   "outputs": [
    {
     "name": "stdout",
     "output_type": "stream",
     "text": [
      "the power of the test is 1.3956282840374723\n"
     ]
    }
   ],
   "source": [
    "#Finding the diff between new sceme minus old scheme\n",
    "#Calculating the z = (x – μ) / σ type II error, which can then be subtracted from 1 to get the power.\n",
    "from scipy.stats import t\n",
    "schemediff = df[\"New Scheme (in thousands)\"] - df[\"Old Scheme (in thousands)\"]\n",
    "n = schemediff.count()\n",
    "SE = np.std(schemediff)/np.sqrt(n)\n",
    "degfreedom = n-1\n",
    "x_bar = schemediff.mean()\n",
    "ztest = (x_bar - 5)/SE\n",
    "print(\"the power of the test is {}\".format(1-ztest))"
   ]
  },
  {
   "cell_type": "code",
   "execution_count": null,
   "metadata": {},
   "outputs": [],
   "source": []
  },
  {
   "cell_type": "code",
   "execution_count": null,
   "metadata": {},
   "outputs": [],
   "source": []
  },
  {
   "cell_type": "code",
   "execution_count": null,
   "metadata": {},
   "outputs": [],
   "source": []
  },
  {
   "cell_type": "code",
   "execution_count": null,
   "metadata": {},
   "outputs": [],
   "source": []
  }
 ],
 "metadata": {
  "kernelspec": {
   "display_name": "Python 3",
   "language": "python",
   "name": "python3"
  },
  "language_info": {
   "codemirror_mode": {
    "name": "ipython",
    "version": 3
   },
   "file_extension": ".py",
   "mimetype": "text/x-python",
   "name": "python",
   "nbconvert_exporter": "python",
   "pygments_lexer": "ipython3",
   "version": "3.7.1"
  }
 },
 "nbformat": 4,
 "nbformat_minor": 2
}
