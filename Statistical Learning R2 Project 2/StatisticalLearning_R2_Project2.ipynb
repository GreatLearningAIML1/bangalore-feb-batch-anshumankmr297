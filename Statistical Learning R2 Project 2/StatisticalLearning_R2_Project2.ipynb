{
 "cells": [
  {
   "cell_type": "code",
   "execution_count": 173,
   "metadata": {},
   "outputs": [],
   "source": [
    "import pandas as pd\n",
    "from scipy.stats import ttest_1samp"
   ]
  },
  {
   "cell_type": "code",
   "execution_count": 174,
   "metadata": {},
   "outputs": [],
   "source": [
    "df = pd.read_csv(\"data.csv\")"
   ]
  },
  {
   "cell_type": "code",
   "execution_count": 175,
   "metadata": {},
   "outputs": [],
   "source": [
    "#Question 1 : Find the mean of old scheme and new scheme column. (5 points)"
   ]
  },
  {
   "cell_type": "code",
   "execution_count": 176,
   "metadata": {},
   "outputs": [
    {
     "name": "stdout",
     "output_type": "stream",
     "text": [
      "The old scheme mean is 68.03333333333333. The new scheme mean is 72.03333333333333\n"
     ]
    }
   ],
   "source": [
    "#Answer 1 \n",
    "oldSchemeMean = df[\"Old Scheme (in thousands)\"].mean()\n",
    "newSchemeMean = df[\"New Scheme (in thousands)\"].mean()\n",
    "print(\"The old scheme mean is {}. The new scheme mean is {}\".format(oldSchemeMean,newSchemeMean))\n"
   ]
  },
  {
   "cell_type": "code",
   "execution_count": 177,
   "metadata": {},
   "outputs": [],
   "source": [
    "#Question 2 Use the five percent significance test over the data to determine the p value to check new scheme has significantly raised outputs? (10 points)"
   ]
  },
  {
   "cell_type": "code",
   "execution_count": 178,
   "metadata": {},
   "outputs": [
    {
     "name": "stdout",
     "output_type": "stream",
     "text": [
      "The p value of 0.06528776980668831, which is greater than 0.05 signifies that the new mean is greater than the older mean. Hence the new scheme has raised the output and is significant.\n",
      "The tstat value is 1.5559143823544377\n"
     ]
    }
   ],
   "source": [
    "#Answer 2 \n",
    "diffOfScheme = df[\"New Scheme (in thousands)\"] - df[\"Old Scheme (in thousands)\"];\n",
    "stat, p = ttest_1samp(diffOfScheme,0)\n",
    "#fail to reject null hypothesis, the data is from same distribution\n",
    "print(\"The p value of {}, which is greater than 0.05 signifies that the new mean is greater than the older mean. Hence the new scheme has raised the output and is significant.\".format(p/2))\n",
    "print(\"The tstat value is {}\".format(stat))"
   ]
  },
  {
   "cell_type": "code",
   "execution_count": 179,
   "metadata": {},
   "outputs": [],
   "source": [
    "#Question 3 : What conclusion does the test (p-value) lead to? (2.5 points)"
   ]
  },
  {
   "cell_type": "code",
   "execution_count": 180,
   "metadata": {},
   "outputs": [
    {
     "name": "stdout",
     "output_type": "stream",
     "text": [
      "The p value of 0.06528776980668831, which is greater than 0.05 signifies that there is approximately 6.5% chance that there is difference between the two samples. In this case the null hypothesis is not rejected.\n"
     ]
    }
   ],
   "source": [
    "#Answer 3\n",
    "print(\"The p value of {}, which is greater than 0.05 signifies that there is approximately 6.5% chance that there is difference between the two samples. In this case the null hypothesis is not rejected.\".format(p/2))\n",
    "# Since pval (0.1305) > alpla (0.05) , therefore null hypothesis is not rejected.\n",
    "#Also from the T table the value for the degree of freedom 29 and one tail probability of 0.05 shows the t critical value to be 1.699\n",
    "#This signifies that the output is raised but not very significantly."
   ]
  },
  {
   "cell_type": "code",
   "execution_count": 181,
   "metadata": {},
   "outputs": [],
   "source": [
    "#Question 4 Suppose it has been calculated that in order for Titan to break even, \n",
    "#the average output must increase by £5000 in the scheme compared to the old scheme. \n",
    "#If this figure is alternative hypothesis, what is:"
   ]
  },
  {
   "cell_type": "code",
   "execution_count": 182,
   "metadata": {},
   "outputs": [
    {
     "name": "stdout",
     "output_type": "stream",
     "text": [
      "Probability of Type I error = significant level = 0.05 or 5%\n"
     ]
    }
   ],
   "source": [
    "#a) The probability of a type 1 error? (2.5 points)\n",
    "print(\"Probability of Type I error = significant level = 0.05 or 5%\")"
   ]
  },
  {
   "cell_type": "code",
   "execution_count": 183,
   "metadata": {},
   "outputs": [
    {
     "name": "stdout",
     "output_type": "stream",
     "text": [
      "The p value for the hypothesis test is 0.3500667456306643\n",
      "The t statistic value is -0.3889785955886094\n"
     ]
    }
   ],
   "source": [
    "#b) What is the p- value of the hypothesis test if we test for a difference of $5000? (5 points)\n",
    "from scipy import stats\n",
    "t_statistic,pvalue = ttest_1samp(df[\"New Scheme (in thousands)\"] - df[\"Old Scheme (in thousands)\"],5)\n",
    "print(\"The p value for the hypothesis test is {}\".format(pvalue/2))\n",
    "print(\"The t statistic value is {}\".format(t_statistic))"
   ]
  },
  {
   "cell_type": "code",
   "execution_count": 184,
   "metadata": {},
   "outputs": [],
   "source": [
    "# c) Power of the test (5 points)"
   ]
  },
  {
   "cell_type": "code",
   "execution_count": 185,
   "metadata": {},
   "outputs": [
    {
     "name": "stdout",
     "output_type": "stream",
     "text": [
      "Th value of ztest is -0.27914142018736116\n",
      "the power of the test is 0.6064\n"
     ]
    }
   ],
   "source": [
    "#Finding the diff between new sceme minus old scheme\n",
    "#Calculating the z = (x – μ) / σ type II error, which can then be subtracted from 1 to get the power.\n",
    "#from scipy.stats import t\n",
    "from scipy.stats import norm\n",
    "schemediff = df[\"New Scheme (in thousands)\"] - df[\"Old Scheme (in thousands)\"]\n",
    "n = schemediff.count()\n",
    "SE = np.std(schemediff)/np.sqrt(n)\n",
    "t_critical = 1.699\n",
    "#degfreedom = n-1\n",
    "#x_bar = mu0+ t_critical * SE\n",
    "#Null hypothesis is true at mu0 = 0\n",
    "x_bar = 0 + 1.699 * SE\n",
    "#ztest = (x_bar - 5)/SE\n",
    "ztest = (x_bar-5)/SE\n",
    "print(\"Th value of ztest is {}\".format(ztest))\n",
    "#Finding Probability when beta = P(ztest = -0.279) from the table\n",
    "beta = 0.3936\n",
    "print(\"the power of the test is {}\".format(1-beta))"
   ]
  },
  {
   "cell_type": "code",
   "execution_count": null,
   "metadata": {},
   "outputs": [],
   "source": []
  }
 ],
 "metadata": {
  "kernelspec": {
   "display_name": "Python 3",
   "language": "python",
   "name": "python3"
  },
  "language_info": {
   "codemirror_mode": {
    "name": "ipython",
    "version": 3
   },
   "file_extension": ".py",
   "mimetype": "text/x-python",
   "name": "python",
   "nbconvert_exporter": "python",
   "pygments_lexer": "ipython3",
   "version": "3.7.1"
  }
 },
 "nbformat": 4,
 "nbformat_minor": 2
}
