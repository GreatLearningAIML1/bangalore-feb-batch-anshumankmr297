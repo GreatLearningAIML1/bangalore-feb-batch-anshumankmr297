{
 "cells": [
  {
   "cell_type": "code",
   "execution_count": 46,
   "metadata": {
    "colab": {},
    "colab_type": "code",
    "id": "tgurv7cNHunL",
    "scrolled": false
   },
   "outputs": [],
   "source": [
    "import warnings \n",
    "warnings.filterwarnings('ignore')"
   ]
  },
  {
   "cell_type": "markdown",
   "metadata": {
    "colab_type": "text",
    "id": "rrfjYa2HHunT"
   },
   "source": [
    "## K-Nearest-Neighbors"
   ]
  },
  {
   "cell_type": "markdown",
   "metadata": {
    "colab_type": "text",
    "id": "Apk3bnmwHunW"
   },
   "source": [
    "KNN falls in the supervised learning family of algorithms. Informally, this means that we are given a labelled dataset consiting of training observations (x,y) and would like to capture the relationship between x and y. More formally, our goal is to learn a function h:X→Y so that given an unseen observation x, h(x) can confidently predict the corresponding output y.\n",
    "\n",
    "In this module we will explore the inner workings of KNN, choosing the optimal K values and using KNN from scikit-learn."
   ]
  },
  {
   "cell_type": "markdown",
   "metadata": {
    "colab_type": "text",
    "id": "mezpuK1ZHunX"
   },
   "source": [
    "## Overview\n",
    "\n",
    "1.Read the problem statement.\n",
    "\n",
    "2.Get the dataset.\n",
    "\n",
    "3.Explore the dataset.\n",
    "\n",
    "4.Pre-processing of dataset.\n",
    "\n",
    "5.Visualization\n",
    "\n",
    "6.Transform the dataset for building machine learning model.\n",
    "\n",
    "7.Split data into train, test set.\n",
    "\n",
    "7.Build Model.\n",
    "\n",
    "8.Apply the model.\n",
    "\n",
    "9.Evaluate the model.\n",
    "\n",
    "10.Finding Optimal K value\n",
    "\n",
    "11.Repeat 7,8,9 steps."
   ]
  },
  {
   "cell_type": "markdown",
   "metadata": {
    "colab_type": "text",
    "id": "6SA8iHIbHunZ"
   },
   "source": [
    "## Problem statement\n",
    "\n",
    "### Dataset\n",
    "\n",
    "The data set we’ll be using is the Iris Flower Dataset which was first introduced in 1936 by the famous statistician Ronald Fisher and consists of 50 observations from each of three species of Iris (Iris setosa, Iris virginica and Iris versicolor). Four features were measured from each sample: the length and the width of the sepals and petals.\n",
    "\n",
    "**Attributes of the dataset:** https://archive.ics.uci.edu/ml/datasets/Iris\n",
    "\n",
    "**Train the KNN algorithm to be able to distinguish the species from one another given the measurements of the 4 features.**"
   ]
  },
  {
   "cell_type": "code",
   "execution_count": 47,
   "metadata": {},
   "outputs": [],
   "source": [
    "import pandas as pd\n",
    "import matplotlib.pyplot as plt\n",
    "import numpy as np\n",
    "from sklearn.model_selection import train_test_split\n",
    "from sklearn.neighbors import KNeighborsClassifier\n",
    "from sklearn import metrics\n",
    "import matplotlib.pyplot as plt\n",
    "from sklearn.naive_bayes import MultinomialNB\n",
    "import seaborn as sb\n",
    "from scipy.stats import zscore"
   ]
  },
  {
   "cell_type": "markdown",
   "metadata": {
    "colab_type": "text",
    "id": "-wa55vNkHuna"
   },
   "source": [
    "## Question 1\n",
    "\n",
    "Import the data set and print 10 random rows from the data set"
   ]
  },
  {
   "cell_type": "code",
   "execution_count": 48,
   "metadata": {
    "colab": {},
    "colab_type": "code",
    "id": "sRB61Z9rHunc"
   },
   "outputs": [
    {
     "name": "stdout",
     "output_type": "stream",
     "text": [
      "   sepal length  sepal width  petal length  petal width        class\n",
      "0           5.1          3.5           1.4          0.2  Iris-setosa\n",
      "1           4.9          3.0           1.4          0.2  Iris-setosa\n",
      "2           4.7          3.2           1.3          0.2  Iris-setosa\n",
      "3           4.6          3.1           1.5          0.2  Iris-setosa\n",
      "4           5.0          3.6           1.4          0.2  Iris-setosa\n",
      "5           5.4          3.9           1.7          0.4  Iris-setosa\n",
      "6           4.6          3.4           1.4          0.3  Iris-setosa\n",
      "7           5.0          3.4           1.5          0.2  Iris-setosa\n",
      "8           4.4          2.9           1.4          0.2  Iris-setosa\n",
      "9           4.9          3.1           1.5          0.1  Iris-setosa\n"
     ]
    }
   ],
   "source": [
    "colnames = ['sepal length', 'sepal width', 'petal length', 'petal width', 'class']\n",
    "iris_df = pd.read_csv(\"iris.data\", names=colnames)\n",
    "print(iris_df.head(10))"
   ]
  },
  {
   "cell_type": "markdown",
   "metadata": {
    "colab_type": "text",
    "id": "b9C0p94MHunh"
   },
   "source": [
    "## Data Pre-processing"
   ]
  },
  {
   "cell_type": "markdown",
   "metadata": {
    "colab_type": "text",
    "id": "jGECp-6FHunj"
   },
   "source": [
    "## Question 2 - Estimating missing values\n",
    "\n",
    "*Its not good to remove the records having missing values all the time. We may end up loosing some data points. So, we will have to see how to replace those missing values with some estimated values (median) *"
   ]
  },
  {
   "cell_type": "code",
   "execution_count": 49,
   "metadata": {
    "colab": {},
    "colab_type": "code",
    "id": "O_dYSD1zHunl"
   },
   "outputs": [
    {
     "name": "stdout",
     "output_type": "stream",
     "text": [
      "The below functions helps us to identify if there is a null value in the data frame.\n",
      "<class 'pandas.core.frame.DataFrame'>\n",
      "RangeIndex: 150 entries, 0 to 149\n",
      "Data columns (total 5 columns):\n",
      "sepal length    150 non-null float64\n",
      "sepal width     150 non-null float64\n",
      "petal length    150 non-null float64\n",
      "petal width     150 non-null float64\n",
      "class           150 non-null object\n",
      "dtypes: float64(4), object(1)\n",
      "memory usage: 5.9+ KB\n",
      "None\n"
     ]
    }
   ],
   "source": [
    "print(\"The below functions helps us to identify if there is a null value in the data frame.\")\n",
    "print(iris_df.info())"
   ]
  },
  {
   "cell_type": "markdown",
   "metadata": {
    "colab_type": "text",
    "id": "Lzf0ZdGMHunq"
   },
   "source": [
    "## Question 3 - Dealing with categorical data\n",
    "\n",
    "Change all the classes to numericals (0to2)."
   ]
  },
  {
   "cell_type": "code",
   "execution_count": 50,
   "metadata": {
    "colab": {},
    "colab_type": "code",
    "id": "C6rpSp2yHuns"
   },
   "outputs": [
    {
     "name": "stdout",
     "output_type": "stream",
     "text": [
      "     sepal length  sepal width  petal length  petal width           class  \\\n",
      "0             5.1          3.5           1.4          0.2     Iris-setosa   \n",
      "1             4.9          3.0           1.4          0.2     Iris-setosa   \n",
      "2             4.7          3.2           1.3          0.2     Iris-setosa   \n",
      "3             4.6          3.1           1.5          0.2     Iris-setosa   \n",
      "4             5.0          3.6           1.4          0.2     Iris-setosa   \n",
      "5             5.4          3.9           1.7          0.4     Iris-setosa   \n",
      "6             4.6          3.4           1.4          0.3     Iris-setosa   \n",
      "7             5.0          3.4           1.5          0.2     Iris-setosa   \n",
      "8             4.4          2.9           1.4          0.2     Iris-setosa   \n",
      "9             4.9          3.1           1.5          0.1     Iris-setosa   \n",
      "10            5.4          3.7           1.5          0.2     Iris-setosa   \n",
      "11            4.8          3.4           1.6          0.2     Iris-setosa   \n",
      "12            4.8          3.0           1.4          0.1     Iris-setosa   \n",
      "13            4.3          3.0           1.1          0.1     Iris-setosa   \n",
      "14            5.8          4.0           1.2          0.2     Iris-setosa   \n",
      "15            5.7          4.4           1.5          0.4     Iris-setosa   \n",
      "16            5.4          3.9           1.3          0.4     Iris-setosa   \n",
      "17            5.1          3.5           1.4          0.3     Iris-setosa   \n",
      "18            5.7          3.8           1.7          0.3     Iris-setosa   \n",
      "19            5.1          3.8           1.5          0.3     Iris-setosa   \n",
      "20            5.4          3.4           1.7          0.2     Iris-setosa   \n",
      "21            5.1          3.7           1.5          0.4     Iris-setosa   \n",
      "22            4.6          3.6           1.0          0.2     Iris-setosa   \n",
      "23            5.1          3.3           1.7          0.5     Iris-setosa   \n",
      "24            4.8          3.4           1.9          0.2     Iris-setosa   \n",
      "25            5.0          3.0           1.6          0.2     Iris-setosa   \n",
      "26            5.0          3.4           1.6          0.4     Iris-setosa   \n",
      "27            5.2          3.5           1.5          0.2     Iris-setosa   \n",
      "28            5.2          3.4           1.4          0.2     Iris-setosa   \n",
      "29            4.7          3.2           1.6          0.2     Iris-setosa   \n",
      "..            ...          ...           ...          ...             ...   \n",
      "120           6.9          3.2           5.7          2.3  Iris-virginica   \n",
      "121           5.6          2.8           4.9          2.0  Iris-virginica   \n",
      "122           7.7          2.8           6.7          2.0  Iris-virginica   \n",
      "123           6.3          2.7           4.9          1.8  Iris-virginica   \n",
      "124           6.7          3.3           5.7          2.1  Iris-virginica   \n",
      "125           7.2          3.2           6.0          1.8  Iris-virginica   \n",
      "126           6.2          2.8           4.8          1.8  Iris-virginica   \n",
      "127           6.1          3.0           4.9          1.8  Iris-virginica   \n",
      "128           6.4          2.8           5.6          2.1  Iris-virginica   \n",
      "129           7.2          3.0           5.8          1.6  Iris-virginica   \n",
      "130           7.4          2.8           6.1          1.9  Iris-virginica   \n",
      "131           7.9          3.8           6.4          2.0  Iris-virginica   \n",
      "132           6.4          2.8           5.6          2.2  Iris-virginica   \n",
      "133           6.3          2.8           5.1          1.5  Iris-virginica   \n",
      "134           6.1          2.6           5.6          1.4  Iris-virginica   \n",
      "135           7.7          3.0           6.1          2.3  Iris-virginica   \n",
      "136           6.3          3.4           5.6          2.4  Iris-virginica   \n",
      "137           6.4          3.1           5.5          1.8  Iris-virginica   \n",
      "138           6.0          3.0           4.8          1.8  Iris-virginica   \n",
      "139           6.9          3.1           5.4          2.1  Iris-virginica   \n",
      "140           6.7          3.1           5.6          2.4  Iris-virginica   \n",
      "141           6.9          3.1           5.1          2.3  Iris-virginica   \n",
      "142           5.8          2.7           5.1          1.9  Iris-virginica   \n",
      "143           6.8          3.2           5.9          2.3  Iris-virginica   \n",
      "144           6.7          3.3           5.7          2.5  Iris-virginica   \n",
      "145           6.7          3.0           5.2          2.3  Iris-virginica   \n",
      "146           6.3          2.5           5.0          1.9  Iris-virginica   \n",
      "147           6.5          3.0           5.2          2.0  Iris-virginica   \n",
      "148           6.2          3.4           5.4          2.3  Iris-virginica   \n",
      "149           5.9          3.0           5.1          1.8  Iris-virginica   \n",
      "\n",
      "     class_encoded  \n",
      "0                0  \n",
      "1                0  \n",
      "2                0  \n",
      "3                0  \n",
      "4                0  \n",
      "5                0  \n",
      "6                0  \n",
      "7                0  \n",
      "8                0  \n",
      "9                0  \n",
      "10               0  \n",
      "11               0  \n",
      "12               0  \n",
      "13               0  \n",
      "14               0  \n",
      "15               0  \n",
      "16               0  \n",
      "17               0  \n",
      "18               0  \n",
      "19               0  \n",
      "20               0  \n",
      "21               0  \n",
      "22               0  \n",
      "23               0  \n",
      "24               0  \n",
      "25               0  \n",
      "26               0  \n",
      "27               0  \n",
      "28               0  \n",
      "29               0  \n",
      "..             ...  \n",
      "120              2  \n",
      "121              2  \n",
      "122              2  \n",
      "123              2  \n",
      "124              2  \n",
      "125              2  \n",
      "126              2  \n",
      "127              2  \n",
      "128              2  \n",
      "129              2  \n",
      "130              2  \n",
      "131              2  \n",
      "132              2  \n",
      "133              2  \n",
      "134              2  \n",
      "135              2  \n",
      "136              2  \n",
      "137              2  \n",
      "138              2  \n",
      "139              2  \n",
      "140              2  \n",
      "141              2  \n",
      "142              2  \n",
      "143              2  \n",
      "144              2  \n",
      "145              2  \n",
      "146              2  \n",
      "147              2  \n",
      "148              2  \n",
      "149              2  \n",
      "\n",
      "[150 rows x 6 columns]\n"
     ]
    }
   ],
   "source": [
    "from sklearn.preprocessing import LabelEncoder\n",
    "iris_df['class_encoded'] = LabelEncoder().fit_transform(iris_df['class'])\n",
    "print(iris_df)"
   ]
  },
  {
   "cell_type": "markdown",
   "metadata": {
    "colab_type": "text",
    "id": "GdXGD0yAHunx"
   },
   "source": [
    "## Question 4\n",
    "\n",
    "*Observe the association of each independent variable with target variable and drop variables from feature set having correlation in range -0.1 to 0.1 with target variable.*"
   ]
  },
  {
   "cell_type": "code",
   "execution_count": 51,
   "metadata": {
    "colab": {},
    "colab_type": "code",
    "id": "UP3Cxwj3Huny"
   },
   "outputs": [
    {
     "name": "stdout",
     "output_type": "stream",
     "text": [
      "               sepal length  sepal width  petal length  petal width  \\\n",
      "sepal length       1.000000    -0.109369      0.871754     0.817954   \n",
      "sepal width       -0.109369     1.000000     -0.420516    -0.356544   \n",
      "petal length       0.871754    -0.420516      1.000000     0.962757   \n",
      "petal width        0.817954    -0.356544      0.962757     1.000000   \n",
      "class_encoded      0.782561    -0.419446      0.949043     0.956464   \n",
      "\n",
      "               class_encoded  \n",
      "sepal length        0.782561  \n",
      "sepal width        -0.419446  \n",
      "petal length        0.949043  \n",
      "petal width         0.956464  \n",
      "class_encoded       1.000000  \n",
      "From the correlation table it is observed that none of the independent variable has the correlation with the target variable in the range of -0.1 and 0.1. Hence we cannot drop the independent variables from the feature set.\n"
     ]
    }
   ],
   "source": [
    "print(iris_df.corr())\n",
    "print(\"From the correlation table it is observed that none of the independent variable has the correlation with the target variable in the range of -0.1 and 0.1. Hence we cannot drop the independent variables from the feature set.\")\n"
   ]
  },
  {
   "cell_type": "markdown",
   "metadata": {
    "colab_type": "text",
    "id": "oQ0XwK2qHun4"
   },
   "source": [
    "## Question 5\n",
    "\n",
    "*Observe the independent variables variance and drop such variables having no variance or almost zero variance(variance < 0.1). They will be having almost no influence on the classification.*"
   ]
  },
  {
   "cell_type": "code",
   "execution_count": 52,
   "metadata": {
    "colab": {},
    "colab_type": "code",
    "id": "jzVVZN2MHun7"
   },
   "outputs": [
    {
     "name": "stdout",
     "output_type": "stream",
     "text": [
      "sepal length     0.685694\n",
      "sepal width      0.188004\n",
      "petal length     3.113179\n",
      "petal width      0.582414\n",
      "class_encoded    0.671141\n",
      "dtype: float64\n",
      "Since the variances are greater than decimal 1. Hence we do not drop any independent variables.\n"
     ]
    }
   ],
   "source": [
    "print(iris_df.var())\n",
    "print(\"Since the variances are greater than decimal 1. Hence we do not drop any independent variables.\")"
   ]
  },
  {
   "cell_type": "markdown",
   "metadata": {
    "colab_type": "text",
    "id": "H7Ajl_WfHuoB"
   },
   "source": [
    "## Question 6\n",
    "\n",
    "*Plot the scatter matrix for all the variables.*"
   ]
  },
  {
   "cell_type": "code",
   "execution_count": 53,
   "metadata": {
    "colab": {},
    "colab_type": "code",
    "id": "np7YAIF8HuoC"
   },
   "outputs": [
    {
     "data": {
      "image/png": "[encoded data removed]",
      "text/plain": [
       "<Figure size 720x720 with 25 Axes>"
      ]
     },
     "metadata": {
      "needs_background": "light"
     },
     "output_type": "display_data"
    }
   ],
   "source": [
    "pd.scatter_matrix(iris_df, alpha=0.2, figsize=(10, 10))\n",
    "plt.show()"
   ]
  },
  {
   "cell_type": "markdown",
   "metadata": {
    "colab_type": "text",
    "id": "86y0-5mUHuoK"
   },
   "source": [
    "## Split the dataset into training and test sets\n",
    "\n",
    "## Question 7\n",
    "\n",
    "*Split the dataset into training and test sets with 80-20 ratio.*"
   ]
  },
  {
   "cell_type": "code",
   "execution_count": 54,
   "metadata": {
    "colab": {},
    "colab_type": "code",
    "id": "ucaAL9l0HuoM"
   },
   "outputs": [],
   "source": [
    "X = iris_df.drop(labels= [\"class_encoded\",\"class\"] , axis = 1)\n",
    "X = X.apply(zscore)\n",
    "y = iris_df[[\"class_encoded\"]]\n",
    "test_size = 0.20 # taking 80:20 training and test set\n",
    "seed = 7  # Random numbmer seeding for reapeatability of the code\n",
    "X_train, X_test, y_train, y_test = train_test_split(X, y, test_size=test_size, random_state=seed)"
   ]
  },
  {
   "cell_type": "markdown",
   "metadata": {
    "colab_type": "text",
    "id": "0NBIs8ryHuoS"
   },
   "source": [
    "## Question 8 - Model\n",
    "\n",
    "*Build the model and train and test on training and test sets respectively using **scikit-learn**. Print the Accuracy of the model with different values of **k=3,5,9**.*\n",
    "\n",
    "**Hint:** For accuracy you can check **accuracy_score()** in scikit-learn"
   ]
  },
  {
   "cell_type": "code",
   "execution_count": 55,
   "metadata": {
    "colab": {},
    "colab_type": "code",
    "id": "SyAgXdpmHuoU"
   },
   "outputs": [
    {
     "name": "stdout",
     "output_type": "stream",
     "text": [
      "The accuracy when k=3 is 0.8666666666666667\n",
      "The accuracy when k=5 is 0.9\n",
      "The accuracy when k=9 is 0.9\n"
     ]
    }
   ],
   "source": [
    "neighbors = [3, 5, 9]\n",
    "for x in neighbors:\n",
    "    NNH = KNeighborsClassifier(n_neighbors= x)\n",
    "    NNH.fit(X_train,y_train)\n",
    "    ypred = NNH.predict(X_test)\n",
    "    accuracy=metrics.accuracy_score(y_test,ypred)\n",
    "    print(\"The accuracy when k={} is {}\".format(x,accuracy))"
   ]
  },
  {
   "cell_type": "markdown",
   "metadata": {
    "colab_type": "text",
    "id": "SsPnubVeHuoY"
   },
   "source": [
    "## Question 9 - Cross Validation\n",
    "\n",
    "Run the KNN with no of neighbours to be 1,3,5..19 and *Find the **optimal number of neighbours** from the above list using the Mis classification error"
   ]
  },
  {
   "cell_type": "markdown",
   "metadata": {
    "colab_type": "text",
    "id": "jY6Vy-IjHuoZ"
   },
   "source": [
    "Hint:\n",
    "\n",
    "Misclassification error (MSE) = 1 - Test accuracy score. Calculated MSE for each model with neighbours = 1,3,5...19 and find the model with lowest MSE"
   ]
  },
  {
   "cell_type": "code",
   "execution_count": 56,
   "metadata": {
    "colab": {},
    "colab_type": "code",
    "id": "L3RcCZTxHuob"
   },
   "outputs": [
    {
     "name": "stdout",
     "output_type": "stream",
     "text": [
      "                             k=1       k=2       k=3  k=4  k=5       k=6  \\\n",
      "Accuracy                     0.9  0.866667  0.866667  0.9  0.9  0.866667   \n",
      "MSE (1-Test Accuracy Score)  0.1  0.133333  0.133333  0.1  0.1  0.133333   \n",
      "\n",
      "                                  k=7       k=8  k=9  k=10  k=11  k=12  \\\n",
      "Accuracy                     0.933333  0.933333  0.9   0.9   0.9   0.9   \n",
      "MSE (1-Test Accuracy Score)  0.066667  0.066667  0.1   0.1   0.1   0.1   \n",
      "\n",
      "                                 k=13  k=14      k=15      k=16      k=17  \\\n",
      "Accuracy                     0.866667   0.9  0.866667  0.866667  0.866667   \n",
      "MSE (1-Test Accuracy Score)  0.133333   0.1  0.133333  0.133333  0.133333   \n",
      "\n",
      "                             k=18      k=19  \n",
      "Accuracy                      0.9  0.866667  \n",
      "MSE (1-Test Accuracy Score)   0.1  0.133333  \n",
      "The minimum value of MSE is 0.06666666666666665\n",
      "The model with the lowest MSE is value is when k(number of neighbors) is 2, 10 and 13\n"
     ]
    }
   ],
   "source": [
    "neighbors = np.arange(19)\n",
    "mse = []\n",
    "accuracyList = []\n",
    "for x in neighbors:\n",
    "    NNH = KNeighborsClassifier(n_neighbors= x+1)\n",
    "    NNH.fit(X_train,y_train)\n",
    "    ypred = NNH.predict(X_test)\n",
    "    accuracy=metrics.accuracy_score(y_test,ypred)\n",
    "    accuracyList.append(accuracy)\n",
    "    mse.append(1-accuracy)\n",
    "\n",
    "data = [accuracyList,mse]\n",
    "neighborsList = neighbors.tolist()\n",
    "colName = [\"k=\"+str(s+1) for s in neighbors]\n",
    "df = pd.DataFrame(data, columns = colName, index=['Accuracy', 'MSE (1-Test Accuracy Score)']) \n",
    "print(df)\n",
    "print(\"The minimum value of MSE is {}\".format(min(mse)))\n",
    "print(\"The model with the lowest MSE is value is when k(number of neighbors) is 2, 10 and 13\")"
   ]
  },
  {
   "cell_type": "markdown",
   "metadata": {
    "colab_type": "text",
    "id": "qPj4qKLdHuog"
   },
   "source": [
    "## Question 10\n",
    "\n",
    "*Plot misclassification error vs k (with k value on X-axis) using matplotlib.*"
   ]
  },
  {
   "cell_type": "code",
   "execution_count": 57,
   "metadata": {
    "colab": {},
    "colab_type": "code",
    "id": "DkO_m64YHuoh"
   },
   "outputs": [
    {
     "data": {
      "text/plain": [
       "[<matplotlib.lines.Line2D at 0x23ee3f5ae80>]"
      ]
     },
     "execution_count": 57,
     "metadata": {},
     "output_type": "execute_result"
    },
    {
     "data": {
      "image/png": "[encoded data removed]",
      "text/plain": [
       "<Figure size 432x288 with 1 Axes>"
      ]
     },
     "metadata": {
      "needs_background": "light"
     },
     "output_type": "display_data"
    }
   ],
   "source": [
    "plt.plot(neighbors+1, mse)"
   ]
  },
  {
   "cell_type": "markdown",
   "metadata": {
    "colab_type": "text",
    "id": "v6sXbH93Huol"
   },
   "source": [
    "# Naive Bayes with Iris Data"
   ]
  },
  {
   "cell_type": "code",
   "execution_count": 58,
   "metadata": {
    "colab": {},
    "colab_type": "code",
    "id": "Fwgqcy8iHuon"
   },
   "outputs": [],
   "source": [
    "#Load all required library\n",
    "import pandas as pd\n",
    "import numpy as np\n",
    "from matplotlib import pyplot as plt\n",
    "%matplotlib inline\n",
    "from sklearn import datasets\n",
    "from sklearn.decomposition import PCA\n",
    "from sklearn.naive_bayes import GaussianNB, BernoulliNB, MultinomialNB"
   ]
  },
  {
   "cell_type": "markdown",
   "metadata": {
    "colab_type": "text",
    "id": "mSUZN0ExHuot"
   },
   "source": [
    "### Slice  Iris data set for Independent variables and dependent variables\n",
    "#### Please note 'Species' is my dependent variables, name it y and independent set data as X"
   ]
  },
  {
   "cell_type": "code",
   "execution_count": 59,
   "metadata": {
    "colab": {},
    "colab_type": "code",
    "id": "z4oZginZHuo2"
   },
   "outputs": [
    {
     "name": "stdout",
     "output_type": "stream",
     "text": [
      "     class_encoded\n",
      "0                0\n",
      "1                0\n",
      "2                0\n",
      "3                0\n",
      "4                0\n",
      "5                0\n",
      "6                0\n",
      "7                0\n",
      "8                0\n",
      "9                0\n",
      "10               0\n",
      "11               0\n",
      "12               0\n",
      "13               0\n",
      "14               0\n",
      "15               0\n",
      "16               0\n",
      "17               0\n",
      "18               0\n",
      "19               0\n",
      "20               0\n",
      "21               0\n",
      "22               0\n",
      "23               0\n",
      "24               0\n",
      "25               0\n",
      "26               0\n",
      "27               0\n",
      "28               0\n",
      "29               0\n",
      "..             ...\n",
      "120              2\n",
      "121              2\n",
      "122              2\n",
      "123              2\n",
      "124              2\n",
      "125              2\n",
      "126              2\n",
      "127              2\n",
      "128              2\n",
      "129              2\n",
      "130              2\n",
      "131              2\n",
      "132              2\n",
      "133              2\n",
      "134              2\n",
      "135              2\n",
      "136              2\n",
      "137              2\n",
      "138              2\n",
      "139              2\n",
      "140              2\n",
      "141              2\n",
      "142              2\n",
      "143              2\n",
      "144              2\n",
      "145              2\n",
      "146              2\n",
      "147              2\n",
      "148              2\n",
      "149              2\n",
      "\n",
      "[150 rows x 1 columns]\n",
      "     sepal length  sepal width  petal length  petal width\n",
      "0       -0.900681     1.032057     -1.341272    -1.312977\n",
      "1       -1.143017    -0.124958     -1.341272    -1.312977\n",
      "2       -1.385353     0.337848     -1.398138    -1.312977\n",
      "3       -1.506521     0.106445     -1.284407    -1.312977\n",
      "4       -1.021849     1.263460     -1.341272    -1.312977\n",
      "5       -0.537178     1.957669     -1.170675    -1.050031\n",
      "6       -1.506521     0.800654     -1.341272    -1.181504\n",
      "7       -1.021849     0.800654     -1.284407    -1.312977\n",
      "8       -1.748856    -0.356361     -1.341272    -1.312977\n",
      "9       -1.143017     0.106445     -1.284407    -1.444450\n",
      "10      -0.537178     1.494863     -1.284407    -1.312977\n",
      "11      -1.264185     0.800654     -1.227541    -1.312977\n",
      "12      -1.264185    -0.124958     -1.341272    -1.444450\n",
      "13      -1.870024    -0.124958     -1.511870    -1.444450\n",
      "14      -0.052506     2.189072     -1.455004    -1.312977\n",
      "15      -0.173674     3.114684     -1.284407    -1.050031\n",
      "16      -0.537178     1.957669     -1.398138    -1.050031\n",
      "17      -0.900681     1.032057     -1.341272    -1.181504\n",
      "18      -0.173674     1.726266     -1.170675    -1.181504\n",
      "19      -0.900681     1.726266     -1.284407    -1.181504\n",
      "20      -0.537178     0.800654     -1.170675    -1.312977\n",
      "21      -0.900681     1.494863     -1.284407    -1.050031\n",
      "22      -1.506521     1.263460     -1.568735    -1.312977\n",
      "23      -0.900681     0.569251     -1.170675    -0.918558\n",
      "24      -1.264185     0.800654     -1.056944    -1.312977\n",
      "25      -1.021849    -0.124958     -1.227541    -1.312977\n",
      "26      -1.021849     0.800654     -1.227541    -1.050031\n",
      "27      -0.779513     1.032057     -1.284407    -1.312977\n",
      "28      -0.779513     0.800654     -1.341272    -1.312977\n",
      "29      -1.385353     0.337848     -1.227541    -1.312977\n",
      "..            ...          ...           ...          ...\n",
      "120      1.280340     0.337848      1.103953     1.447956\n",
      "121     -0.294842    -0.587764      0.649027     1.053537\n",
      "122      2.249683    -0.587764      1.672610     1.053537\n",
      "123      0.553333    -0.819166      0.649027     0.790591\n",
      "124      1.038005     0.569251      1.103953     1.185010\n",
      "125      1.643844     0.337848      1.274550     0.790591\n",
      "126      0.432165    -0.587764      0.592162     0.790591\n",
      "127      0.310998    -0.124958      0.649027     0.790591\n",
      "128      0.674501    -0.587764      1.047087     1.185010\n",
      "129      1.643844    -0.124958      1.160819     0.527645\n",
      "130      1.886180    -0.587764      1.331416     0.922064\n",
      "131      2.492019     1.726266      1.502013     1.053537\n",
      "132      0.674501    -0.587764      1.047087     1.316483\n",
      "133      0.553333    -0.587764      0.762759     0.396172\n",
      "134      0.310998    -1.050569      1.047087     0.264699\n",
      "135      2.249683    -0.124958      1.331416     1.447956\n",
      "136      0.553333     0.800654      1.047087     1.579429\n",
      "137      0.674501     0.106445      0.990221     0.790591\n",
      "138      0.189830    -0.124958      0.592162     0.790591\n",
      "139      1.280340     0.106445      0.933356     1.185010\n",
      "140      1.038005     0.106445      1.047087     1.579429\n",
      "141      1.280340     0.106445      0.762759     1.447956\n",
      "142     -0.052506    -0.819166      0.762759     0.922064\n",
      "143      1.159173     0.337848      1.217684     1.447956\n",
      "144      1.038005     0.569251      1.103953     1.710902\n",
      "145      1.038005    -0.124958      0.819624     1.447956\n",
      "146      0.553333    -1.281972      0.705893     0.922064\n",
      "147      0.795669    -0.124958      0.819624     1.053537\n",
      "148      0.432165     0.800654      0.933356     1.447956\n",
      "149      0.068662    -0.124958      0.762759     0.790591\n",
      "\n",
      "[150 rows x 4 columns]\n"
     ]
    }
   ],
   "source": [
    "#Check the dataset\n",
    "print(y)\n",
    "print(X)"
   ]
  },
  {
   "cell_type": "markdown",
   "metadata": {
    "colab_type": "text",
    "id": "0tjAAFABHuo8"
   },
   "source": [
    "# Question 11 \n",
    "Find the distribution of target variable (Class)\n",
    "\n",
    "And, Plot the distribution of target variable using histogram"
   ]
  },
  {
   "cell_type": "code",
   "execution_count": 60,
   "metadata": {
    "colab": {},
    "colab_type": "code",
    "id": "9MOM08lIHuo-"
   },
   "outputs": [
    {
     "data": {
      "image/png": "[encoded data removed]",
      "text/plain": [
       "<Figure size 432x288 with 1 Axes>"
      ]
     },
     "metadata": {
      "needs_background": "light"
     },
     "output_type": "display_data"
    }
   ],
   "source": [
    "plt.hist(iris_df[\"class_encoded\"])\n",
    "plt.show()"
   ]
  },
  {
   "cell_type": "code",
   "execution_count": 61,
   "metadata": {
    "colab": {},
    "colab_type": "code",
    "id": "RnfaMmoaHupH"
   },
   "outputs": [],
   "source": [
    "#Drop Id variable from data"
   ]
  },
  {
   "cell_type": "markdown",
   "metadata": {
    "colab_type": "text",
    "id": "4t25mCgtHupL"
   },
   "source": [
    "### Question 12 \n",
    "Find Correlation among all variables and give your insights "
   ]
  },
  {
   "cell_type": "code",
   "execution_count": 62,
   "metadata": {
    "colab": {},
    "colab_type": "code",
    "id": "QH1X0KHKHupN"
   },
   "outputs": [],
   "source": [
    "#Please note, it's Require to remove correlated features because they are voted twice in the model and \n",
    "## it can lead to over inflating importance.We will ignore it here"
   ]
  },
  {
   "cell_type": "code",
   "execution_count": 63,
   "metadata": {
    "colab": {},
    "colab_type": "code",
    "id": "Hpx6ESv0HupS"
   },
   "outputs": [
    {
     "name": "stdout",
     "output_type": "stream",
     "text": [
      "               sepal length  sepal width  petal length  petal width  \\\n",
      "sepal length       1.000000    -0.109369      0.871754     0.817954   \n",
      "sepal width       -0.109369     1.000000     -0.420516    -0.356544   \n",
      "petal length       0.871754    -0.420516      1.000000     0.962757   \n",
      "petal width        0.817954    -0.356544      0.962757     1.000000   \n",
      "class_encoded      0.782561    -0.419446      0.949043     0.956464   \n",
      "\n",
      "               class_encoded  \n",
      "sepal length        0.782561  \n",
      "sepal width        -0.419446  \n",
      "petal length        0.949043  \n",
      "petal width         0.956464  \n",
      "class_encoded       1.000000  \n"
     ]
    }
   ],
   "source": [
    "print(iris_df.corr())"
   ]
  },
  {
   "cell_type": "code",
   "execution_count": 64,
   "metadata": {},
   "outputs": [
    {
     "data": {
      "image/png": "[encoded data removed]",
      "text/plain": [
       "<Figure size 432x288 with 2 Axes>"
      ]
     },
     "metadata": {
      "needs_background": "light"
     },
     "output_type": "display_data"
    }
   ],
   "source": [
    "sb.heatmap(iris_df.corr(), vmax=1.0, center=0, fmt='.2f',\n",
    "                square=True, linewidths=.5, annot=True, cbar_kws={\"shrink\": .70})\n",
    "plt.show();"
   ]
  },
  {
   "cell_type": "markdown",
   "metadata": {
    "colab_type": "text",
    "id": "fMwqZfKEHupV"
   },
   "source": [
    "### Split data in Training and test set in 80:20."
   ]
  },
  {
   "cell_type": "code",
   "execution_count": 65,
   "metadata": {
    "colab": {},
    "colab_type": "code",
    "id": "yRCFfCqHHupW"
   },
   "outputs": [],
   "source": [
    "X = iris_df.drop(labels= [\"class_encoded\",\"class\"] , axis = 1)\n",
    "y = iris_df[[\"class_encoded\"]]\n",
    "test_size = 0.20 # taking 80:20 training and test set\n",
    "seed = 7  # Random numbmer seeding for reapeatability of the code\n",
    "X_train, X_test, y_train, y_test = train_test_split(X, y, test_size=test_size, random_state=seed)"
   ]
  },
  {
   "cell_type": "markdown",
   "metadata": {
    "colab_type": "text",
    "id": "z8d4yxofHupb"
   },
   "source": [
    "### Question 13 \n",
    "Do Feature Scaling "
   ]
  },
  {
   "cell_type": "code",
   "execution_count": 66,
   "metadata": {
    "colab": {},
    "colab_type": "code",
    "id": "Y7o_ra27Hupe"
   },
   "outputs": [],
   "source": [
    "# Use StandardScaler or similar methods"
   ]
  },
  {
   "cell_type": "code",
   "execution_count": 67,
   "metadata": {
    "colab": {},
    "colab_type": "code",
    "id": "bhJcgQOmHupi"
   },
   "outputs": [
    {
     "name": "stdout",
     "output_type": "stream",
     "text": [
      "StandardScaler(copy=True, with_mean=True, with_std=True)\n"
     ]
    },
    {
     "data": {
      "image/png": "[encoded data removed]",
      "text/plain": [
       "<Figure size 432x360 with 2 Axes>"
      ]
     },
     "metadata": {
      "needs_background": "light"
     },
     "output_type": "display_data"
    }
   ],
   "source": [
    "from sklearn.preprocessing import StandardScaler\n",
    "import seaborn as sns\n",
    "sc = StandardScaler()\n",
    "print(sc.fit(X,y))\n",
    "scaled_df = sc.fit_transform(X)\n",
    "scaled_df = pd.DataFrame(scaled_df, columns=[\"sepal length\",\"sepal width\",\"petal length\",\"petal width\"])\n",
    "fig, (ax1, ax2) = plt.subplots(ncols=2, figsize=(6, 5))\n",
    "ax1.set_title('Before Scaling')\n",
    "sns.kdeplot(iris_df['sepal length'], ax=ax1)\n",
    "sns.kdeplot(iris_df['sepal width'], ax=ax1)\n",
    "sns.kdeplot(iris_df['petal length'], ax=ax1)\n",
    "sns.kdeplot(iris_df['petal width'], ax=ax1)\n",
    "ax2.set_title('After Standard Scaler')\n",
    "sns.kdeplot(scaled_df['sepal length'], ax=ax2)\n",
    "sns.kdeplot(scaled_df['sepal width'], ax=ax2)\n",
    "sns.kdeplot(scaled_df['petal length'], ax=ax2)\n",
    "sns.kdeplot(scaled_df['petal width'], ax=ax2)\n",
    "plt.show()"
   ]
  },
  {
   "cell_type": "markdown",
   "metadata": {
    "colab_type": "text",
    "id": "yLtqsTXwHupn"
   },
   "source": [
    "### Question 14 \n",
    "Train and Fit NaiveBayes Model"
   ]
  },
  {
   "cell_type": "code",
   "execution_count": 68,
   "metadata": {
    "colab": {},
    "colab_type": "code",
    "id": "7gqp9ej6Hupp"
   },
   "outputs": [],
   "source": [
    "#Fit the model\n",
    "multinb = MultinomialNB()\n",
    "multinb.fit(X_train,y_train)\n",
    "ypred = multinb.predict(X_test)"
   ]
  },
  {
   "cell_type": "code",
   "execution_count": 69,
   "metadata": {
    "colab": {},
    "colab_type": "code",
    "id": "v_4CFBdRHupt"
   },
   "outputs": [
    {
     "name": "stdout",
     "output_type": "stream",
     "text": [
      "The predicted values are [2 2 0 2 2 0 1 1 0 1 2 1 0 2 0 2 2 2 0 0 1 2 1 2 1 2 1 1 2 2].\n"
     ]
    }
   ],
   "source": [
    "#Predict\n",
    "print(\"The predicted values are {}.\".format(ypred))"
   ]
  },
  {
   "cell_type": "markdown",
   "metadata": {
    "colab_type": "text",
    "id": "UW_HXYOeHupy"
   },
   "source": [
    "### Question 15 \n",
    "Print Accuracy and Confusion Matrix and Conclude your findings"
   ]
  },
  {
   "cell_type": "code",
   "execution_count": 70,
   "metadata": {
    "colab": {},
    "colab_type": "code",
    "id": "8mZGt-uLHup0"
   },
   "outputs": [
    {
     "name": "stdout",
     "output_type": "stream",
     "text": [
      "[[ 7  0  0]\n",
      " [ 0  8  4]\n",
      " [ 0  1 10]]\n"
     ]
    }
   ],
   "source": [
    "# show Confusion Matrix\n",
    "cm=metrics.confusion_matrix(y_test,ypred)\n",
    "print(cm)"
   ]
  },
  {
   "cell_type": "code",
   "execution_count": 71,
   "metadata": {
    "colab": {},
    "colab_type": "code",
    "id": "AUqBiwmiHup4"
   },
   "outputs": [
    {
     "name": "stdout",
     "output_type": "stream",
     "text": [
      "The accuracy using Naive Bayes is 0.8333333333333334.\n"
     ]
    }
   ],
   "source": [
    "# show accuracy\n",
    "accuracy=metrics.accuracy_score(y_test,ypred)\n",
    "print(\"The accuracy using Naive Bayes is {}.\".format(accuracy))"
   ]
  },
  {
   "cell_type": "code",
   "execution_count": 72,
   "metadata": {
    "colab": {},
    "colab_type": "code",
    "id": "bhCN30DZHup-"
   },
   "outputs": [],
   "source": [
    "#Show precision and Recall metrics"
   ]
  },
  {
   "cell_type": "code",
   "execution_count": 73,
   "metadata": {
    "colab": {},
    "colab_type": "code",
    "id": "xoj4zdh6HuqC"
   },
   "outputs": [
    {
     "name": "stdout",
     "output_type": "stream",
     "text": [
      "The precision is 0.8333333333333334 and recall is 0.8333333333333334 when average = micro\n"
     ]
    }
   ],
   "source": [
    "precision = metrics.precision_score(y_test, ypred, average='micro')\n",
    "recall = metrics.recall_score(y_test, ypred, average='micro')\n",
    "print(\"The precision is {} and recall is {} when average = micro\".format(precision, recall))"
   ]
  },
  {
   "cell_type": "code",
   "execution_count": 74,
   "metadata": {},
   "outputs": [
    {
     "name": "stdout",
     "output_type": "stream",
     "text": [
      "The precision is [1.         0.88888889 0.71428571] and recall is [1.         0.66666667 0.90909091] when average = None\n"
     ]
    }
   ],
   "source": [
    "precision = metrics.precision_score(y_test, ypred, average=None)\n",
    "recall = metrics.recall_score(y_test, ypred, average=None)\n",
    "print(\"The precision is {} and recall is {} when average = None\".format(precision, recall))"
   ]
  },
  {
   "cell_type": "markdown",
   "metadata": {
    "colab_type": "text",
    "id": "rY_-DYU-HuqH"
   },
   "source": [
    "# For Practice  - Optional\n",
    "\n",
    "All the questions from 16 to 20 are for practice."
   ]
  },
  {
   "cell_type": "markdown",
   "metadata": {
    "colab_type": "text",
    "id": "fdHjJ_hNHuqJ"
   },
   "source": [
    "# Using SVM with Diebetes Dataset"
   ]
  },
  {
   "cell_type": "code",
   "execution_count": 75,
   "metadata": {
    "colab": {},
    "colab_type": "code",
    "id": "dAK4a1jMHuqM"
   },
   "outputs": [],
   "source": [
    "#Import library\n",
    "import pandas as pd\n",
    "import numpy as np\n",
    "import matplotlib.pyplot as plt\n",
    "%matplotlib inline"
   ]
  },
  {
   "cell_type": "markdown",
   "metadata": {
    "colab_type": "text",
    "id": "PFapFRFpHuqP"
   },
   "source": [
    "# Question 16 \n",
    "Read the input file 'Diabetes.csv' using Pandas and check it's column names.\n",
    "\n",
    "Check dimension of dataset.\n",
    "\n",
    "Check distribution of dependent variable, Outcome and plot it.\n"
   ]
  },
  {
   "cell_type": "code",
   "execution_count": null,
   "metadata": {
    "colab": {},
    "colab_type": "code",
    "id": "JymT5eSnHuqQ"
   },
   "outputs": [],
   "source": []
  },
  {
   "cell_type": "code",
   "execution_count": 0,
   "metadata": {
    "colab": {},
    "colab_type": "code",
    "id": "Po47LmyPHuqW"
   },
   "outputs": [],
   "source": [
    "# Eye ball the imported dataset"
   ]
  },
  {
   "cell_type": "code",
   "execution_count": 0,
   "metadata": {
    "colab": {},
    "colab_type": "code",
    "id": "jBIM8ETyHuqZ"
   },
   "outputs": [],
   "source": []
  },
  {
   "cell_type": "code",
   "execution_count": 0,
   "metadata": {
    "colab": {},
    "colab_type": "code",
    "id": "xySkX-gfHuqi"
   },
   "outputs": [],
   "source": []
  },
  {
   "cell_type": "markdown",
   "metadata": {
    "colab_type": "text",
    "id": "UZVGVK1zHuqn"
   },
   "source": [
    "### Out of  768 data points, 500 are labeled as 0 and 268 as 1.\n",
    "### Outcome 0 means No diabetes, outcome 1 means diabetes"
   ]
  },
  {
   "cell_type": "code",
   "execution_count": 0,
   "metadata": {
    "colab": {},
    "colab_type": "code",
    "id": "B9KjFXnQHuqp"
   },
   "outputs": [],
   "source": []
  },
  {
   "cell_type": "code",
   "execution_count": 0,
   "metadata": {
    "colab": {},
    "colab_type": "code",
    "id": "Ell7v-4UHuqu"
   },
   "outputs": [],
   "source": [
    "# Check data types and info of dataset"
   ]
  },
  {
   "cell_type": "markdown",
   "metadata": {
    "colab_type": "text",
    "id": "QZ_U9-ctHuq0"
   },
   "source": [
    "# Question 17 \n",
    "Check data distribution using summary statistics and provide your findings.\n",
    "\n",
    "Do correlation analysis and bivariate viualization with Insights\n"
   ]
  },
  {
   "cell_type": "code",
   "execution_count": 0,
   "metadata": {
    "colab": {},
    "colab_type": "code",
    "id": "dbyJecg8Huq0"
   },
   "outputs": [],
   "source": []
  },
  {
   "cell_type": "code",
   "execution_count": 0,
   "metadata": {
    "colab": {},
    "colab_type": "code",
    "id": "V4CkSxdiHuq5"
   },
   "outputs": [],
   "source": []
  },
  {
   "cell_type": "code",
   "execution_count": 0,
   "metadata": {
    "colab": {},
    "colab_type": "code",
    "id": "pAj1Y0yyHuq9"
   },
   "outputs": [],
   "source": []
  },
  {
   "cell_type": "markdown",
   "metadata": {
    "colab_type": "text",
    "id": "YvA6mDiBHurA"
   },
   "source": [
    "# Question 18 \n",
    "Do train and test split. \n",
    "Optionally - You can do with stratify sampling(optional) on Outcome variable to maintain the distribution of dependent variable"
   ]
  },
  {
   "cell_type": "code",
   "execution_count": 0,
   "metadata": {
    "colab": {},
    "colab_type": "code",
    "id": "3z7rPjFcHurC"
   },
   "outputs": [],
   "source": []
  },
  {
   "cell_type": "code",
   "execution_count": 0,
   "metadata": {
    "colab": {},
    "colab_type": "code",
    "id": "qbO2YMc_HurE"
   },
   "outputs": [],
   "source": []
  },
  {
   "cell_type": "markdown",
   "metadata": {
    "colab_type": "text",
    "id": "98rPDoBhHurJ"
   },
   "source": [
    "# Question 19 \n",
    "Train Support Vector Machine Model(1 Marks)"
   ]
  },
  {
   "cell_type": "code",
   "execution_count": 0,
   "metadata": {
    "colab": {},
    "colab_type": "code",
    "id": "Xab8A8BBHurK"
   },
   "outputs": [],
   "source": [
    "# use from sklearn.svm import SVC"
   ]
  },
  {
   "cell_type": "code",
   "execution_count": 0,
   "metadata": {
    "colab": {},
    "colab_type": "code",
    "id": "fdamjFXEHurQ"
   },
   "outputs": [],
   "source": [
    "# your insights"
   ]
  },
  {
   "cell_type": "markdown",
   "metadata": {
    "colab_type": "text",
    "id": "Mq-50g3uHurS"
   },
   "source": [
    "# Question 20\n",
    "Scale the data points using MinMaxScaler\n",
    "\n",
    "Fit SVM Model on Scale data and give your observation"
   ]
  },
  {
   "cell_type": "code",
   "execution_count": 0,
   "metadata": {
    "colab": {},
    "colab_type": "code",
    "id": "NSLZcoL0HurU"
   },
   "outputs": [],
   "source": []
  },
  {
   "cell_type": "code",
   "execution_count": 0,
   "metadata": {
    "colab": {},
    "colab_type": "code",
    "id": "uGkQN3JVHurX"
   },
   "outputs": [],
   "source": []
  },
  {
   "cell_type": "markdown",
   "metadata": {
    "colab_type": "text",
    "id": "hCsfETJ2HurZ"
   },
   "source": [
    "#we can try increasing either C or gamma to fit a more complex model."
   ]
  },
  {
   "cell_type": "markdown",
   "metadata": {
    "colab_type": "text",
    "id": "AoT381TxHure"
   },
   "source": [
    "# Optional Question - \n",
    "Try improving the model accuracy using C=1000 (1 Marks)"
   ]
  },
  {
   "cell_type": "code",
   "execution_count": 0,
   "metadata": {
    "colab": {},
    "colab_type": "code",
    "id": "FZN07IhuHurf"
   },
   "outputs": [],
   "source": []
  },
  {
   "cell_type": "markdown",
   "metadata": {
    "colab_type": "text",
    "id": "uy4vnGXeHurj"
   },
   "source": [
    "### Here, increasing C allows us to improve the model, resulting in ??? accuracy.\n",
    "### Let's try to explore different Kernel and C (Bonus for practice)"
   ]
  },
  {
   "cell_type": "code",
   "execution_count": 0,
   "metadata": {
    "colab": {},
    "colab_type": "code",
    "id": "ilPg9hnTHurk"
   },
   "outputs": [],
   "source": [
    "import multiprocessing \n",
    "from sklearn.model_selection import GridSearchCV"
   ]
  },
  {
   "cell_type": "code",
   "execution_count": 0,
   "metadata": {
    "colab": {},
    "colab_type": "code",
    "id": "2Op5Cz2EHurm"
   },
   "outputs": [],
   "source": [
    " param_grid = [    {        \n",
    "     'kernel': ['linear', 'rbf', 'poly', 'sigmoid'],        \n",
    "     'C': [ 0.1, 0.2, 0.4, 0.5, 1.0, 1.5, 1.8, 2.0, 2.5, 3.0 ]    } ]"
   ]
  },
  {
   "cell_type": "code",
   "execution_count": 0,
   "metadata": {
    "colab": {},
    "colab_type": "code",
    "id": "AOCT8zOAHurp"
   },
   "outputs": [],
   "source": [
    "gs = GridSearchCV(estimator=SVC(), param_grid=param_grid,scoring='accuracy', cv=10, n_jobs=multiprocessing.cpu_count())"
   ]
  },
  {
   "cell_type": "code",
   "execution_count": 0,
   "metadata": {
    "colab": {},
    "colab_type": "code",
    "id": "yxRfWXkIHurx",
    "outputId": "9075257f-63f5-4df2-e398-32930e40e634"
   },
   "outputs": [
    {
     "data": {
      "text/plain": [
       "GridSearchCV(cv=10, error_score='raise',\n",
       "       estimator=SVC(C=1.0, cache_size=200, class_weight=None, coef0=0.0,\n",
       "  decision_function_shape=None, degree=3, gamma='auto', kernel='rbf',\n",
       "  max_iter=-1, probability=False, random_state=None, shrinking=True,\n",
       "  tol=0.001, verbose=False),\n",
       "       fit_params={}, iid=True, n_jobs=4,\n",
       "       param_grid=[{'kernel': ['linear', 'rbf', 'poly', 'sigmoid'], 'C': [0.1, 0.2, 0.4, 0.5, 1.0, 1.5, 1.8, 2.0, 2.5, 3.0]}],\n",
       "       pre_dispatch='2*n_jobs', refit=True, return_train_score=True,\n",
       "       scoring='accuracy', verbose=0)"
      ]
     },
     "execution_count": 22,
     "metadata": {
      "tags": []
     },
     "output_type": "execute_result"
    }
   ],
   "source": [
    "gs.fit(X_train_scaled, y_train) "
   ]
  },
  {
   "cell_type": "code",
   "execution_count": 0,
   "metadata": {
    "colab": {},
    "colab_type": "code",
    "id": "P9T6fpUuHur7",
    "outputId": "89989835-2087-4b45-be7b-6bfef63109ed"
   },
   "outputs": [
    {
     "data": {
      "text/plain": [
       "SVC(C=2.5, cache_size=200, class_weight=None, coef0=0.0,\n",
       "  decision_function_shape=None, degree=3, gamma='auto', kernel='linear',\n",
       "  max_iter=-1, probability=False, random_state=None, shrinking=True,\n",
       "  tol=0.001, verbose=False)"
      ]
     },
     "execution_count": 23,
     "metadata": {
      "tags": []
     },
     "output_type": "execute_result"
    }
   ],
   "source": [
    "gs.best_estimator_"
   ]
  },
  {
   "cell_type": "code",
   "execution_count": 0,
   "metadata": {
    "colab": {},
    "colab_type": "code",
    "id": "QQRZQ5BXHusD",
    "outputId": "c5f31470-8c94-4580-af58-bfb434840389"
   },
   "outputs": [
    {
     "data": {
      "text/plain": [
       "0.77777777777777779"
      ]
     },
     "execution_count": 24,
     "metadata": {
      "tags": []
     },
     "output_type": "execute_result"
    }
   ],
   "source": [
    "gs.best_score_ "
   ]
  }
 ],
 "metadata": {
  "colab": {
   "name": "R3_External_Lab_kNN_Naive_Bayes.ipynb",
   "provenance": [],
   "version": "0.3.2"
  },
  "kernelspec": {
   "display_name": "Python 3",
   "language": "python",
   "name": "python3"
  },
  "language_info": {
   "codemirror_mode": {
    "name": "ipython",
    "version": 3
   },
   "file_extension": ".py",
   "mimetype": "text/x-python",
   "name": "python",
   "nbconvert_exporter": "python",
   "pygments_lexer": "ipython3",
   "version": "3.7.1"
  }
 },
 "nbformat": 4,
 "nbformat_minor": 1
}
