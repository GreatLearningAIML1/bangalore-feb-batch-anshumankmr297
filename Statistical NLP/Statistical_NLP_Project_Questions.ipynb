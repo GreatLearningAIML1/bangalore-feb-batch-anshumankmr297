{
 "cells": [
  {
   "cell_type": "markdown",
   "metadata": {
    "colab_type": "text",
    "id": "6Rc_ahEnTF9m"
   },
   "source": [
    "# Predict tags on StackOverflow with linear models"
   ]
  },
  {
   "cell_type": "markdown",
   "metadata": {
    "colab_type": "text",
    "id": "E5hmogPBTF9p"
   },
   "source": [
    "In this assignment you will learn how to predict tags for posts from [StackOverflow](https://stackoverflow.com). To solve this task you will use multilabel classification approach.\n",
    "\n",
    "### Libraries\n",
    "\n",
    "In this task you will need the following libraries:\n",
    "- [Numpy](http://www.numpy.org) — a package for scientific computing.\n",
    "- [Pandas](https://pandas.pydata.org) — a library providing high-performance, easy-to-use data structures and data analysis tools for the Python\n",
    "- [scikit-learn](http://scikit-learn.org/stable/index.html) — a tool for data mining and data analysis.\n",
    "- [NLTK](http://www.nltk.org) — a platform to work with natural language."
   ]
  },
  {
   "cell_type": "markdown",
   "metadata": {
    "colab_type": "text",
    "id": "zSq4Uzh6TF9q"
   },
   "source": [
    "### Data\n",
    "\n",
    "You can find all data required for this assignment into the folder `/data`."
   ]
  },
  {
   "cell_type": "markdown",
   "metadata": {
    "colab_type": "text",
    "id": "2V1gba1KTF9r"
   },
   "source": [
    "### Text preprocessing"
   ]
  },
  {
   "cell_type": "markdown",
   "metadata": {
    "colab_type": "text",
    "id": "WnvsWcP9TF9t"
   },
   "source": [
    "For this assignment you will need to use a list of stop words. It can be downloaded from *nltk*:"
   ]
  },
  {
   "cell_type": "code",
   "execution_count": 23,
   "metadata": {
    "colab": {
     "base_uri": "https://localhost:8080/",
     "height": 51
    },
    "colab_type": "code",
    "id": "R-RxVRvsTF9u",
    "outputId": "bb9bb432-14c0-4fb5-878c-e02bd816423e"
   },
   "outputs": [
    {
     "name": "stderr",
     "output_type": "stream",
     "text": [
      "[nltk_data] Downloading package stopwords to C:\\Users\\Anshuman\n",
      "[nltk_data]     Kumar\\AppData\\Roaming\\nltk_data...\n",
      "[nltk_data]   Package stopwords is already up-to-date!\n"
     ]
    }
   ],
   "source": [
    "import nltk\n",
    "nltk.download('stopwords')\n",
    "from nltk.corpus import stopwords"
   ]
  },
  {
   "cell_type": "markdown",
   "metadata": {
    "colab_type": "text",
    "id": "ErHWjimITF91"
   },
   "source": [
    "In this task you will deal with a dataset of post titles from StackOverflow. You are provided a split to 3 sets: *train*, *validation* and *test*. All corpora (except for *test*) contain titles of the posts and corresponding tags (100 tags are available). The *test* set doesn't contain answers. Upload the corpora using *pandas* and look at the data:"
   ]
  },
  {
   "cell_type": "code",
   "execution_count": 24,
   "metadata": {
    "colab": {},
    "colab_type": "code",
    "id": "-ufeO-nfVGha"
   },
   "outputs": [],
   "source": [
    "from ast import literal_eval\n",
    "import pandas as pd\n",
    "import numpy as np"
   ]
  },
  {
   "cell_type": "markdown",
   "metadata": {
    "colab_type": "text",
    "id": "pDahiblaU-e7"
   },
   "source": [
    "Literal_eval package takes care of the preprocessing for the string so that it can be used in python. To know more on literal_eval please see the below documentation <br>\n",
    "https://kite.com/python/docs/ast.literal_eval"
   ]
  },
  {
   "cell_type": "markdown",
   "metadata": {
    "colab_type": "text",
    "id": "bubX7TSLVLXR"
   },
   "source": [
    "## Task 1: Create training, testing and validation data from the files given. Use title to be the independent variable and tags to be the dependent variable ( 5 points)"
   ]
  },
  {
   "cell_type": "markdown",
   "metadata": {
    "colab_type": "text",
    "id": "KBFMf3bhVPb_"
   },
   "source": [
    "Note: Ensure you apply literal_eval function on the tags column to ensure all the tags are readable in python"
   ]
  },
  {
   "cell_type": "code",
   "execution_count": 25,
   "metadata": {
    "colab": {},
    "colab_type": "code",
    "id": "x8iH7o77TF96"
   },
   "outputs": [],
   "source": [
    "import pandas as pd"
   ]
  },
  {
   "cell_type": "code",
   "execution_count": 26,
   "metadata": {
    "colab": {},
    "colab_type": "code",
    "id": "HPaUfSVvTF99"
   },
   "outputs": [],
   "source": [
    "train_data=pd.read_csv('Files_required_for_Stats-NLP_Project/train.tsv',delimiter='\\t',encoding='utf-8')"
   ]
  },
  {
   "cell_type": "code",
   "execution_count": 27,
   "metadata": {
    "colab": {},
    "colab_type": "code",
    "id": "d4pPOmFvTF-B"
   },
   "outputs": [
    {
     "name": "stdout",
     "output_type": "stream",
     "text": [
      "<class 'pandas.core.frame.DataFrame'>\n",
      "RangeIndex: 100000 entries, 0 to 99999\n",
      "Data columns (total 2 columns):\n",
      "title    100000 non-null object\n",
      "tags     100000 non-null object\n",
      "dtypes: object(2)\n",
      "memory usage: 1.5+ MB\n"
     ]
    }
   ],
   "source": [
    "train_data.info()"
   ]
  },
  {
   "cell_type": "code",
   "execution_count": 28,
   "metadata": {
    "colab": {},
    "colab_type": "code",
    "id": "USlubitlTF-G"
   },
   "outputs": [
    {
     "data": {
      "text/html": [
       "<div>\n",
       "<style scoped>\n",
       "    .dataframe tbody tr th:only-of-type {\n",
       "        vertical-align: middle;\n",
       "    }\n",
       "\n",
       "    .dataframe tbody tr th {\n",
       "        vertical-align: top;\n",
       "    }\n",
       "\n",
       "    .dataframe thead th {\n",
       "        text-align: right;\n",
       "    }\n",
       "</style>\n",
       "<table border=\"1\" class=\"dataframe\">\n",
       "  <thead>\n",
       "    <tr style=\"text-align: right;\">\n",
       "      <th></th>\n",
       "      <th>title</th>\n",
       "      <th>tags</th>\n",
       "    </tr>\n",
       "  </thead>\n",
       "  <tbody>\n",
       "    <tr>\n",
       "      <th>0</th>\n",
       "      <td>How to draw a stacked dotplot in R?</td>\n",
       "      <td>['r']</td>\n",
       "    </tr>\n",
       "    <tr>\n",
       "      <th>1</th>\n",
       "      <td>mysql select all records where a datetime fiel...</td>\n",
       "      <td>['php', 'mysql']</td>\n",
       "    </tr>\n",
       "    <tr>\n",
       "      <th>2</th>\n",
       "      <td>How to terminate windows phone 8.1 app</td>\n",
       "      <td>['c#']</td>\n",
       "    </tr>\n",
       "    <tr>\n",
       "      <th>3</th>\n",
       "      <td>get current time in a specific country via jquery</td>\n",
       "      <td>['javascript', 'jquery']</td>\n",
       "    </tr>\n",
       "    <tr>\n",
       "      <th>4</th>\n",
       "      <td>Configuring Tomcat to Use SSL</td>\n",
       "      <td>['java']</td>\n",
       "    </tr>\n",
       "  </tbody>\n",
       "</table>\n",
       "</div>"
      ],
      "text/plain": [
       "                                               title                      tags\n",
       "0                How to draw a stacked dotplot in R?                     ['r']\n",
       "1  mysql select all records where a datetime fiel...          ['php', 'mysql']\n",
       "2             How to terminate windows phone 8.1 app                    ['c#']\n",
       "3  get current time in a specific country via jquery  ['javascript', 'jquery']\n",
       "4                      Configuring Tomcat to Use SSL                  ['java']"
      ]
     },
     "execution_count": 28,
     "metadata": {},
     "output_type": "execute_result"
    }
   ],
   "source": [
    "train_data.head()"
   ]
  },
  {
   "cell_type": "code",
   "execution_count": 29,
   "metadata": {},
   "outputs": [],
   "source": [
    "test_data=pd.read_csv('Files_required_for_Stats-NLP_Project/test.tsv',delimiter='\\t',encoding='utf-8')"
   ]
  },
  {
   "cell_type": "code",
   "execution_count": 30,
   "metadata": {},
   "outputs": [
    {
     "name": "stdout",
     "output_type": "stream",
     "text": [
      "<class 'pandas.core.frame.DataFrame'>\n",
      "RangeIndex: 20000 entries, 0 to 19999\n",
      "Data columns (total 1 columns):\n",
      "title    20000 non-null object\n",
      "dtypes: object(1)\n",
      "memory usage: 156.3+ KB\n"
     ]
    }
   ],
   "source": [
    "test_data.info()"
   ]
  },
  {
   "cell_type": "code",
   "execution_count": 31,
   "metadata": {},
   "outputs": [
    {
     "data": {
      "text/html": [
       "<div>\n",
       "<style scoped>\n",
       "    .dataframe tbody tr th:only-of-type {\n",
       "        vertical-align: middle;\n",
       "    }\n",
       "\n",
       "    .dataframe tbody tr th {\n",
       "        vertical-align: top;\n",
       "    }\n",
       "\n",
       "    .dataframe thead th {\n",
       "        text-align: right;\n",
       "    }\n",
       "</style>\n",
       "<table border=\"1\" class=\"dataframe\">\n",
       "  <thead>\n",
       "    <tr style=\"text-align: right;\">\n",
       "      <th></th>\n",
       "      <th>title</th>\n",
       "    </tr>\n",
       "  </thead>\n",
       "  <tbody>\n",
       "    <tr>\n",
       "      <th>0</th>\n",
       "      <td>Warning: mysql_query() expects parameter 2 to ...</td>\n",
       "    </tr>\n",
       "    <tr>\n",
       "      <th>1</th>\n",
       "      <td>get click coordinates from &lt;input type='image'...</td>\n",
       "    </tr>\n",
       "    <tr>\n",
       "      <th>2</th>\n",
       "      <td>How to implement cloud storage for media asset...</td>\n",
       "    </tr>\n",
       "    <tr>\n",
       "      <th>3</th>\n",
       "      <td>What is catcomplete in jQuery's autocomplete p...</td>\n",
       "    </tr>\n",
       "    <tr>\n",
       "      <th>4</th>\n",
       "      <td>Error building Android app with Cordova 3.1 CLI</td>\n",
       "    </tr>\n",
       "  </tbody>\n",
       "</table>\n",
       "</div>"
      ],
      "text/plain": [
       "                                               title\n",
       "0  Warning: mysql_query() expects parameter 2 to ...\n",
       "1  get click coordinates from <input type='image'...\n",
       "2  How to implement cloud storage for media asset...\n",
       "3  What is catcomplete in jQuery's autocomplete p...\n",
       "4    Error building Android app with Cordova 3.1 CLI"
      ]
     },
     "execution_count": 31,
     "metadata": {},
     "output_type": "execute_result"
    }
   ],
   "source": [
    "test_data.head()"
   ]
  },
  {
   "cell_type": "code",
   "execution_count": 32,
   "metadata": {},
   "outputs": [],
   "source": [
    "validation_data=pd.read_csv('Files_required_for_Stats-NLP_Project/validation.tsv',delimiter='\\t',encoding='utf-8')"
   ]
  },
  {
   "cell_type": "code",
   "execution_count": 33,
   "metadata": {},
   "outputs": [
    {
     "name": "stdout",
     "output_type": "stream",
     "text": [
      "<class 'pandas.core.frame.DataFrame'>\n",
      "RangeIndex: 30000 entries, 0 to 29999\n",
      "Data columns (total 2 columns):\n",
      "title    30000 non-null object\n",
      "tags     30000 non-null object\n",
      "dtypes: object(2)\n",
      "memory usage: 468.8+ KB\n"
     ]
    }
   ],
   "source": [
    "validation_data.info()"
   ]
  },
  {
   "cell_type": "code",
   "execution_count": 34,
   "metadata": {},
   "outputs": [
    {
     "data": {
      "text/html": [
       "<div>\n",
       "<style scoped>\n",
       "    .dataframe tbody tr th:only-of-type {\n",
       "        vertical-align: middle;\n",
       "    }\n",
       "\n",
       "    .dataframe tbody tr th {\n",
       "        vertical-align: top;\n",
       "    }\n",
       "\n",
       "    .dataframe thead th {\n",
       "        text-align: right;\n",
       "    }\n",
       "</style>\n",
       "<table border=\"1\" class=\"dataframe\">\n",
       "  <thead>\n",
       "    <tr style=\"text-align: right;\">\n",
       "      <th></th>\n",
       "      <th>title</th>\n",
       "      <th>tags</th>\n",
       "    </tr>\n",
       "  </thead>\n",
       "  <tbody>\n",
       "    <tr>\n",
       "      <th>0</th>\n",
       "      <td>Why odbc_exec always fail?</td>\n",
       "      <td>['php', 'sql']</td>\n",
       "    </tr>\n",
       "    <tr>\n",
       "      <th>1</th>\n",
       "      <td>Access a base classes variable from within a c...</td>\n",
       "      <td>['javascript']</td>\n",
       "    </tr>\n",
       "    <tr>\n",
       "      <th>2</th>\n",
       "      <td>Content-Type \"application/json\" not required i...</td>\n",
       "      <td>['ruby-on-rails', 'ruby']</td>\n",
       "    </tr>\n",
       "    <tr>\n",
       "      <th>3</th>\n",
       "      <td>Sessions in Sinatra: Used to Pass Variable</td>\n",
       "      <td>['ruby', 'session']</td>\n",
       "    </tr>\n",
       "    <tr>\n",
       "      <th>4</th>\n",
       "      <td>Getting error - type \"json\" does not exist - i...</td>\n",
       "      <td>['ruby-on-rails', 'ruby', 'json']</td>\n",
       "    </tr>\n",
       "  </tbody>\n",
       "</table>\n",
       "</div>"
      ],
      "text/plain": [
       "                                               title  \\\n",
       "0                         Why odbc_exec always fail?   \n",
       "1  Access a base classes variable from within a c...   \n",
       "2  Content-Type \"application/json\" not required i...   \n",
       "3         Sessions in Sinatra: Used to Pass Variable   \n",
       "4  Getting error - type \"json\" does not exist - i...   \n",
       "\n",
       "                                tags  \n",
       "0                     ['php', 'sql']  \n",
       "1                     ['javascript']  \n",
       "2          ['ruby-on-rails', 'ruby']  \n",
       "3                ['ruby', 'session']  \n",
       "4  ['ruby-on-rails', 'ruby', 'json']  "
      ]
     },
     "execution_count": 34,
     "metadata": {},
     "output_type": "execute_result"
    }
   ],
   "source": [
    "validation_data.head()"
   ]
  },
  {
   "cell_type": "code",
   "execution_count": 35,
   "metadata": {},
   "outputs": [],
   "source": [
    "X_train, y_train = train_data['title'].values, train_data['tags'].values\n",
    "X_val, y_val = validation_data['title'].values, validation_data['tags'].values\n",
    "X_test = test_data['title'].values"
   ]
  },
  {
   "cell_type": "markdown",
   "metadata": {
    "colab_type": "text",
    "id": "Bcb3kXUSTF-M"
   },
   "source": [
    "## Task 2 (Pre-processing). Implement the function *text_prepare* following the instructions. After that, run the function *test_test_prepare* to test it on tiny cases. (10 points)\n",
    "\n",
    "One of the most known difficulties when working with natural data is that it's unstructured. For example, if you use it \"as is\" and extract tokens just by splitting the titles by whitespaces, you will see that there are many \"weird\" tokens like *3.5*, *?*,  *{}*, etc. To prevent the problems, it's usually useful to prepare the data in a custom way\n"
   ]
  },
  {
   "cell_type": "code",
   "execution_count": 36,
   "metadata": {
    "colab": {},
    "colab_type": "code",
    "id": "PBSchmxtTF-N"
   },
   "outputs": [],
   "source": [
    "import re\n",
    "from nltk.tokenize import word_tokenize"
   ]
  },
  {
   "cell_type": "code",
   "execution_count": 37,
   "metadata": {
    "colab": {},
    "colab_type": "code",
    "id": "iI1plv6WTF-R"
   },
   "outputs": [],
   "source": [
    "REPLACE_BY_SPACE_RE = re.compile('[/(){}\\[\\]\\|@,;]')\n",
    "BAD_SYMBOLS_RE = re.compile('[^0-9a-z #+_]')\n",
    "STOPWORDS = set(stopwords.words('english'))\n",
    "\n",
    "def text_prepare(text): ### The function will take in text and lower case it remove the stopwords, symbols and return it.\n",
    "    text = text.lower()      ### Write a code which can change the input text to lowercase.\n",
    "    text = re.sub(REPLACE_BY_SPACE_RE, ' ', text)          ### Write a code which replaces REPLACE_BY_SPACE_RE (above mentioned) symbols by space in text\n",
    "    text = re.sub(BAD_SYMBOLS_RE, '', text)       ### Write a code which deletes symbols which are in BAD_SYMBOLS_RE (above mentioned) from text\n",
    "    token_word=word_tokenize(text)\n",
    "    filtered_sentence  =  [w for w in token_word if not w in STOPWORDS]        ### Write a code which deletes stopwords from text\n",
    "    lenght_of_string=len(filtered_sentence)\n",
    "    text_new=\"\"\n",
    "    for w in filtered_sentence:\n",
    "        if w!=filtered_sentence[lenght_of_string-1]:\n",
    "             text_new=text_new+w+\" \" # when w is not the last word so separate by whitespace\n",
    "        else:\n",
    "            text_new=text_new+w        \n",
    "    text = text_new\n",
    "    return text"
   ]
  },
  {
   "cell_type": "code",
   "execution_count": 38,
   "metadata": {
    "colab": {},
    "colab_type": "code",
    "id": "t5LQEgMATF-Y"
   },
   "outputs": [],
   "source": [
    "def test_text_prepare():\n",
    "    examples = [\"SQL Server - any equivalent of Excel's CHOOSE function?\",\n",
    "                \"How to free c++ memory vector<int> * arr?\"]\n",
    "    answers = [\"sql server equivalent excels choose function\", \n",
    "               \"free c++ memory vectorint arr\"]\n",
    "    for ex, ans in zip(examples, answers):\n",
    "        if text_prepare(ex) != ans:\n",
    "            return \"Wrong answer for the case: '%s'\" % ex\n",
    "    return 'Basic tests are passed.'"
   ]
  },
  {
   "cell_type": "markdown",
   "metadata": {
    "colab_type": "text",
    "id": "6t2DpralVokG"
   },
   "source": [
    "Execute the test_text_prepare function"
   ]
  },
  {
   "cell_type": "code",
   "execution_count": 39,
   "metadata": {
    "colab": {},
    "colab_type": "code",
    "id": "ihi8I2yQTF-b"
   },
   "outputs": [
    {
     "name": "stdout",
     "output_type": "stream",
     "text": [
      "Basic tests are passed.\n"
     ]
    }
   ],
   "source": [
    "print(test_text_prepare())"
   ]
  },
  {
   "cell_type": "markdown",
   "metadata": {
    "colab_type": "text",
    "id": "ettHAZ8eVt1R"
   },
   "source": [
    "*Note: You should pass the above test to ensure the text preprocessing is done before our analysis*"
   ]
  },
  {
   "cell_type": "markdown",
   "metadata": {
    "colab_type": "text",
    "id": "QV5JC6HXTF-k"
   },
   "source": [
    "Now we can preprocess the titles using function *text_prepare* and  making sure that the headers don't have bad symbols:"
   ]
  },
  {
   "cell_type": "code",
   "execution_count": 40,
   "metadata": {
    "colab": {},
    "colab_type": "code",
    "id": "gOZKuHnGTF-k"
   },
   "outputs": [],
   "source": [
    "X_train = [text_prepare(x) for x in X_train]\n",
    "X_val = [text_prepare(x) for x in X_val]\n",
    "X_test = [text_prepare(x) for x in X_test]"
   ]
  },
  {
   "cell_type": "markdown",
   "metadata": {
    "colab_type": "text",
    "id": "AfWls32MV5Uu"
   },
   "source": [
    "Print the top 5 elements in x_train"
   ]
  },
  {
   "cell_type": "code",
   "execution_count": 41,
   "metadata": {
    "colab": {},
    "colab_type": "code",
    "id": "3BP3LiGsTF-o"
   },
   "outputs": [
    {
     "data": {
      "text/plain": [
       "['draw stacked dotplot r',\n",
       " 'mysql select records datetime field less specified value',\n",
       " 'terminate windows phone 81 app',\n",
       " 'get current time specific country via jquery',\n",
       " 'configuring tomcat use ssl',\n",
       " 'awesome nested set plugin add new children tree various levels',\n",
       " 'create map json response ruby rails 3',\n",
       " 'rspec test method called',\n",
       " 'springboot catalina lifecycle exception',\n",
       " 'import data excel mysql database using php',\n",
       " 'obtaining object javalangclasst object parameterized type without constructing class q_uestion',\n",
       " 'ipad selecting text inside text input tap',\n",
       " 'jquerys function object',\n",
       " 'eclipse c++ mingw lauch program terminated',\n",
       " 'javascript call one prototype methodanother prototype method',\n",
       " 'get intersection list sets',\n",
       " 'longer able hide keyboard viewwilldisappear ios7',\n",
       " 'fetch key json swift',\n",
       " 'change pivot header template windows phone 8',\n",
       " 'connectionstring encryption',\n",
       " 'let ui refresh long running ui operation',\n",
       " 'better way execute ruby file using pythonget ruby console output ruby file run python',\n",
       " 'make 2 thumbnails codeigniter',\n",
       " 'java character vs char memory usage',\n",
       " 'bootstrap modal close enter key press',\n",
       " 'linq query group retrieving percentage',\n",
       " 'label field issue openerp',\n",
       " 'keep 2 objects view time scaling field view zy axis',\n",
       " 'attributeerror nonetype object attribute split',\n",
       " 'append mat file using scipyiosavemat',\n",
       " 'jquery replace onclick hcommandlink',\n",
       " 'redirect output ruby programme file',\n",
       " 'accesscontrolalloworigin header present requested resource error',\n",
       " 'creating json windows 8 c # using ijsonvalue implicitly convert type string windowsdatajsonijsonvalue',\n",
       " 'django modelform label captialisation',\n",
       " 'show hide div slide javascript without jquery',\n",
       " 'avoid busy spinning java',\n",
       " 'laravel 4 inputall returns data ajax post',\n",
       " 'handle neterr_connection_refused jquery ajax',\n",
       " 'year function r',\n",
       " 'use retrofit singleton using gson convertor',\n",
       " 'use settimer nondialog cpp mfc app',\n",
       " 'copying web reference new project',\n",
       " 'linq query select top five',\n",
       " 'javascript insert string specific index',\n",
       " 'apache poi change page format excel worksheet',\n",
       " 'python tkinter indeterminate progress bar running',\n",
       " 'store image path mysql database using c #',\n",
       " 'jdbc connectionerror associated managed connection',\n",
       " 'use multiple tables one model yii2',\n",
       " 'get controller names aspnet mvc4',\n",
       " 'casting integer array object array java',\n",
       " 'getting error uploading file php',\n",
       " 'clear methods java',\n",
       " 'printing floats specific number zeros',\n",
       " 'simple c c++ network library',\n",
       " 'running ruby usr bininstead usr local bin',\n",
       " 'bitmap c binary operations',\n",
       " 'laravel default mail working',\n",
       " 'entity framework model distinct function',\n",
       " 'extjs get checked nodes submit',\n",
       " 'linq select nested lists',\n",
       " 'show hide element pass values javascript html element using javascript jquery',\n",
       " 'get information json dictionary java',\n",
       " 'jquery slidetoggle text replace',\n",
       " 'display image created opencv android',\n",
       " 'instantiating class string current namespace',\n",
       " 'wpf screen resolution',\n",
       " 'content static table view cell displayed ios 9',\n",
       " 'best autocomplete suggest algorithm datastructure c++ c',\n",
       " 'backbone modelsave sending put instead post',\n",
       " 'windowlocationreplace redirects given page destroies session php chrome',\n",
       " 'mvc 4 razor model missing collections use form post',\n",
       " 'apache poi date ddmmyyyy',\n",
       " 'change style one dynamically created linkbutton affecting others',\n",
       " 'check point line',\n",
       " 'python client request fails default timeout',\n",
       " 'simultaneously acquire data update graph using python matplotlib',\n",
       " 'store value string array',\n",
       " 'c # datatable inner join dynamic columns',\n",
       " 'correct realization adapter pattern objective c',\n",
       " 'save image another folder using ajax jquery',\n",
       " 'use function currying python',\n",
       " 'jquery datatablesnet plugin ignore specific rows sorting',\n",
       " 'get current dom element angular directive',\n",
       " 'draw rectangles next java',\n",
       " 'getting parameters url zend',\n",
       " 'template inheritance inner class access problem',\n",
       " 'valueerror time data 20120719 082400 match format ymd hms',\n",
       " 'passing array json objects trough sockets java',\n",
       " 'missing child nodes deserializing xml object',\n",
       " 'error uploading new ipad app version ipad application executable contains unsupported architecture i386',\n",
       " 'passing array using com',\n",
       " 'getting urllib2urlerror urlopen errorerrno 10061 error',\n",
       " 'unique combination set',\n",
       " 'bind drop list using jquery ajax change first ddl',\n",
       " 'rails 31 qeurying database encrypted attr_encrypted gem clause encrypted fields',\n",
       " 'listctrlhack set listitems text listctrl',\n",
       " 'php mysql google maps api generate poi city state name',\n",
       " 'mappedby reference unknown target entity property',\n",
       " 'run java applet mac os 1066',\n",
       " 'get country latitude longitude',\n",
       " 'google map mouseout listener working wordpress',\n",
       " 'find row specified text quickly',\n",
       " 'iphone xcodebuild command terminal working',\n",
       " 'sapply return matrix need transpose transposed matrix attach dataframe',\n",
       " 'insert rows parent children programmatically',\n",
       " 'd3 js tick spacing time axis gets messed month boundary',\n",
       " 'create hash dictionary object javascript',\n",
       " 'c # oledbconnection con set timeout',\n",
       " 'change default django user model fit needs',\n",
       " 'ignore jsonproperty propertyname somename serializing json',\n",
       " 'automatically install toolbarbutton firefox navbar working insertitem',\n",
       " 'auto layout add new constraints interactive interface builder',\n",
       " 'kill child process running system shell command',\n",
       " 'setting php timezone cant update recent olson',\n",
       " 'facebook show help dialog',\n",
       " 'javascript jquery event listener image load browsers',\n",
       " 'intellij android java constant expression required case ridviewid',\n",
       " 'dropdown select based database entries',\n",
       " 'jquery wont work local machine',\n",
       " 'display data mysql database table using pyqt',\n",
       " 'addeventlistener working',\n",
       " 'send data specific thread',\n",
       " 'focus listviewitem wpf',\n",
       " 'documentgetelementbyid tableid innerhtml working ie8',\n",
       " 'efficient convert string int inverse',\n",
       " 'edit specific line txt file c',\n",
       " 'conditionally filter iqueryable type using generic repository pattern',\n",
       " 'get memory usage rails app',\n",
       " 'invalid indirect reference decodeindirectref trying convert c++ java',\n",
       " 'insert multiple record table codeigniter',\n",
       " 'convert sql query linq',\n",
       " 'notesnotessession vs dominonotessession password prompt',\n",
       " 'regex needed java handle dynamic string value',\n",
       " 'best way play videos website',\n",
       " 'reading line line stdin without blocking',\n",
       " 'uploading video old facebook rest api',\n",
       " 'bind comma separated string java collection list spring form',\n",
       " 'checking content member element c struct array',\n",
       " 'gridview data export excel aspnet',\n",
       " 'tinymce moxie player media splash image',\n",
       " 'propertyplaceholderconfigurerlike class use spring accepts xml',\n",
       " 'import csv file using stringsplit without array shortened due blank fields',\n",
       " 'getting li value ngmodel',\n",
       " 'start blackberry programming',\n",
       " 'smloginitemsetenabled get counterpart',\n",
       " 'searching xml value',\n",
       " 'iphone sdk quick reference',\n",
       " 'c # get directory name directorynotfoundexception',\n",
       " 'php csv column headings',\n",
       " 'java printing odd even numbers using 2 threads',\n",
       " 'alternatives os projects c # similar joomla mambo drupal',\n",
       " 'assign c # dynamic variable properties another dynamic object',\n",
       " 'get parameters url laravel',\n",
       " 'setting field value objectchild another object',\n",
       " 'android accessing global variable inside onclicklistener',\n",
       " 'operation variable argument list uml',\n",
       " 'preg_replace curly brackets',\n",
       " 'rails 323 bundler could find compatible versions gem railties',\n",
       " 'c # windows form exe',\n",
       " 'antcreate junit report task programmatically',\n",
       " 'facebooks messenger sms broadcast receiver takes highest priority reboot',\n",
       " 'documentgetelementsbyclassname name length 0',\n",
       " 'mvc bypass clientside validation save progress vs submit',\n",
       " 'rvm rails installation error ubuntu 1104',\n",
       " 'trigger event specific slide bootstrap carousel',\n",
       " 'bypass socks proxy configuration iphone',\n",
       " 'unable concanate string+variable+string javascript',\n",
       " 'cant get redirecttoaction work',\n",
       " 'map set iterators incompatible map destruction dependent constructor call',\n",
       " 'python parseerror bad input line',\n",
       " 'symfony2 forms use dynamic select options',\n",
       " 'laravel5 notfoundhttpexception routecollectionphp line 161',\n",
       " 'django ajax submission validation multiple forms handling',\n",
       " 'creating triggers jdbc oracle',\n",
       " 'access specific value mongoose query callback',\n",
       " 'javasecurityinvalidalgorithmparameterexception rc6 well rc2',\n",
       " 'updating rails models ajax',\n",
       " 'html 5 video canvas scaling issues',\n",
       " 'comparison variables pointing integer object',\n",
       " 'parse json data php',\n",
       " 'possible jump top page form submit',\n",
       " 'safely destroy dialog window wxpython application',\n",
       " 'problem php includes casesensitive file systems',\n",
       " 'django managepy runserver working',\n",
       " 'saving multiple data frames return function',\n",
       " 'refresh waypoints directions_changed',\n",
       " 'compilation error type namespace name could found',\n",
       " 'call parsecom api libgdx java implementation',\n",
       " 'iframe position',\n",
       " 'javascript adding text imageusing canvas save image',\n",
       " 'save value drop mysql',\n",
       " 'calculate correlation columns remove highly correlated ones using python pandas',\n",
       " 'optimizations browser perform dom element rendered screen',\n",
       " 'request denied service delegate sbmainworkspace',\n",
       " 'create mail client using php mysql',\n",
       " 'count values columndatagridview column',\n",
       " 'scipy build install mac osx',\n",
       " 'wpf ip address mask textbox',\n",
       " 'use adodc vbnet',\n",
       " 'java library creating console commands',\n",
       " 'get selected value text html select codebehind',\n",
       " 'restrict jqgrid textarea height grid',\n",
       " 'generatorelement sequencetype swift 3',\n",
       " 'adding style editor',\n",
       " 'xml serialization readonlycollections',\n",
       " 'possible extend java class one name',\n",
       " 'exceptions handling guidelines c++',\n",
       " 'understand parallelinstances testng suite configure',\n",
       " 'import csv excel data webpage',\n",
       " 'pass parameter owin host',\n",
       " 'rspec check model saved',\n",
       " 'rake errors loading kind mutex',\n",
       " 'datetime add calculation inside linq entities query',\n",
       " 'difference ruby ruby rails',\n",
       " 'cocos2dx lua binding',\n",
       " 'reset dispatchertimer',\n",
       " 'angularjs verify check box clicked',\n",
       " 'pass structure pointer c dll c #',\n",
       " 'pausing method set # milliseconds',\n",
       " 'call javascript vbnet',\n",
       " 'difference data params python requests',\n",
       " 'brace highlighting visual studio javascript',\n",
       " 'email component versus phpmailer cakephp',\n",
       " 'include header files correctly',\n",
       " 'php api development',\n",
       " 'change uiimageview size position programmatically swift',\n",
       " 'n n stdendl stdcout',\n",
       " 'ajax uploading file html 5 php',\n",
       " 'seperate gc log file java vm oracle application server',\n",
       " 'fix error laravellog could opened',\n",
       " 'php separate array commas',\n",
       " 'test string basically integer quotes using ruby',\n",
       " 'android java serversocket port number supposed',\n",
       " 'edit data database codeigniter using bootstrap modal',\n",
       " 'matching function call function template',\n",
       " 'reopen files python',\n",
       " 'convert expressions type void type string',\n",
       " 'eclipse error could find load main class',\n",
       " 'linq grouping dynamically',\n",
       " 'sort matrix row preserving columns',\n",
       " 'systemconcurrencyasynclock',\n",
       " 'qt make mainwindow automatically resize centralwidget resized',\n",
       " 'c # delegate dispatcher problem',\n",
       " 'angularjs web api neterr_connection_refused chrome error 00002efd ie',\n",
       " 'submit form using href',\n",
       " 'compile single java file gradle',\n",
       " 'examine code function r thats object class sensitive',\n",
       " 'curl without curl problem',\n",
       " 'make rectangle pygame automatically moves mouse location',\n",
       " 'ruby naming conventions',\n",
       " 'get systemwindowsformsiwin32window wpf window',\n",
       " 'populate second dropdownbased selected value first dropdown',\n",
       " 'install particle js wordpress using method',\n",
       " 'installing sunjava6jre gives error',\n",
       " 'pass variables reference javascript',\n",
       " 'symfony2 render view another controller',\n",
       " 'openxml spreadsheet update value sharedstringtable',\n",
       " 'objectivec find commonly used words nsstring',\n",
       " 'generics compilation error wildcard type',\n",
       " 'define vector undefined size',\n",
       " 'using switch case eval value',\n",
       " 'php class generator web services',\n",
       " 'objectivec implement ease animation',\n",
       " 'refresh jpa entities backend database changes asynchronously',\n",
       " 'dynamic subdomain creation php linux based server',\n",
       " 'preg_match long strings',\n",
       " 'open source template library matrix computation c c++',\n",
       " 'return null float method error handling',\n",
       " 'create canvas inside jframe draw basic shapes',\n",
       " 'regular expression startend position',\n",
       " 'detect screen brightness system volume changed',\n",
       " 'horizontal slider jquery 100 height auto width images children',\n",
       " 'use serial print arduino',\n",
       " 'create checkbox list',\n",
       " 'execute php code wordpress post',\n",
       " 'outofmemory exception',\n",
       " 'cvcreatememstorage working second object instance',\n",
       " 'deploy clickonce application without signing',\n",
       " 'using 2d array create clickable tkinter canvas',\n",
       " 'rails created_at',\n",
       " 'refresh shopping cart item added',\n",
       " 'java compiler oddity field declared class yet visible',\n",
       " 'replacement cultureinfogetcultures net windows store apps',\n",
       " 'npm + mocha watch accurately watching files',\n",
       " 'dofilterinternal method called',\n",
       " 'stl vector template function problem',\n",
       " 'prevents c++ strict superset c',\n",
       " 'cant set clock using setsystemtime windows 8',\n",
       " 'using hash view rails',\n",
       " 'method overloading optional parameter',\n",
       " 'using lists tuples python statements',\n",
       " 'tomcat7 shows number inactive users tomcat manager',\n",
       " 'backbonejs accessing elements fired views event',\n",
       " 'remote notification launch app background',\n",
       " 'getting proper code completion python vim',\n",
       " 'jquery mobile didnt append div content',\n",
       " 'change entity map another unknown table runtime',\n",
       " 'weird object reference set instance object error using moq',\n",
       " 'check string nil swift',\n",
       " 'combine java plot code java serial code read arduino sensor value',\n",
       " 'retrieving data sql database vbnet',\n",
       " 'rails nomethoderror undefined method name nilnilclass',\n",
       " 'jbutton actionlistener producing several exceptions javaawt security event',\n",
       " 'catching keyboard input fullscreen seems work',\n",
       " 'parallel prime factorization',\n",
       " 'way duplicating rows datatable efficient',\n",
       " 'run php script background php nohup cli',\n",
       " 'create tuple lists list',\n",
       " 'c # datagridview sort checkbox column',\n",
       " 'yiibootstrap tabs event handler',\n",
       " 'examples creating custom soft input panel windowsce 60',\n",
       " 'php view exec status realtime possible',\n",
       " 'lookup twitter followers r',\n",
       " 'looking day view javascript library plugin calendar',\n",
       " 'draw text canvas three js sprite',\n",
       " 'bitmapsave huge memory leak',\n",
       " 'regex replace function',\n",
       " 'many many relationships taxonomy eloquent',\n",
       " 'write string encoding utf8 file',\n",
       " 'put library inside namespace',\n",
       " 'storing 2dimensional string array sqlite database',\n",
       " 'hibernate + gwt exception',\n",
       " 'save grab svg website local machine convert image',\n",
       " 'angular 2 routing plain javascript typescript',\n",
       " 'reading standard input using javaioinputstreamreader hangs process runs background',\n",
       " 'add calendar textfield java',\n",
       " 'unable bind listening socket address phpfpm',\n",
       " 'assign value using linq',\n",
       " 'rotating image pygame',\n",
       " 'get object associated selected rows datagridview',\n",
       " 'threaded program using one cpu',\n",
       " 'convert systemstring generically complex type using convertchangetype',\n",
       " 'javaxcryptobadpaddingexception data must start zero',\n",
       " 'wpf governing frameworkelement found errors',\n",
       " 'rspec testing views internationalization',\n",
       " 'request 2nd url httpwebrequest obj',\n",
       " 'facesmessage error rendering view',\n",
       " 'angular controller directive cause strict di error',\n",
       " 'nginx treats php binary',\n",
       " 'flask receiving data html post',\n",
       " 'add space start byte array',\n",
       " 'boolean detect element array',\n",
       " 'pip ignore proxy setting',\n",
       " 'joomla 25 fetch module class suffix',\n",
       " 'find certain character substring objectivec',\n",
       " 'convert javascript variable md5 hash using php',\n",
       " 'incompatible pointer type nsurl nsstring',\n",
       " 'static 2d array',\n",
       " 'get first item javautilset',\n",
       " 'php preg_match comma separated decimals',\n",
       " 'ffmpeg compresses upto 32 kbps',\n",
       " 'unexpected token error connecting mysql database php',\n",
       " 'ant failed build',\n",
       " 'construct json object symfony 14 field html content',\n",
       " 'get domain currently logged user windows',\n",
       " 'initialize 2d array huge size 1000000x1000000',\n",
       " 'casting integer double xpath 10',\n",
       " 'utf8 codec cant decode byte 0xae position',\n",
       " 'objectivec test uninitialized pointer static class type',\n",
       " 'net equivalent old vb left string length function',\n",
       " 'use classvariable another class',\n",
       " 'python redirect stdout socket',\n",
       " 'change content div',\n",
       " 'npexp much slower npe',\n",
       " 'manually filter parameters rails',\n",
       " 'automatically resize stage content changed',\n",
       " 'baseonload e aspnet page',\n",
       " 'dict object attribute status_code error django project',\n",
       " 'call custom oracle function returning value jpa',\n",
       " 'get values enumeration created powershell',\n",
       " 'action_search resolved field',\n",
       " 'datetime object string',\n",
       " 'compression utf8 encoding',\n",
       " 'use loop function run script multiple files using r',\n",
       " 'nicest way dynamically implement interface c #',\n",
       " 'c # winform timers notify parent class timer event raised',\n",
       " 'maximize custom wpf form screen size',\n",
       " 'echo php inside javascript',\n",
       " 'objective c convert java statment objective c code',\n",
       " 'read pdf file line line c #',\n",
       " 'jvmcfre003 bad major version',\n",
       " 'vbnet search function using textbox combo box',\n",
       " 'loading classes application file system runtime',\n",
       " 'setting sublime text 3 rails development',\n",
       " 'datagrid view updating update button clicked',\n",
       " 'adding two strings mathematically',\n",
       " 'cant paste javascript commands addressbar ie10',\n",
       " 'parse error syntax error unexpected end exampphtdocsannouncementsannouncementphp line 143',\n",
       " 'get public ip address using php',\n",
       " 'plot step histograms ggplot2 r',\n",
       " 'replace usernamepasswordauthenticationfilter spring security',\n",
       " 'wordpress show taxonomy custom admin menu',\n",
       " 'whats right way java connect microsoft access 2007 database',\n",
       " 'spring boot validation respond json',\n",
       " 'instanceof method use generics',\n",
       " 'python allow empty function docstring body without pass statement',\n",
       " 'difference class foo class foo object python',\n",
       " 'canonical way transmit protocol buffers network',\n",
       " 'uiwebview identify last webviewdidfinishload message',\n",
       " 'eclipse rcp check job finished',\n",
       " 'create patch file using net windows application',\n",
       " 'create extension method tostring',\n",
       " 'passing field name function template',\n",
       " 'java upload fileget back string contents file',\n",
       " 'nice way make kendo custom widget using typescript classes',\n",
       " 'create excel file using php compatible 2007 2003',\n",
       " 'passing email address via query string c #',\n",
       " 'undefined method include relationship model',\n",
       " 'create icon file contains multiple sizes images c #',\n",
       " 'expected string default value jbuilder got true boolean error new rails project',\n",
       " 'vbnet slider range control',\n",
       " 'domain class entity data framework',\n",
       " 'xml linq checking null elements',\n",
       " 'linker error compiling ios 5 app simulator undefined symbols _objc_assign_global _objc_assign_ivar _objc_assign_strongcast',\n",
       " 'meta httpequivrefresh content0 urlhttp wwwxxxxxxlcom indexphp refreshing',\n",
       " 'view hierachy prepared constraint',\n",
       " 'echo session variable within echo php',\n",
       " 'c # need pass object another class call methods update',\n",
       " 'unique null sqlalchemy django',\n",
       " 'android action_up detected',\n",
       " 'process_reaper thread java',\n",
       " 'linq xml recursive query',\n",
       " 'using event handlers vs overriding eventfiring methods',\n",
       " 'complex sorting xml using linq',\n",
       " 'possible make body onload event faster',\n",
       " 'zend framework could determine temp directory please specify cache_dir manually',\n",
       " 'disabling button one click prevent multiple submissions enabling redirect',\n",
       " 'java best way find first duplicate character string',\n",
       " 'create fixed table header rows include colspans',\n",
       " 'recommended nginx configuration high traffic website wordpress',\n",
       " 'fbgetloginstatus returns status unknown',\n",
       " 'dojo grid switching editableeditable',\n",
       " 'logout jquery javascript using form authentication',\n",
       " 'wpf groupstyle groups 1 item',\n",
       " 'buffer growth strategy',\n",
       " 'c # google login',\n",
       " 'javascript date validation function',\n",
       " 'react es6 class transitionto working',\n",
       " 'running two lines code python time',\n",
       " 'matplotlib imshow zoom function',\n",
       " 'form submit ajax time using onsubmit',\n",
       " 'use ternary operator linq query',\n",
       " 'javalangnoclassdeffounderror org apache axis2 axisfault axis2kernel154jar class path',\n",
       " 'best event check using datagridviewcheckboxcell',\n",
       " 'speech recognitionc # without using windows speech recognition',\n",
       " 'dynamic menu richcombo box ckeditor',\n",
       " 'disadvantages making class serializable java',\n",
       " 'one step check null value emptiness string',\n",
       " 'programmatically open jumplist window specific exe file',\n",
       " 'catch divide 0 error message visual studio 2012',\n",
       " 'getting module file path derived class via inheritance',\n",
       " 'access arraylist string array list javascript',\n",
       " 'read non c # apps textbox using windows api c # windows forms app',\n",
       " 'access javascript variables calling scope',\n",
       " 'windows mobile vs2008 cant connect device',\n",
       " 'pass mains argv function',\n",
       " 'python list operations',\n",
       " 'print frame chrome',\n",
       " 'dynamically adding resource strings',\n",
       " 'error rstudio libuuidso1 open shared object file file directory',\n",
       " 'transaction aborted trying persist user',\n",
       " '0x mean',\n",
       " 'python decimal string',\n",
       " 'see characters nscharacterset swift',\n",
       " 'joomla page load function',\n",
       " 'use mathrandom generate random ints',\n",
       " 'symfony set destroy sessions',\n",
       " 'one add values c enum created',\n",
       " 'nslog messages using leaks',\n",
       " 'netuihwnd directuihwnd',\n",
       " 'returning exact match javascript array using regexp',\n",
       " 'update pagination angularjs filtering',\n",
       " 'type expected error linq expression',\n",
       " 'list view item binding',\n",
       " 'r multiple variables loop',\n",
       " 'migrating article contect joomla 10 25x 3x',\n",
       " 'initializing jframe',\n",
       " 'java multiple line read console',\n",
       " 'storing user input text field nsarray',\n",
       " 'python query keys dictionary based values',\n",
       " 'php mcrypt_module_open causes 500 error',\n",
       " 'linq tolist take 10 vs take 10 tolist one generates efficient query',\n",
       " 'access local sinatra server another computer network',\n",
       " 'use durability quartz xml',\n",
       " 'process returned 255 0xff code blocks',\n",
       " 'codeignitercall multiple model function single controller function codeigniter',\n",
       " 'yii framwork resizing textbox form',\n",
       " 'problem access local image app workspacelocal html file app workspace',\n",
       " 'rename json fields used mappingjacksonjsonview spring',\n",
       " 'marshall parameterized type jaxws jaxb',\n",
       " 'diplay tag link wordpress',\n",
       " '3d array c c++ initialization conversion',\n",
       " 'systemexecutionengineexception thrown',\n",
       " 'string encoding shift_jis utf8',\n",
       " 'syntax error access violation 1103 incorrect table name _post array data',\n",
       " 'change font size gradually uilabel',\n",
       " 'concatenate values select inputs radio groups one hidden field value',\n",
       " 'c++ win32 window background redrawing',\n",
       " 'change value htmltextbox using jquery json',\n",
       " 'json empty string deserializes null server side',\n",
       " 'way select bit rate using avplayer http live audio streaming',\n",
       " 'django creating superuser custom user model',\n",
       " 'jquery ajax send data url without showing data webdevelopers',\n",
       " 'merging two datasets 1 column common',\n",
       " 'facebook integration website using facebook login button plugin store user crenditials database',\n",
       " 'modal containerauto centering fitting size content inside container',\n",
       " 'angular2 testing whats difference debugelement nativeelement object componentfixture',\n",
       " 'java jdbc driver type_forward_only',\n",
       " 'make yaxis intersect xaxis 0 ggplot2',\n",
       " 'playframework catch deadlock reissue transaction',\n",
       " 'sqlalchemy update postgresql array using merge work',\n",
       " 'stringargument constructor factory method deserialize string value',\n",
       " 'compare sql datetimec # datetime',\n",
       " 'html5 drag dropevents dragleave fires drop',\n",
       " 'validate post code input data',\n",
       " 'download file aspnet web api method using angularjs',\n",
       " 'using javascript rename multiple html files using title title file',\n",
       " 'recording sending screen stream c #',\n",
       " 'download csv google insight search',\n",
       " 'radio button enable text area',\n",
       " 'programmatically added user control create child controls',\n",
       " 'website working firefox chrome ie',\n",
       " 'adjusting contrast brightness opencv',\n",
       " 'automatic selectall textboxes numericupdown controls gotfocus',\n",
       " 'duplicate certain set javafx 22 nodes',\n",
       " 'referencing mscorlib visual studio 2010',\n",
       " 'jsonnet fails serialize stream works fine serializing string',\n",
       " 'parsing text content url',\n",
       " 'java get json object array',\n",
       " 'use linq group sequence numbers gaps',\n",
       " 'posting checked unchecked checkboxes',\n",
       " 'programatically add uiimage uiimageview add uiimageview another uiview',\n",
       " 'add controls winforms dynamically another thread',\n",
       " 'python tailer logrotate',\n",
       " 'free c++ memory vectorint arr',\n",
       " 'visual studio 2013 caching older version js file',\n",
       " 'threejs draw custom mesh meshlambertmaterial point light',\n",
       " 'get image size loads extern url javascript',\n",
       " 'uncheck html checkbox label',\n",
       " 'java swing popup window losing focus repainting',\n",
       " 'ruby rails timenow',\n",
       " 'angularjs localstorage change event',\n",
       " 'nodejs error error find module mongoose',\n",
       " 'adding new div another one',\n",
       " 'tell rs ggplot2 put tick marks valuesxaxis still keep vertical lines values',\n",
       " 'submit form inside razor view java script function without redirection',\n",
       " 'extract href queryselectorall',\n",
       " 'put image dynamically created button',\n",
       " 'regex get numbers minus sign',\n",
       " 'uiwebview content visible',\n",
       " 'site shows blank screen ie works fine firefox chrome',\n",
       " 'parsing json php',\n",
       " 'call method jar file jsp',\n",
       " 'installing mysql2 gem ruby 187 mac osx 106',\n",
       " 'binary operator applied operands type string string swift 2 xcode 7',\n",
       " 'randomly generate variable names',\n",
       " 'c # save apostrophe xml',\n",
       " 'changing css controls gridview separately row',\n",
       " 'application spring security dont go beyond login page',\n",
       " 'read gmail contacts using zend framework using oauth',\n",
       " 'windowonload ie7',\n",
       " 'setting minimum maximum date calendar',\n",
       " 'add client script aspnet page dynamically',\n",
       " 'using mousebuttondown pygame',\n",
       " 'get user name owner process net',\n",
       " 'hex string byte array conversion',\n",
       " 'hibernatedaosupport native sql',\n",
       " 'fixing error creation private accessor microsoftvisualstudiotesttoolstypesandsymbolsassembly failed',\n",
       " 'trouble matching multiple patterns ruby regex',\n",
       " 'wicket springbean create bean',\n",
       " 'could get information inmemory layout info net object model',\n",
       " 'exception thread main javalangoutofmemoryerror java heap space base64decoder',\n",
       " 'jquery run function load complete dom updated',\n",
       " 'jquery tab slider',\n",
       " 'simple php compatible video chat service',\n",
       " 'java find read file user input',\n",
       " 'c # simple way bring onelinexmlfiles human readable multi line',\n",
       " 'jquery trigger click vs function call',\n",
       " 'inheritance nested views angularjs',\n",
       " 'syntax declare js scripts',\n",
       " 'javalangclasscastexception orghibernatetypestringtype cast orghibernatetypeversiontype',\n",
       " 'dynamically change auto complete entries c # combobox textbox',\n",
       " 'copy constructor dynamically allocated array',\n",
       " 'calling method object instance creation',\n",
       " 'moving elements scroll',\n",
       " 'writing masked image disk png file',\n",
       " 'net core console applicatin configuration xml',\n",
       " 'convert object listexpandoobject type',\n",
       " 'calculate interest rate java tvm',\n",
       " 'postback javascript function doesnt work aspnet',\n",
       " 'encrypt html php javascript',\n",
       " 'iterate list object lambda expressions',\n",
       " 'convert equationstring equation',\n",
       " 'mvc get latitude longitude controller mapview c #',\n",
       " 'c # run cl exe batch cpture output live textbox',\n",
       " 'avoid multiple ajax calls',\n",
       " 'remove label x seconds swift',\n",
       " 'fileuploadhasfile give always false',\n",
       " 'write complex join query cdbcriteria yii framework',\n",
       " 'php extract html data website',\n",
       " 'php mssql_connect working',\n",
       " 'way automatically update proxy object updating service wcf',\n",
       " 'enable button input field empty',\n",
       " 'const char lpcwstr qt',\n",
       " 'event defined firefox ok chrome ie',\n",
       " 'unicodeencodeerror using oslistdir',\n",
       " 'access grant malformed azure ad',\n",
       " 'get pin google maps using location variable',\n",
       " 'gmail smtp authentication',\n",
       " 'binding array pojos request parameter',\n",
       " 'call web service empty soapaction definition',\n",
       " 'create cmd file run jars',\n",
       " 'skrollr relative mode working properly chrome safari',\n",
       " 'set current time field mysql',\n",
       " 'set extbuttonsplit show arrow menu empty',\n",
       " 'captcha image webbrowser control picturebox',\n",
       " 'detect user drop image inside browser current tab viewport',\n",
       " 'react thisstate undefined inside component function',\n",
       " 'getblobreferencefromserver working relative uris error absolute addresses permitted',\n",
       " 'error creating table mysql',\n",
       " 'typegettype work generic classes',\n",
       " 'php pagination limited number records',\n",
       " 'dynamically adding scriptelement div execute script',\n",
       " 'rails fix actionviewmissingtemplate error',\n",
       " 'test private methods nunit',\n",
       " 'exceptionconverter javaioioexception space left device',\n",
       " 'java gui framework good first gui project',\n",
       " 'remove # anchor locationhash url linking page within website',\n",
       " 'installing ffmpeg module php windows server',\n",
       " 'cant connect rabbitmqc using ssl support',\n",
       " 'parse log file using java plot graph',\n",
       " 'getting single value sql adonet',\n",
       " 'swf sandbox violation error # 2060 chrome',\n",
       " 'convert svgsvgelement string',\n",
       " 'this_getparam zend framework empty',\n",
       " 'python binary hex string conversion',\n",
       " 'subtract time php',\n",
       " 'serialize object keeps pointers objects c++',\n",
       " 'passing multiple params rails controller',\n",
       " 'using arrays switch case java',\n",
       " 'loadingtext iframe loading',\n",
       " 'pandas groupby partial string',\n",
       " 'need create json read write java didnt',\n",
       " 'gray overlay custom uibutton getting displayed',\n",
       " 'store array values single variable csv php',\n",
       " 'reading csv datatable without knowing structure',\n",
       " 'split vector n sub vectors rebound',\n",
       " 'php server err_connection_refused',\n",
       " 'uncaught typeerror read property top null',\n",
       " 'system cant find specify fileusing iis broswer homeaspx file',\n",
       " 'c++ find set pointers',\n",
       " 'incompatible types int nulltype',\n",
       " 'calculate probability given data',\n",
       " 'multiple small files v one big file http requests',\n",
       " 'java change color string',\n",
       " 'clearinterval doesnt work',\n",
       " 'jsp editable datagrid',\n",
       " 'deserialize javascript associative array c # dictionary jsonnet',\n",
       " 'onactionexecuting web api call map controller action class route string read action attributes',\n",
       " 'smtp connect failed',\n",
       " 'swift http post 2d array',\n",
       " 'creating new array contents old array keeping old array static',\n",
       " 'error int tuple connection',\n",
       " 'get loopcount using user inputs infinitely loop',\n",
       " 'missing using directive assembly reference wpf xaml',\n",
       " 'catch mouse events powerpoint designer vsto',\n",
       " 'pass value mysql bootstrap modal',\n",
       " 'searching gridview bound sqldatasource using textboxes',\n",
       " 'concat linq query result string',\n",
       " 'executing function page gets windowprint',\n",
       " 'best way declare logger variable java',\n",
       " 'open file clicking hyperlink',\n",
       " 'difference boostchronotime_point boostchronosteady_clocktime_point',\n",
       " 'working testing dates rails',\n",
       " 'insert comment root svg element',\n",
       " 'python file doesnt read whole file iofileio',\n",
       " 'retrieving get variable via php send swf script',\n",
       " 'xcode 8 swift c++',\n",
       " 'set webbrowserdocumenttype',\n",
       " 'use google chrome remote debugging protocol http',\n",
       " 'creating custom slider using jquery ui',\n",
       " 'php parse post data',\n",
       " 'taskscheduler scheduled quartz',\n",
       " 'allow user insert html code without riskstechnical risks',\n",
       " 'special character getting replaced',\n",
       " 'loading xls msexcel file webview showing error',\n",
       " 'checking null calling free',\n",
       " 'apply syntax file vim',\n",
       " 'java realm get latest inserted item',\n",
       " 'pca categorical features',\n",
       " 'checking cell nil uitableviewcontroller',\n",
       " 'properly set integer value nsdictionary',\n",
       " 'cant getuser using facebook registration plugin',\n",
       " 'error installing pyqt',\n",
       " 'zip function giving incorrect output python',\n",
       " 'make multipleform single submit button action php',\n",
       " 'html select jquery mix working ios',\n",
       " 'line break svg text element',\n",
       " 'extend activity listactivity',\n",
       " 'build several modules using requirejs using one physical configuration file overrides',\n",
       " 'change windows wallpaper using net 40',\n",
       " 'getasync httpclient doesnt work expected',\n",
       " 'alternative session using webapi keep track user',\n",
       " 'saving xml file utf8 encoding',\n",
       " 'go pages wordpress plugin',\n",
       " 'display speed mkmap xcode',\n",
       " 'automapper mapping 2 enum values 1 value',\n",
       " 'java stringsplit regex',\n",
       " 'conversion type dbnull type string valid10',\n",
       " 'bootstrap 3 invisible dropdown ie9 bug fix',\n",
       " 'convert joda localdate joda datetime',\n",
       " 'create menu json file',\n",
       " 'setting default value param attribute controller nil',\n",
       " 'semantic interpretation srgs xml grammar',\n",
       " 'exception immediately expunging mailbox java email',\n",
       " 'pythonic way handle sqlalchemy models',\n",
       " 'getting implicitly convert type decimal bool error',\n",
       " 'query elasticsearch java json',\n",
       " 'codeigniter query times custom file logging',\n",
       " 'magento unit testing',\n",
       " 'jackson json view deserialization',\n",
       " 'remove elements linked list',\n",
       " 'save tuple nsuserdefaults',\n",
       " 'starting address array',\n",
       " 'click link open pdf new windowtime changing parent window',\n",
       " 'find element insert content next',\n",
       " 'json response parsing using wordpress ajax',\n",
       " 'php foreach doesnt override array value iterating',\n",
       " 'js change text onclick change back onclick ifelse',\n",
       " 'apache poi thousand separator',\n",
       " 'highcharts sparse data hide empty values',\n",
       " 'interopword print preview dialog office 2010 2013',\n",
       " 'xcode button working inside storyboard',\n",
       " 'check array nonzero values elements',\n",
       " 'drag drop one image another disappear',\n",
       " 'develop pivot table java groovy',\n",
       " 'remove duplicates elements json file using java else',\n",
       " 'uiactivityindicatorview loading image online',\n",
       " 'call stored procedure firebird database php pdo',\n",
       " 'localhost url works browser returns bool false php curl_exec',\n",
       " 'allow users download pictures gif png jpeg',\n",
       " 'use idatareader use datareader',\n",
       " 'default locale',\n",
       " 'get substring text',\n",
       " 'skip r n string',\n",
       " 'php calling class method class name variable string',\n",
       " 'linq entities orderby',\n",
       " 'spark application javalangoutofmemoryerror direct buffer memory',\n",
       " 'possible run php exec cygwin',\n",
       " 'performance tuning jsf',\n",
       " 'mysql get data table matching ids',\n",
       " 'swapping two nodes linkedlist c',\n",
       " 'nodejs settimeout fn0 vs setimmediate fn',\n",
       " 'error parsing http request header tomcat 7',\n",
       " 'angular 2 universal serverside rendering',\n",
       " 'threejs accurate ray casting collision detection',\n",
       " 'load google map background div',\n",
       " 'open word doc c #',\n",
       " 'storing image plist',\n",
       " 'rails devise facebook +twitter +',\n",
       " 'display jfreechart chartpanel jpanel generated netbeans',\n",
       " 'c # aspnet iterate table',\n",
       " 'best way send xml string java sockets',\n",
       " 'app access admin level privileges nonrooted device',\n",
       " 'overriding instance method static ones',\n",
       " 'create python tkinter window x close button',\n",
       " 'filter array letter',\n",
       " 'return value ospath python',\n",
       " 'locationservicesenabled always return yes',\n",
       " 'lazy object creation c++ zerocost validation',\n",
       " 'streaming music ipad iphone ipod touch pc airtunes net',\n",
       " 'see styles attached hover pseudo classes firebug chrome debugger',\n",
       " 'override applicationproperties production springboot',\n",
       " 'google script replace function range',\n",
       " 'dealing high traffic right way',\n",
       " 'underlying provider failed open entity framework',\n",
       " 'equalitycomparertdefault works internally',\n",
       " 'set pagination laravel without refreshing whole page',\n",
       " 'angularjs image src change model changes',\n",
       " 'phpini',\n",
       " 'mockito injecting null values spring bean using mock',\n",
       " 'programmatically set textblock margin',\n",
       " 'using nodejs show realtime notification messages php application',\n",
       " 'convert string datetime linqtoentities inside query',\n",
       " 'way use custom control designer avoid gac',\n",
       " 'qt creator linker error lnk1104 open file opencv_core249dlib',\n",
       " 'python call function string',\n",
       " 'raphael js unable create canvas referencing div',\n",
       " 'regular expression alphabetic letter accent',\n",
       " 'objectivec ipad chart graph',\n",
       " 'execute statement every n iterations python',\n",
       " 'finisarsqlitesqliteexception sql logic error missing database unrecognized token',\n",
       " 'plotting monthly data ggplot',\n",
       " 'add external input value form submit',\n",
       " 'find first day next month remaining days till date php',\n",
       " 'relationship node charts graphs using javascript something else',\n",
       " 'class declares multiple json fields',\n",
       " 'wrap echo textarea using php',\n",
       " 'django updating single model',\n",
       " 'django custom user model admin relation auth_user exist',\n",
       " 'laravel 4 load different layout particular method',\n",
       " 'linq result empty',\n",
       " 'google credential service account',\n",
       " 'list orderby alphabetical order',\n",
       " 'javascript submit page 30 seconds',\n",
       " 'printing rdlc report without preview web application iis mode',\n",
       " 'word 2007 documents visual studio 2010',\n",
       " 'whats best way serialize javascript objects xml',\n",
       " 'use mongodbexport python shell script',\n",
       " 'stop executing page loading',\n",
       " 'exception thread main javalangnoclassdeffounderror wrong name command prompt',\n",
       " 'view prepared pdo sql statement',\n",
       " 'set form minimum size',\n",
       " 'difference uint32 unsigned int c++',\n",
       " 'pass double value textview android im new',\n",
       " 'invoke parent private method child',\n",
       " 'form validation angularjs ionic doesnt work',\n",
       " 'change text span element clicking using jquery',\n",
       " 'get next item laravel collection',\n",
       " 'add png jbutton',\n",
       " 'error passing 2d char array function',\n",
       " 'stdsignal stdraise threadsafe',\n",
       " 'aspnet mvc passing model referencing different assembly controller view using c #',\n",
       " 'get started mean stack',\n",
       " 'tell python script use particular version',\n",
       " 'jquery sum class li value',\n",
       " 'passing argument using add_action wordpress',\n",
       " 'access nested elements json object using getjsonarray method',\n",
       " 'c # serialize second level element property',\n",
       " 'happens call notify thread waiting',\n",
       " 'd3js insert new sibling elements',\n",
       " 'customisations tabularinline django',\n",
       " 'get php self get variables',\n",
       " 'event triggered tab load loading tab ajax',\n",
       " 'socket programming single computer',\n",
       " 'change value div',\n",
       " 'cant correctly import external js aurelia application datatables',\n",
       " 'python requests_ntlm import error',\n",
       " 'using dependency injection pojos inject ejbs',\n",
       " 'sqlite wal mode multiple transactions multiple threads',\n",
       " 'opengl alpha blending wrong color',\n",
       " 'redeclaring function parameters variables',\n",
       " 'migrate existing site cms like drupal framework like zend neither',\n",
       " 'encoding problem',\n",
       " 'changing queries table adapter database connection',\n",
       " 'smooth uitextview auto scroll bottom frame',\n",
       " 'cant connect mongodb database user php',\n",
       " 'get class name without instance class php',\n",
       " 'passportjs localstrategy allow parameters default username password',\n",
       " 'multi selection drop menu',\n",
       " 'play framework 2 running unit tests intellij idea 13',\n",
       " 'python split path recursively',\n",
       " 'speed exceptions java',\n",
       " 'modify initcomponents netbeans',\n",
       " 'want create multiple pdfs loop using dompdf',\n",
       " 'phpunit code coverage gives zend_mm_heap corrupted segmentation fault 11',\n",
       " 'using string array hashmap java',\n",
       " 'use index variable jstl foreach loop access map entry',\n",
       " 'get result mysql_query inside mysql_fetch_array',\n",
       " 'show d3 chart using bootstrap modal popup click button download image format',\n",
       " 'find cluster sizes 2d numpy array',\n",
       " 'ninject binding identity usermanager',\n",
       " 'run aspnet web application another machine',\n",
       " 'transferring one datagridview data another datagridview vbnet',\n",
       " 'defer attribute chrome',\n",
       " 'check kind pdf reader installed',\n",
       " 'whats easiest way java swing client consumer webservice',\n",
       " 'apache poi getting exact font color excel java',\n",
       " 'initialize empty vector structure c++',\n",
       " 'edit textfield selected text color javafx',\n",
       " 'tree traversal java iterative recursive',\n",
       " 'get enum values list string java 8',\n",
       " 'c++ templates generic programming vs polymorphism',\n",
       " 'clear stack visual studio immediate window',\n",
       " 'mvc3 validationattribute validationcontextmembername null',\n",
       " 'awaiting async task showing modal form method handled',\n",
       " 'getting razor view understand linq sql objects',\n",
       " 'using java variable sql statement',\n",
       " 'python program run computer without python c c++',\n",
       " 'stop winsound stop thread python',\n",
       " 'fatal error call member function query nonobject php file',\n",
       " 'java list string array remove',\n",
       " 'jtextfield inner fields preformated format something like ip field windows',\n",
       " 'opencv python error assertion failed sizewidth0 sizeheight0',\n",
       " 'display one div time',\n",
       " 'calculate time difference strings javascript',\n",
       " 'set background color mac osx objective c',\n",
       " 'open file remote network share',\n",
       " 'save id autocomplete field instead text jquery autocomplete rails3',\n",
       " 'passing values dynamically created textboxes array using javascript',\n",
       " 'android studio gradle issues invalid gradle jdk configuration found',\n",
       " 'onitemselectedlistener working tab fragment',\n",
       " 'activemq stops sending messagesqueue consumer case consumer acknowledging messages',\n",
       " 'get cakephp bake find mysqlsock recognize mysql using mamp mac osx',\n",
       " 'circular references warnings caused forward declarations object c',\n",
       " 'sum digits even odd places c',\n",
       " 'include functioninside another function',\n",
       " 'infinite loop getter setter c #',\n",
       " 'detect uitableview scroll past bottom top',\n",
       " 'object relational mapping insert update stored procedures',\n",
       " 'angular js directive unloading event equivalent',\n",
       " 'usual practice combine minify external js libraries css files',\n",
       " 'initialise class object name',\n",
       " 'using href link servlet',\n",
       " 'using java parse csv save 2d array',\n",
       " 'jquery auto print row number',\n",
       " 'implicitly convert type string microsoftsqlserverdtsruntimevariable',\n",
       " 'python list list __getitem__',\n",
       " 'definite selenium solution modal pop dialogs internet explorer java',\n",
       " 'cache jquery objects',\n",
       " 'get translate3d values div',\n",
       " 'javalangclasscastexception androidwidgetlinearlayout cast androidwidgettextview using arrayadapter',\n",
       " 'pushing mysql data javascript php',\n",
       " 'appengine apps vs google bot web crawler',\n",
       " 'difference interface abstract class',\n",
       " 'firefox firebug extension freeze javascript feature',\n",
       " 'store data contains quotes mysql',\n",
       " 'shouldnt functions async default',\n",
       " 'scikit learn creation dummy variables',\n",
       " 'plotting histograms grouped data pandas dataframe',\n",
       " 'load image static method',\n",
       " 'declare carray header file',\n",
       " 'convert character entities unicode equivalents',\n",
       " 'owin openid provider getexternallogininfo returns null',\n",
       " 'pure virtual function inline',\n",
       " 'mvc4 create script bundle razor file',\n",
       " 'strange fatal error call undefined method phpmailersetfrom codeigniter',\n",
       " 'use object array php',\n",
       " 'refresh button iframe jquery javascript',\n",
       " 'splash screen animation supporting xcode 7 gm ios9 app crashes error',\n",
       " 'wpf window detect first show',\n",
       " 'google maps jsp spring',\n",
       " 'javascript generated typescript',\n",
       " 'make python 3x enter text web browser',\n",
       " 'jquery accordion activate external links',\n",
       " 'delete multiple rows table angularjs',\n",
       " 'could affect python string comparison performance strings 64 characters',\n",
       " 'running django project without django installation',\n",
       " 'rails upgrade 323 3211',\n",
       " 'using blocks reload uitableview data crashes',\n",
       " 'best practice handle backing bean initialization jsf 20 jsf20',\n",
       " 'file load error running rspec',\n",
       " 'xml validation xsds java',\n",
       " 'accessing attributes attr raphael element triggering mouseover event',\n",
       " 'write jump instruction c',\n",
       " 'property found object type',\n",
       " 'populate matrix values another matrix r',\n",
       " 'allow access php file another php file direct url',\n",
       " 'change json structure',\n",
       " 'local global static variables c++',\n",
       " 'get type nameobject property name',\n",
       " 'reduce lag jframe painting',\n",
       " 'convert complex filename html link',\n",
       " 'use typeid store type_info object',\n",
       " 'c++ metatemplates required knowledge programmers',\n",
       " 'python regex gets last occurrence',\n",
       " 'optimizing tomcat garbage collection',\n",
       " 'uialertview buttons subviews showing ios 7',\n",
       " 'executable jar file running',\n",
       " 'suggestions open source aspectoriented library c #',\n",
       " 'resizeimages using javascript scale real resize',\n",
       " 'jquery ui datepicker date range issue',\n",
       " 'printing odd numbered characters string without string slicing',\n",
       " 'make checkbox win32',\n",
       " 'scrolling zooming div',\n",
       " 'test nginx proxy timeouts',\n",
       " 'fixedpoint arithmetic',\n",
       " 'eval function work php',\n",
       " 'java reflection set value class object dynamically created',\n",
       " 'checking file last modified c # windows os',\n",
       " 'iterating users feed using javascript sdk',\n",
       " 'c # determine duplicate list',\n",
       " 'wpf combobox default selection itemssource',\n",
       " 'django questionhow pass list parameter using post method',\n",
       " 'return value done jquery ajax',\n",
       " 'entity framework paged join unions',\n",
       " 'possible ways happen memory leaks using jsp servlets development mode',\n",
       " 'contextsavechanges linq',\n",
       " 'nodename sometimes allcaps javascript dom',\n",
       " 'syntax error unexpected end input parsejson',\n",
       " 'transactional file writing c # windows',\n",
       " 'use multithreading would multi threading beneficial different threads execute mutually independent tasks',\n",
       " 'jquery dropdown menu',\n",
       " 'get maximum size resize excel worksheet',\n",
       " 'include get_template_part',\n",
       " 'select specific part array two arrays returned',\n",
       " 'advantages apache wicket',\n",
       " 'send email php specified time',\n",
       " 'creating set uniformly distributed random numbers',\n",
       " 'disable caching via configuration yii',\n",
       " 'unable create math object java',\n",
       " 'python socket error 35',\n",
       " 'two realms application spring security',\n",
       " 'using python subprocesscall crontab',\n",
       " 'updating python use aws cli',\n",
       " 'performing multiple database operations single rest call',\n",
       " 'databinding variable c # textblock wpf application working',\n",
       " 'c++ opengl drawing room',\n",
       " ...]"
      ]
     },
     "execution_count": 41,
     "metadata": {},
     "output_type": "execute_result"
    }
   ],
   "source": [
    "X_train"
   ]
  },
  {
   "cell_type": "markdown",
   "metadata": {
    "colab_type": "text",
    "id": "At_ZTeqTTF-t"
   },
   "source": [
    "## Task 2 (WordsTagsCount) - Find 3 most popular tags and 3 most popular words in the train data. - 5 points"
   ]
  },
  {
   "cell_type": "markdown",
   "metadata": {
    "colab_type": "text",
    "id": "x2mT1f7gWKSu"
   },
   "source": [
    "Note: The words which appear the most are considered as popular in this case!"
   ]
  },
  {
   "cell_type": "code",
   "execution_count": 42,
   "metadata": {
    "colab": {},
    "colab_type": "code",
    "id": "q-eQoxipTF-v"
   },
   "outputs": [
    {
     "name": "stdout",
     "output_type": "stream",
     "text": [
      "100000\n"
     ]
    }
   ],
   "source": [
    "print(len(X_train))\n",
    "\n",
    "import collections \n",
    "from collections import Counter\n",
    "import re"
   ]
  },
  {
   "cell_type": "markdown",
   "metadata": {
    "colab_type": "text",
    "id": "xkwg8_WNTF-3"
   },
   "source": [
    "We are assuming that *tags_counts* and *words_counts* are dictionaries like `{'some_word_or_tag': frequency}`. After applying the sorting procedure, results will be look like this: `[('most_popular_word_or_tag', frequency), ('less_popular_word_or_tag', frequency), ...]`.\n",
    "\n",
    "eg: \n",
    "Tag 1 - 100 Tag 2 - 65 Tag 3 - 250 <br>\n",
    "after sorting looks like, <br>\n",
    "Tag 3 - 250 Tag 1 - 100 Tag 2 - 65"
   ]
  },
  {
   "cell_type": "code",
   "execution_count": 43,
   "metadata": {
    "colab": {},
    "colab_type": "code",
    "id": "RSCPa54uTF-4"
   },
   "outputs": [],
   "source": [
    "words=[]\n",
    "tag_w=[]\n",
    "for i in range(0,100000):\n",
    "    words = words+(re.findall(r'\\w+', X_train[i])) # words cantain all the words in the dataset\n",
    "    tag_w=tag_w+list(y_train[i]) # tage_w contain all tags that aree present in train dataset"
   ]
  },
  {
   "cell_type": "code",
   "execution_count": 51,
   "metadata": {},
   "outputs": [
    {
     "name": "stdout",
     "output_type": "stream",
     "text": [
      "dict_items([('[', 100000), (\"'\", 388438), ('r', 66997), (']', 100000), ('p', 73938), ('h', 34358), (',', 94219), (' ', 94219), ('m', 21039), ('y', 30132), ('s', 73645), ('q', 13874), ('l', 29102), ('c', 70006), ('#', 19077), ('j', 58019), ('a', 116992), ('v', 51546), ('i', 63711), ('t', 71065), ('u', 22296), ('e', 59417), ('b', 16617), ('-', 21246), ('o', 49551), ('n', 54680), ('3', 1071), ('g', 14734), ('d', 17168), ('+', 12938), ('w', 9767), ('f', 8221), ('x', 7999), ('.', 12544), ('k', 1736), ('2', 1009), ('7', 421), ('0', 1176), ('1', 588), ('5', 842)])\n"
     ]
    }
   ],
   "source": [
    "words_counts = Counter(words) # counter create the dictinary of unique words with their frequncy\n",
    "tag_counts=Counter(tag_w)\n",
    "print(tag_counts.items())"
   ]
  },
  {
   "cell_type": "code",
   "execution_count": 53,
   "metadata": {},
   "outputs": [],
   "source": [
    "words_counts = Counter(words)\n",
    "most_common_tags = sorted(tag_counts.items(), key=lambda x: x[1], reverse=True)[:3]\n",
    "most_common_words = sorted(words_counts.items(), key=lambda x: x[1], reverse=True)[:3]"
   ]
  },
  {
   "cell_type": "code",
   "execution_count": 79,
   "metadata": {},
   "outputs": [
    {
     "name": "stdout",
     "output_type": "stream",
     "text": [
      "[('using', 8241), ('c', 8145), ('php', 5587)]\n"
     ]
    }
   ],
   "source": [
    "import grader\n",
    "print(most_common_words)\n",
    "#grader.submit_tag('WordsTagsCount', '%s\\n%s' % (','.join(tag for tag, _ in most_common_tags), ','.join(word for word, _ in most_common_words)))"
   ]
  },
  {
   "cell_type": "markdown",
   "metadata": {
    "colab_type": "text",
    "id": "Xk7M4uJ_TF-8"
   },
   "source": [
    "## Task - 3 Transforming text to a vector (10 points)\n",
    "\n",
    "Machine Learning algorithms work with numeric data and we cannot use the provided text data \"as is\". There are many ways to transform text data to numeric vectors. In this task you will try to use two of them.\n",
    "\n",
    "#### Bag of words\n",
    "\n",
    "One of the well-known approaches is a *bag-of-words* representation. To create this transformation, follow the steps:\n",
    "1. Find *N* most popular words in train corpus and numerate them. Now we have a dictionary of the most popular words.\n",
    "2. For each title in the corpora create a zero vector with the dimension equals to *N*.\n",
    "3. For each text in the corpora iterate over words which are in the dictionary and increase by 1 the corresponding coordinate.\n",
    "\n",
    "Let's try to do it for a toy example. Imagine that we have *N* = 4 and the list of the most popular words is \n",
    "\n",
    "    ['hi', 'you', 'me', 'are']\n",
    "\n",
    "Then we need to numerate them, for example, like this: \n",
    "\n",
    "    {'hi': 0, 'you': 1, 'me': 2, 'are': 3}\n",
    "\n",
    "And we have the text, which we want to transform to the vector:\n",
    "\n",
    "    'hi how are you'\n",
    "\n",
    "For this text we create a corresponding zero vector \n",
    "\n",
    "    [0, 0, 0, 0]\n",
    "    \n",
    "And iterate over all words, and if the word is in the dictionary, we increase the value of the corresponding position in the vector:\n",
    "\n",
    "    'hi':  [1, 0, 0, 0]\n",
    "    'how': [1, 0, 0, 0] # word 'how' is not in our dictionary\n",
    "    'are': [1, 0, 0, 1]\n",
    "    'you': [1, 1, 0, 1]\n",
    "\n",
    "The resulting vector will be \n",
    "\n",
    "    [1, 1, 0, 1]\n",
    "   \n",
    "Implement the described encoding in the function *my_bag_of_words* with the size of the dictionary equals to 5000. To find the most common words use train data. You can test your code using the function *test_my_bag_of_words*."
   ]
  },
  {
   "cell_type": "code",
   "execution_count": 80,
   "metadata": {
    "colab": {},
    "colab_type": "code",
    "id": "6ER1oq48TF-9"
   },
   "outputs": [],
   "source": [
    "DICT_SIZE = 5000\n",
    "most_common_words = sorted(words_counts.items(), key=lambda x: x[1], reverse=True)[:5000] \n",
    "WORDS_TO_INDEX = {} \n",
    "INDEX_TO_WORDS = {}\n",
    "\n",
    "for i in range(0,5000):\n",
    "    WORDS_TO_INDEX[most_common_words[i][0]]=i   # most_common_words[i][0] means extracting ith word from the dictioaanry, words to index conatain the index value of the word\n",
    "    INDEX_TO_WORDS[i]=most_common_words[i][0]\n",
    "\n",
    "ALL_WORDS = WORDS_TO_INDEX.keys()\n",
    "### Write a function which returns a vector which is a bag-of-words representation of 'text'\n",
    "def my_bag_of_words(text, words_to_index, dict_size):\n",
    "    result_vector = np.zeros(dict_size)\n",
    "    y=text.split(\" \")\n",
    "    for i in range(0,len(y)):\n",
    "        for key,value in words_to_index.items():\n",
    "            if y[i]==key:\n",
    "                result_vector[words_to_index[key]]=result_vector[words_to_index[key]]+1  #  result_vector[words_to_index[key]] conatin the count of the presence of  word in the text\n",
    "            \n",
    "    return result_vector # result vector is the vector of the size of the no of words taken as features having count of then in the text\n",
    "        \n",
    "    "
   ]
  },
  {
   "cell_type": "code",
   "execution_count": 81,
   "metadata": {
    "colab": {},
    "colab_type": "code",
    "id": "qnLYWnsaTF_A"
   },
   "outputs": [],
   "source": [
    "def test_my_bag_of_words():\n",
    "    words_to_index = {'hi': 0, 'you': 1, 'me': 2, 'are': 3}\n",
    "    examples = ['hi how are you']\n",
    "    answers = [[1, 1, 0, 1]]\n",
    "    for ex, ans in zip(examples, answers):\n",
    "        if (my_bag_of_words(ex, words_to_index, 4) != ans).any():\n",
    "            return \"Wrong answer for the case: '%s'\" % ex\n",
    "    return 'Basic tests are passed.'"
   ]
  },
  {
   "cell_type": "markdown",
   "metadata": {
    "colab_type": "text",
    "id": "mOlSiUqEW3jD"
   },
   "source": [
    "Execute the test_text_prepare function <br>\n",
    "*<u>Note:</u> You should pass the above test to ensure BOW is working correctly!*"
   ]
  },
  {
   "cell_type": "code",
   "execution_count": 82,
   "metadata": {
    "colab": {},
    "colab_type": "code",
    "id": "cqWhoF24TF_D"
   },
   "outputs": [
    {
     "name": "stdout",
     "output_type": "stream",
     "text": [
      "Basic tests are passed.\n"
     ]
    }
   ],
   "source": [
    "print(test_my_bag_of_words())"
   ]
  },
  {
   "cell_type": "markdown",
   "metadata": {
    "colab_type": "text",
    "id": "BXW3ALCITF_H"
   },
   "source": [
    "Now apply the implemented function to all samples (this might take up to a minute):"
   ]
  },
  {
   "cell_type": "code",
   "execution_count": 83,
   "metadata": {
    "colab": {},
    "colab_type": "code",
    "id": "m39xHB2yTF_H"
   },
   "outputs": [],
   "source": [
    "from scipy import sparse as sp_sparse"
   ]
  },
  {
   "cell_type": "code",
   "execution_count": 84,
   "metadata": {
    "colab": {},
    "colab_type": "code",
    "id": "6DZwPWB1TF_K"
   },
   "outputs": [
    {
     "name": "stdout",
     "output_type": "stream",
     "text": [
      "X_train shape  (100000, 5000)\n",
      "X_val shape  (30000, 5000)\n",
      "X_test shape  (20000, 5000)\n"
     ]
    }
   ],
   "source": [
    "X_train_mybag = sp_sparse.vstack([sp_sparse.csr_matrix(my_bag_of_words(text, WORDS_TO_INDEX, DICT_SIZE)) for text in X_train])\n",
    "X_val_mybag = sp_sparse.vstack([sp_sparse.csr_matrix(my_bag_of_words(text, WORDS_TO_INDEX, DICT_SIZE)) for text in X_val])\n",
    "X_test_mybag = sp_sparse.vstack([sp_sparse.csr_matrix(my_bag_of_words(text, WORDS_TO_INDEX, DICT_SIZE)) for text in X_test])\n",
    "print('X_train shape ', X_train_mybag.shape)\n",
    "print('X_val shape ', X_val_mybag.shape)\n",
    "print('X_test shape ', X_test_mybag.shape)"
   ]
  },
  {
   "cell_type": "markdown",
   "metadata": {
    "colab_type": "text",
    "id": "WPXTUeNSTF_N"
   },
   "source": [
    "As you might notice, we transform the data to sparse representation, to store the useful information efficiently. There are many types: of such representations, however sklearn algorithms can work only with  csr matrix, so we will use this one.<br>\n",
    "<u>Documentations on sparse matrix:</u> <br>\n",
    "(https://docs.scipy.org/doc/scipy/reference/generated/scipy.sparse.csr_matrix.html#scipy.sparse.csr_matrix) \n",
    "(https://docs.scipy.org/doc/scipy/reference/sparse.html)\n",
    "\n"
   ]
  },
  {
   "cell_type": "markdown",
   "metadata": {
    "colab_type": "text",
    "id": "i8AMzsVxTF_Q"
   },
   "source": [
    "\n",
    "For the 11th row in *X_train_mybag* find how many non-zero elements it has. In this task the answer (variable *non_zero_elements_count*) should be a number, e.g. 20."
   ]
  },
  {
   "cell_type": "code",
   "execution_count": 85,
   "metadata": {
    "colab": {},
    "colab_type": "code",
    "id": "bOetzSLzTF_S"
   },
   "outputs": [
    {
     "name": "stdout",
     "output_type": "stream",
     "text": [
      "6\n"
     ]
    }
   ],
   "source": [
    "row = X_train_mybag[10].toarray()[0]\n",
    "non_zero_elements_count=0\n",
    "for i in range(0,5000):\n",
    "    if (row[i]==1):\n",
    "        non_zero_elements_count=non_zero_elements_count+1\n",
    "    \n",
    "\n",
    "print(non_zero_elements_count)\n",
    "#grader.submit_tag('BagOfWords', str(non_zero_elements_count))"
   ]
  },
  {
   "cell_type": "markdown",
   "metadata": {
    "colab_type": "text",
    "id": "GYAFKGfKTF_V"
   },
   "source": [
    "## Task 4 - TF-IDF (5 points)\n",
    "\n",
    "The second approach extends the bag-of-words framework by taking into account total frequencies of words in the corpora. It helps to penalize too frequent words and provide better features space. \n",
    "\n",
    "Implement function *tfidf_features* using class  from *scikit-learn*. Use *train* corpus to train a vectorizer. Don't forget to take a look into the arguments that you can pass to it. We suggest that you filter out too rare words (occur less than in 5 titles) and too frequent words (occur more than in 90% of the titles). Also, use bigrams along with unigrams in your vocabulary. "
   ]
  },
  {
   "cell_type": "markdown",
   "metadata": {
    "colab_type": "text",
    "id": "1s3uEKmjYpuh"
   },
   "source": [
    "## Write a function which takes x_train, x_val and x_test as input and return the tf-idf features of the same and the vocabulary"
   ]
  },
  {
   "cell_type": "code",
   "execution_count": 86,
   "metadata": {
    "colab": {},
    "colab_type": "code",
    "id": "lkz1RYsBTF_Z"
   },
   "outputs": [
    {
     "name": "stdout",
     "output_type": "stream",
     "text": [
      "['draw stacked dotplot r', 'mysql select records datetime field less specified value', 'terminate windows phone 81 app']\n"
     ]
    }
   ],
   "source": [
    "from sklearn.feature_extraction.text import TfidfVectorizer\n",
    "print(X_train[:3])"
   ]
  },
  {
   "cell_type": "code",
   "execution_count": 89,
   "metadata": {
    "colab": {},
    "colab_type": "code",
    "id": "o6V7FPirTF_i"
   },
   "outputs": [],
   "source": [
    "def tfidf_features(X_train, X_val, X_test):\n",
    "    tfidf_vectorizer =  TfidfVectorizer(min_df=5,max_df=0.9,ngram_range=(1,2),token_pattern= '(\\S+)')#  '(\\S+)'  means any no white space\n",
    "    X_train_tfidf = tfidf_vectorizer.fit_transform(X_train)\n",
    "    X_val_tfidf=tfidf_vectorizer.transform(X_val)\n",
    "    X_test_tfidf = tfidf_vectorizer.transform(X_test)\n",
    "    return X_train_tfidf, X_val_tfidf, X_test_tfidf, tfidf_vectorizer.vocabulary_"
   ]
  },
  {
   "cell_type": "code",
   "execution_count": 90,
   "metadata": {
    "colab": {},
    "colab_type": "code",
    "id": "ySnV2zCBTF_p"
   },
   "outputs": [],
   "source": [
    "X_train_tfidf, X_val_tfidf, X_test_tfidf, tfidf_vocab = tfidf_features(X_train, X_val, X_test)\n",
    "tfidf_reversed_vocab = {i:word for word,i in tfidf_vocab.items()}"
   ]
  },
  {
   "cell_type": "markdown",
   "metadata": {
    "colab_type": "text",
    "id": "o_aopTTNL5G1"
   },
   "source": [
    "Print the index of string \"C#\" in the vocabulary"
   ]
  },
  {
   "cell_type": "code",
   "execution_count": 91,
   "metadata": {},
   "outputs": [
    {
     "name": "stdout",
     "output_type": "stream",
     "text": [
      "  (0, 15462)\t0.39663409518186565\n",
      "  (0, 17578)\t0.2353057340897957\n",
      "  (0, 11523)\t0.314219852764808\n",
      "  (0, 335)\t0.3715653858760317\n",
      "  (0, 971)\t0.2441588653455216\n",
      "  (0, 17601)\t0.3341688001426869\n",
      "  (0, 11526)\t0.39411133474131554\n",
      "  (0, 336)\t0.47319295377656084\n"
     ]
    }
   ],
   "source": [
    "print(X_train_tfidf[2])"
   ]
  },
  {
   "cell_type": "code",
   "execution_count": 92,
   "metadata": {
    "colab": {},
    "colab_type": "code",
    "id": "kZ-3wqTTMCRi"
   },
   "outputs": [
    {
     "name": "stdout",
     "output_type": "stream",
     "text": [
      "X_test_tfidf  (20000, 18026)\n",
      "X_val_tfidf  (30000, 18026)\n"
     ]
    }
   ],
   "source": [
    "print('X_test_tfidf ', X_test_tfidf.shape) \n",
    "print('X_val_tfidf ',X_val_tfidf.shape)"
   ]
  },
  {
   "cell_type": "markdown",
   "metadata": {
    "colab_type": "text",
    "id": "ZYYO2kdiTF_6"
   },
   "source": [
    "## Task 5: Classification (15 points)\n",
    "MultiLabel classifier\n",
    "\n",
    "As we have noticed before, in this task each example can have multiple tags. To deal with such kind of prediction, we need to transform labels in a binary form and the prediction will be a mask of 0s and 1s. For this purpose it is convenient to use MultiLabelBinarizer from sklearn. <br>\n",
    "<u>Documentation:</u> <br>\n",
    "http://scikit-learn.org/stable/modules/generated/sklearn.preprocessing.MultiLabelBinarizer.html"
   ]
  },
  {
   "cell_type": "code",
   "execution_count": 93,
   "metadata": {
    "colab": {},
    "colab_type": "code",
    "id": "ojeCe_e_TF_7"
   },
   "outputs": [],
   "source": [
    "from sklearn.preprocessing import MultiLabelBinarizer"
   ]
  },
  {
   "cell_type": "code",
   "execution_count": 96,
   "metadata": {
    "colab": {},
    "colab_type": "code",
    "id": "p8JYQr8YTF_-"
   },
   "outputs": [],
   "source": [
    "mlb = MultiLabelBinarizer(classes=sorted(tag_counts.keys()))\n",
    "y_train = mlb.fit_transform(y_train)\n",
    "y_val = mlb.fit_transform(y_val)"
   ]
  },
  {
   "cell_type": "markdown",
   "metadata": {
    "colab_type": "text",
    "id": "qN1NUA3DTGAB"
   },
   "source": [
    "In this task we suggest to use One-vs-Rest approach, which is implemented in [OneVsRestClassifier](http://scikit-learn.org/stable/modules/generated/sklearn.multiclass.OneVsRestClassifier.html) class. In this approach *k* classifiers (= number of tags) are trained. As a basic classifier, use [LogisticRegression](http://scikit-learn.org/stable/modules/generated/sklearn.linear_model.LogisticRegression.html). It is one of the simplest methods, but often it performs good enough in text classification tasks. It might take some time, because a number of classifiers to train is large.\n",
    "\n",
    "**OneVsRest multi-label strategy**\n",
    "\n",
    "The Multi-label algorithm accepts a binary mask over multiple labels. The result for each prediction will be an array of 0s and 1s marking which class labels apply to each row input sample.\n",
    "\n",
    "**Logistic Regression & SVM**\n",
    "\n",
    "OneVsRest strategy can be used for multi-label learning, where a classifier is used to predict multiple labels for instance. LR & SVM supports multi-class, but we are in a multi-label scenario, therefore, we wrap classifiers in the OneVsRestClassifier.\n",
    "\n",
    "*If you want to learn more about OneVsRest, check out these links:*\n",
    "- *https://towardsdatascience.com/multi-label-text-classification-with-scikit-learn-30714b7819c5*\n",
    "- *https://towardsdatascience.com/journey-to-the-center-of-multi-label-classification-384c40229bff*\n",
    "- *https://medium.com/coinmonks/multi-label-classification-blog-tags-prediction-using-nlp-b0b5ee6686fc*"
   ]
  },
  {
   "cell_type": "code",
   "execution_count": 97,
   "metadata": {
    "colab": {},
    "colab_type": "code",
    "id": "2Pj6MDkbTGAC"
   },
   "outputs": [],
   "source": [
    "from sklearn.multiclass import OneVsRestClassifier\n",
    "from sklearn.linear_model import LogisticRegression\n",
    "from sklearn.svm import SVC, LinearSVC"
   ]
  },
  {
   "cell_type": "code",
   "execution_count": 101,
   "metadata": {
    "colab": {},
    "colab_type": "code",
    "id": "eUHZR2TWTGAF"
   },
   "outputs": [],
   "source": [
    "def train_classifier(X_train, y_train):\n",
    "    # Create and fit LogisticRegression and LinearSVC wraped into OneVsRestClassifier.\n",
    "    clf =OneVsRestClassifier(LogisticRegression()).fit(X_train,y_train)\n",
    "    return clf  ### clf is the model"
   ]
  },
  {
   "cell_type": "code",
   "execution_count": 102,
   "metadata": {},
   "outputs": [
    {
     "name": "stdout",
     "output_type": "stream",
     "text": [
      "X_test_tfidf  (20000, 18026)\n",
      "X_val_tfidf  (30000, 18026)\n"
     ]
    }
   ],
   "source": [
    "print('X_test_tfidf ', X_test_tfidf.shape) \n",
    "print('X_val_tfidf ',X_val_tfidf.shape)"
   ]
  },
  {
   "cell_type": "markdown",
   "metadata": {
    "colab_type": "text",
    "id": "k660NfRFTGAL"
   },
   "source": [
    "Train the classifiers for different data transformations: *bag-of-words* and *tf-idf*.\n",
    "classifier_mybag = model for "
   ]
  },
  {
   "cell_type": "code",
   "execution_count": 103,
   "metadata": {
    "colab": {},
    "colab_type": "code",
    "id": "jXyhN-yDTGAP"
   },
   "outputs": [
    {
     "name": "stderr",
     "output_type": "stream",
     "text": [
      "C:\\Users\\Public\\Anaconda3\\lib\\site-packages\\sklearn\\linear_model\\logistic.py:433: FutureWarning: Default solver will be changed to 'lbfgs' in 0.22. Specify a solver to silence this warning.\n",
      "  FutureWarning)\n",
      "C:\\Users\\Public\\Anaconda3\\lib\\site-packages\\sklearn\\multiclass.py:76: UserWarning: Label 2 is present in all training examples.\n",
      "  str(classes[c]))\n",
      "C:\\Users\\Public\\Anaconda3\\lib\\site-packages\\sklearn\\multiclass.py:76: UserWarning: Label 13 is present in all training examples.\n",
      "  str(classes[c]))\n",
      "C:\\Users\\Public\\Anaconda3\\lib\\site-packages\\sklearn\\multiclass.py:76: UserWarning: Label 14 is present in all training examples.\n",
      "  str(classes[c]))\n",
      "C:\\Users\\Public\\Anaconda3\\lib\\site-packages\\sklearn\\linear_model\\logistic.py:433: FutureWarning: Default solver will be changed to 'lbfgs' in 0.22. Specify a solver to silence this warning.\n",
      "  FutureWarning)\n",
      "C:\\Users\\Public\\Anaconda3\\lib\\site-packages\\sklearn\\multiclass.py:76: UserWarning: Label 2 is present in all training examples.\n",
      "  str(classes[c]))\n",
      "C:\\Users\\Public\\Anaconda3\\lib\\site-packages\\sklearn\\multiclass.py:76: UserWarning: Label 13 is present in all training examples.\n",
      "  str(classes[c]))\n",
      "C:\\Users\\Public\\Anaconda3\\lib\\site-packages\\sklearn\\multiclass.py:76: UserWarning: Label 14 is present in all training examples.\n",
      "  str(classes[c]))\n"
     ]
    }
   ],
   "source": [
    "classifier_mybag = train_classifier(X_train_mybag, y_train)\n",
    "classifier_tfidf = train_classifier(X_train_tfidf, y_train)"
   ]
  },
  {
   "cell_type": "markdown",
   "metadata": {
    "colab_type": "text",
    "id": "ijQZCd9cTGAU"
   },
   "source": [
    "Now you can create predictions for the data. You will need two types of predictions: labels and scores."
   ]
  },
  {
   "cell_type": "code",
   "execution_count": 104,
   "metadata": {
    "colab": {},
    "colab_type": "code",
    "id": "0QT7uWddTGAV"
   },
   "outputs": [],
   "source": [
    "y_val_predicted_labels_mybag = classifier_mybag.predict(X_val_mybag)\n",
    "y_val_predicted_scores_mybag = classifier_mybag.decision_function(X_val_mybag)\n",
    "\n",
    "y_val_predicted_labels_tfidf = classifier_tfidf.predict(X_val_tfidf)\n",
    "y_val_predicted_scores_tfidf = classifier_tfidf.decision_function(X_val_tfidf)"
   ]
  },
  {
   "cell_type": "markdown",
   "metadata": {
    "colab_type": "text",
    "id": "p9n0TEtHTGAj"
   },
   "source": [
    "Now, we would need to compare the results of different predictions, e.g. to see whether TF-IDF transformation helps or to try different regularization techniques in logistic regression. For all these experiments, we need to setup evaluation procedure. "
   ]
  },
  {
   "cell_type": "markdown",
   "metadata": {
    "colab_type": "text",
    "id": "RVqAxDxqTGAk"
   },
   "source": [
    "## Evaluation (10 points)\n",
    "\n",
    "To evaluate the results we will use several classification metrics:\n",
    " - [Accuracy](http://scikit-learn.org/stable/modules/generated/sklearn.metrics.accuracy_score.html)\n",
    " - [F1-score](http://scikit-learn.org/stable/modules/generated/sklearn.metrics.f1_score.html)\n",
    " - [Area under ROC-curve](http://scikit-learn.org/stable/modules/generated/sklearn.metrics.roc_auc_score.html)\n",
    " - [Area under precision-recall curve](http://scikit-learn.org/stable/modules/generated/sklearn.metrics.average_precision_score.html#sklearn.metrics.average_precision_score) \n",
    " \n",
    "Make sure you are familiar with all of them. If you want a refresher, you can click the link to their documentation"
   ]
  },
  {
   "cell_type": "markdown",
   "metadata": {
    "colab_type": "text",
    "id": "_YmNhVsU9K9-"
   },
   "source": [
    "## Import the necessary libraries for the above metrics"
   ]
  },
  {
   "cell_type": "code",
   "execution_count": 105,
   "metadata": {
    "colab": {},
    "colab_type": "code",
    "id": "tBvrkOUYTGAl"
   },
   "outputs": [],
   "source": [
    "from sklearn.metrics import accuracy_score\n",
    "from sklearn.metrics import f1_score\n",
    "from sklearn.metrics import roc_auc_score \n",
    "from sklearn.metrics import average_precision_score\n",
    "from sklearn.metrics import recall_score"
   ]
  },
  {
   "cell_type": "markdown",
   "metadata": {
    "colab_type": "text",
    "id": "vNkYBl_wTGAp"
   },
   "source": [
    "Define the function *print_evaluation_scores* which takes y_val and predicted as input calculates and prints the following output:\n",
    " - *accuracy*\n",
    " - *F1-score - Average = 'weighted'* \n",
    " - *Precision - Average = 'macro'*"
   ]
  },
  {
   "cell_type": "code",
   "execution_count": 106,
   "metadata": {
    "colab": {},
    "colab_type": "code",
    "id": "-4nevWnhTGAq"
   },
   "outputs": [],
   "source": [
    "def print_evaluation_scores(y_val, predicted):\n",
    "    accuracy=accuracy_score(y_val, predicted)\n",
    "    f1_score_macro=f1_score(y_val, predicted, average='macro')\n",
    "    f1_score_micro=f1_score(y_val, predicted, average='micro')\n",
    "    f1_score_weighted=f1_score(y_val, predicted, average='weighted')\n",
    "    precision_macro=average_precision_score(y_val, predicted, average='macro')\n",
    "    precision_micro=average_precision_score(y_val, predicted, average='micro')\n",
    "    precision_weighted=average_precision_score(y_val, predicted, average='weighted')\n",
    "    print(accuracy,f1_score_macro,f1_score_micro,f1_score_weighted,precision_macro,precision_micro,precision_weighted)\n",
    "    \n"
   ]
  },
  {
   "cell_type": "code",
   "execution_count": 107,
   "metadata": {
    "colab": {},
    "colab_type": "code",
    "id": "G92GIO4dTGAt"
   },
   "outputs": [
    {
     "name": "stdout",
     "output_type": "stream",
     "text": [
      "Bag-of-words\n",
      "0.2547333333333333 0.6589004693869855 0.8292143514517953 0.8201091634155705 0.5701750411888871 0.759646576448476 0.7737464760311284\n",
      "Tfidf\n",
      "0.26316666666666666 0.6506082354497033 0.8315798817318382 0.8210888381540287 0.571108236127744 0.7638332049549557 0.7758870924529827\n"
     ]
    }
   ],
   "source": [
    "print('Bag-of-words')\n",
    "print_evaluation_scores(y_val, y_val_predicted_labels_mybag)\n",
    "print('Tfidf')\n",
    "print_evaluation_scores(y_val, y_val_predicted_labels_tfidf)"
   ]
  },
  {
   "cell_type": "markdown",
   "metadata": {
    "colab_type": "text",
    "id": "kT7oso8ZTGAv"
   },
   "source": [
    "You might also want to plot some form of the [ROC curve](http://scikit-learn.org/stable/modules/model_evaluation.html#receiver-operating-characteristic-roc) for the case of multi-label classification. The input parameters for the roc curve are:\n",
    " - true labels\n",
    " - decision functions scores\n",
    " - number of classes"
   ]
  },
  {
   "cell_type": "markdown",
   "metadata": {
    "colab_type": "text",
    "id": "x4hbW3SeBVxz"
   },
   "source": [
    "Import the roc_auc function from the metrics.py file provided"
   ]
  },
  {
   "cell_type": "code",
   "execution_count": 140,
   "metadata": {
    "colab": {},
    "colab_type": "code",
    "id": "G_9M0AI4TGAv"
   },
   "outputs": [],
   "source": [
    "from metrics import roc_auc\n",
    "get_ipython().run_line_magic('matplotlib', 'inline')"
   ]
  },
  {
   "cell_type": "code",
   "execution_count": 142,
   "metadata": {
    "colab": {},
    "colab_type": "code",
    "id": "sZaymN4uTGA0"
   },
   "outputs": [
    {
     "name": "stderr",
     "output_type": "stream",
     "text": [
      "C:\\Users\\Public\\Anaconda3\\lib\\site-packages\\sklearn\\metrics\\ranking.py:648: UndefinedMetricWarning: No negative samples in y_true, false positive value should be meaningless\n",
      "  UndefinedMetricWarning)\n",
      "C:\\Users\\Public\\Anaconda3\\lib\\site-packages\\sklearn\\metrics\\ranking.py:114: RuntimeWarning: invalid value encountered in less\n",
      "  if np.any(dx < 0):\n"
     ]
    },
    {
     "data": {
      "image/png": "[encoded data removed]",
      "text/plain": [
       "<Figure size 432x288 with 1 Axes>"
      ]
     },
     "metadata": {
      "needs_background": "light"
     },
     "output_type": "display_data"
    }
   ],
   "source": [
    "n_classes = len(tag_counts)\n",
    "roc_auc(y_val, y_val_predicted_scores_mybag, n_classes)"
   ]
  },
  {
   "cell_type": "code",
   "execution_count": 144,
   "metadata": {
    "colab": {},
    "colab_type": "code",
    "id": "XwNpUEVLTGA2"
   },
   "outputs": [
    {
     "data": {
      "image/png": "[encoded data removed]",
      "text/plain": [
       "<Figure size 432x288 with 1 Axes>"
      ]
     },
     "metadata": {
      "needs_background": "light"
     },
     "output_type": "display_data"
    }
   ],
   "source": [
    "n_classes = len(tag_counts)\n",
    "roc_auc(y_val, y_val_predicted_scores_tfidf, n_classes)"
   ]
  },
  {
   "cell_type": "markdown",
   "metadata": {
    "colab_type": "text",
    "id": "9S3Ddz7LTGA3"
   },
   "source": [
    "## Task 4 (MultilabelClassification) - Optional \n",
    "** Once we have the evaluation set up, we suggest that you experiment a bit with training your classifiers. We will use *F1-score weighted* as an evaluation metric. Our recommendation:\n",
    "- compare the quality of the bag-of-words and TF-IDF approaches and chose one of them.\n",
    "- for the chosen one, try *L1* and *L2*-regularization techniques in Logistic Regression with different coefficients (e.g. C equal to 0.1, 1, 10, 100).\n",
    "\n"
   ]
  },
  {
   "cell_type": "code",
   "execution_count": null,
   "metadata": {
    "colab": {},
    "colab_type": "code",
    "id": "Ers40KuOTGA4"
   },
   "outputs": [],
   "source": [
    "######################################\n",
    "######### YOUR CODE HERE #############\n",
    "######################################"
   ]
  },
  {
   "cell_type": "markdown",
   "metadata": {
    "colab_type": "text",
    "id": "mdqTO269TGA8"
   },
   "source": [
    "When you are happy with the quality, create predictions for *test* set."
   ]
  },
  {
   "cell_type": "code",
   "execution_count": null,
   "metadata": {
    "colab": {},
    "colab_type": "code",
    "id": "M51F10f9TGBB"
   },
   "outputs": [],
   "source": []
  }
 ],
 "metadata": {
  "colab": {
   "collapsed_sections": [],
   "name": "Stats_NLP_Project_Questions.ipynb",
   "provenance": [],
   "version": "0.3.2"
  },
  "kernelspec": {
   "display_name": "Python 3",
   "language": "python",
   "name": "python3"
  },
  "language_info": {
   "codemirror_mode": {
    "name": "ipython",
    "version": 3
   },
   "file_extension": ".py",
   "mimetype": "text/x-python",
   "name": "python",
   "nbconvert_exporter": "python",
   "pygments_lexer": "ipython3",
   "version": "3.7.3"
  }
 },
 "nbformat": 4,
 "nbformat_minor": 1
}
