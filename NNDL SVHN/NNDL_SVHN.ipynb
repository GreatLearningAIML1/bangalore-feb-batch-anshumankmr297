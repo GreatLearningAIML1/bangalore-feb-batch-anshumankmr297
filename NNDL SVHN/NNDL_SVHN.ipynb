{
 "cells": [
  {
   "cell_type": "code",
   "execution_count": 24,
   "metadata": {},
   "outputs": [],
   "source": [
    "import matplotlib.pyplot as plt\n",
    "\n",
    "from keras.layers.advanced_activations import LeakyReLU\n",
    "import numpy as np\n",
    "import tensorflow as tf\n",
    "import pandas as pd\n",
    "from sklearn.neighbors import KNeighborsClassifier\n",
    "from tensorflow.keras import datasets, layers, models\n",
    "\n",
    "from keras.optimizers import SGD\n",
    "import h5py as h5\n",
    "import os\n",
    "\n",
    "import scipy.io\n",
    "from scipy.io import loadmat\n",
    "import cv2\n",
    "from tensorflow.keras.callbacks import EarlyStopping\n",
    "from sklearn import metrics\n",
    "import numpy as np\n",
    "\n",
    "\n"
   ]
  },
  {
   "cell_type": "code",
   "execution_count": 25,
   "metadata": {},
   "outputs": [
    {
     "data": {
      "text/plain": [
       "'1.14.0'"
      ]
     },
     "execution_count": 25,
     "metadata": {},
     "output_type": "execute_result"
    }
   ],
   "source": [
    "tf.__version__"
   ]
  },
  {
   "cell_type": "markdown",
   "metadata": {},
   "source": [
    "Data fetching and understand the train/val/test splits.  "
   ]
  },
  {
   "cell_type": "code",
   "execution_count": 26,
   "metadata": {},
   "outputs": [],
   "source": [
    "# Open the file as readonly\n",
    "h5f = h5.File('SVHN_single_grey1.h5', 'r')\n",
    "\n",
    "# Load the training, test and validation set\n",
    "X_train = h5f['X_train'][:]\n",
    "y_train = h5f['y_train'][:]\n",
    "X_test = h5f['X_test'][:]\n",
    "y_test = h5f['y_test'][:]\n",
    "X_val = h5f['X_val'][:]\n",
    "y_val = h5f['y_val'][:]"
   ]
  },
  {
   "cell_type": "code",
   "execution_count": 27,
   "metadata": {},
   "outputs": [
    {
     "data": {
      "text/plain": [
       "(42000, 32, 32)"
      ]
     },
     "execution_count": 27,
     "metadata": {},
     "output_type": "execute_result"
    }
   ],
   "source": [
    "X_train.shape"
   ]
  },
  {
   "cell_type": "code",
   "execution_count": 28,
   "metadata": {},
   "outputs": [
    {
     "data": {
      "text/plain": [
       "(18000, 32, 32)"
      ]
     },
     "execution_count": 28,
     "metadata": {},
     "output_type": "execute_result"
    }
   ],
   "source": [
    "X_test.shape"
   ]
  },
  {
   "cell_type": "code",
   "execution_count": 29,
   "metadata": {},
   "outputs": [
    {
     "data": {
      "text/plain": [
       "(42000,)"
      ]
     },
     "execution_count": 29,
     "metadata": {},
     "output_type": "execute_result"
    }
   ],
   "source": [
    "y_train.shape"
   ]
  },
  {
   "cell_type": "code",
   "execution_count": 30,
   "metadata": {},
   "outputs": [
    {
     "data": {
      "text/plain": [
       "43008000"
      ]
     },
     "execution_count": 30,
     "metadata": {},
     "output_type": "execute_result"
    }
   ],
   "source": [
    "X_train.size"
   ]
  },
  {
   "cell_type": "code",
   "execution_count": 31,
   "metadata": {},
   "outputs": [],
   "source": [
    "X_train = np.reshape(X_train, (-1,1024))\n",
    "X_test = np.reshape(X_test, (-1,1024 ))"
   ]
  },
  {
   "cell_type": "code",
   "execution_count": 32,
   "metadata": {},
   "outputs": [
    {
     "data": {
      "text/plain": [
       "(42000, 1024)"
      ]
     },
     "execution_count": 32,
     "metadata": {},
     "output_type": "execute_result"
    }
   ],
   "source": [
    "X_train.shape"
   ]
  },
  {
   "cell_type": "markdown",
   "metadata": {},
   "source": [
    "Implement and apply an optimal k-Nearest Neighbor (kNN) classifier "
   ]
  },
  {
   "cell_type": "code",
   "execution_count": 10,
   "metadata": {
    "scrolled": true
   },
   "outputs": [],
   "source": [
    "NNH = KNeighborsClassifier(n_neighbors= 9)\n",
    "NNH.fit(X_train,y_train)\n",
    "ypred = NNH.predict(X_test)"
   ]
  },
  {
   "cell_type": "markdown",
   "metadata": {},
   "source": [
    "Print the classification metric report"
   ]
  },
  {
   "cell_type": "code",
   "execution_count": 11,
   "metadata": {},
   "outputs": [
    {
     "name": "stdout",
     "output_type": "stream",
     "text": [
      "The accuracy when is 0.5124444444444445\n"
     ]
    }
   ],
   "source": [
    "accuracy=metrics.accuracy_score(y_test,ypred)\n",
    "print(\"The accuracy when is {}\".format(accuracy))"
   ]
  },
  {
   "cell_type": "code",
   "execution_count": 12,
   "metadata": {},
   "outputs": [
    {
     "name": "stdout",
     "output_type": "stream",
     "text": [
      "The accuracy when k=2 is 0.43644444444444447\n",
      "The accuracy when k=3 is 0.4617777777777778\n",
      "The accuracy when k=7 is 0.5070555555555556\n",
      "The accuracy when k=9 is 0.5124444444444445\n"
     ]
    }
   ],
   "source": [
    "neighbors = [2,3,7,9]\n",
    "for x in neighbors:\n",
    "    NNH = KNeighborsClassifier(n_neighbors= x)\n",
    "    NNH.fit(X_train,y_train)\n",
    "    ypred = NNH.predict(X_test)\n",
    "    accuracy=metrics.accuracy_score(y_test,ypred)\n",
    "    print(\"The accuracy when k={} is {}\".format(x,accuracy))"
   ]
  },
  {
   "cell_type": "code",
   "execution_count": 13,
   "metadata": {},
   "outputs": [
    {
     "name": "stdout",
     "output_type": "stream",
     "text": [
      "Training set (42000, 1024) (42000,)\n",
      "Validation set (60000, 32, 32) (60000,)\n",
      "Test set (18000, 1024) (18000,)\n"
     ]
    }
   ],
   "source": [
    " # Close this file\n",
    "h5f.close()\n",
    "print('Training set', X_train.shape, y_train.shape)\n",
    "print('Validation set', X_val.shape, y_val.shape)\n",
    "print('Test set', X_test.shape, y_test.shape)"
   ]
  },
  {
   "cell_type": "code",
   "execution_count": 33,
   "metadata": {},
   "outputs": [],
   "source": [
    "# Open the file as readonly\n",
    "h5f = h5.File('SVHN_single_grey1.h5', 'r')\n",
    "\n",
    "# Load the training, test and validation set\n",
    "X_train = h5f['X_train'][:]\n",
    "y_train = h5f['y_train'][:]\n",
    "X_test = h5f['X_test'][:]\n",
    "y_test = h5f['y_test'][:]\n",
    "X_val = h5f['X_val'][:]\n",
    "y_val = h5f['y_val'][:]"
   ]
  },
  {
   "cell_type": "code",
   "execution_count": 34,
   "metadata": {},
   "outputs": [],
   "source": [
    "X_train = X_train.reshape((42000, 32, 32, 1))\n",
    "X_test = X_test.reshape((18000, 32, 32, 1))"
   ]
  },
  {
   "cell_type": "code",
   "execution_count": 35,
   "metadata": {},
   "outputs": [],
   "source": [
    "#Early stopping with patience=5\n",
    "es = EarlyStopping(monitor='val_acc', mode='max', patience=5)"
   ]
  },
  {
   "cell_type": "markdown",
   "metadata": {},
   "source": [
    "Implement and apply a deep neural network classifier including and Batch Normalization for Neural Network"
   ]
  },
  {
   "cell_type": "code",
   "execution_count": 36,
   "metadata": {},
   "outputs": [],
   "source": [
    "#Initialize model\n",
    "model = tf.keras.models.Sequential()\n",
    "#Add first convolutional layer\n",
    "model.add(tf.keras.layers.Conv2D(32, #Number of filters \n",
    "                                 kernel_size=(3,3), #Size of the filter\n",
    "                                 activation='relu', input_shape=(32,32,1)))\n",
    "model.add(tf.keras.layers.BatchNormalization())\n",
    "#Add second convolutional layer\n",
    "model.add(tf.keras.layers.Conv2D(32, kernel_size=(3,3), activation='relu'))\n",
    "model.add(tf.keras.layers.BatchNormalization())\n",
    "#model.output\n",
    "#Flatten the output\n",
    "model.add(tf.keras.layers.Flatten())\n",
    "#Dense layer\n",
    "model.add(tf.keras.layers.Dense(128, activation='relu'))\n",
    "#Output layer\n",
    "model.add(tf.keras.layers.Dense(10, activation='softmax'))\n",
    "model.compile(optimizer='adam', \n",
    "              loss='sparse_categorical_crossentropy', metrics=['accuracy'])"
   ]
  },
  {
   "cell_type": "code",
   "execution_count": 37,
   "metadata": {},
   "outputs": [
    {
     "name": "stdout",
     "output_type": "stream",
     "text": [
      "Model: \"sequential_2\"\n",
      "_________________________________________________________________\n",
      "Layer (type)                 Output Shape              Param #   \n",
      "=================================================================\n",
      "conv2d_4 (Conv2D)            (None, 30, 30, 32)        320       \n",
      "_________________________________________________________________\n",
      "batch_normalization_1 (Batch (None, 30, 30, 32)        128       \n",
      "_________________________________________________________________\n",
      "conv2d_5 (Conv2D)            (None, 28, 28, 32)        9248      \n",
      "_________________________________________________________________\n",
      "batch_normalization_2 (Batch (None, 28, 28, 32)        128       \n",
      "_________________________________________________________________\n",
      "flatten_2 (Flatten)          (None, 25088)             0         \n",
      "_________________________________________________________________\n",
      "dense_4 (Dense)              (None, 128)               3211392   \n",
      "_________________________________________________________________\n",
      "dense_5 (Dense)              (None, 10)                1290      \n",
      "=================================================================\n",
      "Total params: 3,222,506\n",
      "Trainable params: 3,222,378\n",
      "Non-trainable params: 128\n",
      "_________________________________________________________________\n"
     ]
    }
   ],
   "source": [
    "model.summary()"
   ]
  },
  {
   "cell_type": "code",
   "execution_count": 38,
   "metadata": {},
   "outputs": [
    {
     "name": "stdout",
     "output_type": "stream",
     "text": [
      "Train on 42000 samples, validate on 18000 samples\n",
      "Epoch 1/10\n",
      "42000/42000 [==============================] - 34s 809us/sample - loss: 1.1683 - acc: 0.7400 - val_loss: 0.5819 - val_acc: 0.8268\n",
      "Epoch 2/10\n",
      "42000/42000 [==============================] - 32s 773us/sample - loss: 0.4319 - acc: 0.8690 - val_loss: 0.4877 - val_acc: 0.8584\n",
      "Epoch 3/10\n",
      "42000/42000 [==============================] - 32s 772us/sample - loss: 0.3237 - acc: 0.8996 - val_loss: 0.5740 - val_acc: 0.8497\n",
      "Epoch 4/10\n",
      "42000/42000 [==============================] - 33s 776us/sample - loss: 0.2497 - acc: 0.9217 - val_loss: 0.8731 - val_acc: 0.7708\n",
      "Epoch 5/10\n",
      "42000/42000 [==============================] - 33s 780us/sample - loss: 0.1984 - acc: 0.9380 - val_loss: 0.5875 - val_acc: 0.8652\n",
      "Epoch 6/10\n",
      "42000/42000 [==============================] - 33s 774us/sample - loss: 0.1625 - acc: 0.9487 - val_loss: 0.6448 - val_acc: 0.8696\n",
      "Epoch 7/10\n",
      "42000/42000 [==============================] - 33s 779us/sample - loss: 0.1298 - acc: 0.9593 - val_loss: 0.5695 - val_acc: 0.8605\n",
      "Epoch 8/10\n",
      "42000/42000 [==============================] - 33s 782us/sample - loss: 0.1119 - acc: 0.9661 - val_loss: 0.8320 - val_acc: 0.8570\n",
      "Epoch 9/10\n",
      "42000/42000 [==============================] - 33s 782us/sample - loss: 0.0903 - acc: 0.9717 - val_loss: 0.7104 - val_acc: 0.8667\n",
      "Epoch 10/10\n",
      "42000/42000 [==============================] - 33s 788us/sample - loss: 0.0744 - acc: 0.9761 - val_loss: 1.0299 - val_acc: 0.8512\n"
     ]
    },
    {
     "data": {
      "text/plain": [
       "<tensorflow.python.keras.callbacks.History at 0x246006a1cc0>"
      ]
     },
     "execution_count": 38,
     "metadata": {},
     "output_type": "execute_result"
    }
   ],
   "source": [
    "#Train the model\n",
    "model.fit(X_train,y_train,          \n",
    "          validation_data=(X_test,y_test),\n",
    "          epochs=10,\n",
    "          batch_size=32, \n",
    "          callbacks=[es])"
   ]
  },
  {
   "cell_type": "markdown",
   "metadata": {},
   "source": [
    "Understand the differences and trade-offs between traditional and NN classifiers with the help of classification metrics"
   ]
  },
  {
   "cell_type": "code",
   "execution_count": 39,
   "metadata": {},
   "outputs": [
    {
     "name": "stdout",
     "output_type": "stream",
     "text": [
      "18000/18000 [==============================] - 4s 210us/sample - loss: 1.0299 - acc: 0.8512\n"
     ]
    },
    {
     "data": {
      "text/plain": [
       "[1.029925641781754, 0.85116667]"
      ]
     },
     "execution_count": 39,
     "metadata": {},
     "output_type": "execute_result"
    }
   ],
   "source": [
    "model.evaluate(X_test,y_test)"
   ]
  },
  {
   "cell_type": "code",
   "execution_count": null,
   "metadata": {},
   "outputs": [],
   "source": [
    "#It is observed that the accuracy has increased from 51.24 in case of K Neighbors classifier to 85.12 in case of neural network.\n",
    "#This is quite a significant progress."
   ]
  }
 ],
 "metadata": {
  "kernelspec": {
   "display_name": "Python 3",
   "language": "python",
   "name": "python3"
  },
  "language_info": {
   "codemirror_mode": {
    "name": "ipython",
    "version": 3
   },
   "file_extension": ".py",
   "mimetype": "text/x-python",
   "name": "python",
   "nbconvert_exporter": "python",
   "pygments_lexer": "ipython3",
   "version": "3.7.3"
  }
 },
 "nbformat": 4,
 "nbformat_minor": 2
}
