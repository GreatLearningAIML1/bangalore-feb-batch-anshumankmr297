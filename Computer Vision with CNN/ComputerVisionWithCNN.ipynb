{
 "cells": [
  {
   "cell_type": "markdown",
   "metadata": {},
   "source": [
    "# Residency-8: Project-1 | ComputerVisionWithCNN_R8"
   ]
  },
  {
   "cell_type": "markdown",
   "metadata": {},
   "source": [
    "Project 1:\n",
    "\n",
    " \n",
    "\n",
    "The case study is from a dataset from Kaggle. \n",
    "\n",
    "Link to the Kaggle project site:\n",
    "\n",
    "https://www.kaggle.com/c/plant-seedlings-classification (Links to an external site.)Links to an external site.\n",
    "\n",
    " \n",
    "\n",
    " \n",
    "\n",
    "The dataset has to be downloaded from the above Kaggle web site.\n",
    "\n",
    " \n",
    "\n",
    " \n",
    "\n",
    "Can you differentiate a weed from a crop seedling?\n",
    "\n",
    "The ability to do so effectively can mean better crop yields and better stewardship of the environment.\n",
    "\n",
    "The Aarhus University Signal Processing group, in collaboration with the University of Southern Denmark, has recently released a dataset containing images of approximately 960 unique plants belonging to 12 species at several growth stages."
   ]
  },
  {
   "cell_type": "code",
   "execution_count": 10,
   "metadata": {},
   "outputs": [],
   "source": [
    "from IPython.core.interactiveshell import InteractiveShell\n",
    "InteractiveShell.ast_node_interactivity='all'"
   ]
  },
  {
   "cell_type": "code",
   "execution_count": 11,
   "metadata": {},
   "outputs": [
    {
     "data": {
      "text/plain": [
       "'1.14.0'"
      ]
     },
     "execution_count": 11,
     "metadata": {},
     "output_type": "execute_result"
    },
    {
     "data": {
      "text/plain": [
       "'2.2.4-tf'"
      ]
     },
     "execution_count": 11,
     "metadata": {},
     "output_type": "execute_result"
    },
    {
     "data": {
      "text/html": [
       "        <script type=\"text/javascript\">\n",
       "        window.PlotlyConfig = {MathJaxConfig: 'local'};\n",
       "        if (window.MathJax) {MathJax.Hub.Config({SVG: {font: \"STIX-Web\"}});}\n",
       "        if (typeof require !== 'undefined') {\n",
       "        require.undef(\"plotly\");\n",
       "        requirejs.config({\n",
       "            paths: {\n",
       "                'plotly': ['https://cdn.plot.ly/plotly-latest.min']\n",
       "            }\n",
       "        });\n",
       "        require(['plotly'], function(Plotly) {\n",
       "            window._Plotly = Plotly;\n",
       "        });\n",
       "        }\n",
       "        </script>\n",
       "        "
      ]
     },
     "metadata": {},
     "output_type": "display_data"
    }
   ],
   "source": [
    "import numpy as np\n",
    "import pandas as pd\n",
    "import tensorflow as tf\n",
    "import pathlib as pth\n",
    "import ast\n",
    "import re\n",
    "import tarfile\n",
    "import imageio\n",
    "from ast import literal_eval\n",
    "from sklearn.model_selection import train_test_split\n",
    "import matplotlib\n",
    "import matplotlib.pyplot as plt\n",
    "from PIL import Image\n",
    "from sklearn.cluster import KMeans\n",
    "from sklearn.preprocessing import LabelBinarizer\n",
    "from sklearn import metrics\n",
    "from collections import Counter, defaultdict\n",
    "import plotly.offline as py\n",
    "import plotly.graph_objs as go\n",
    "from sklearn.metrics import matthews_corrcoef\n",
    "from sklearn.metrics import hamming_loss\n",
    "from keras.applications.vgg16 import VGG16\n",
    "from keras.preprocessing import image\n",
    "from keras.applications.vgg16 import preprocess_input\n",
    "np.random.seed(42)\n",
    "tf.set_random_seed(42)\n",
    "tf.__version__\n",
    "tf.keras.__version__\n",
    "tf.reset_default_graph()\n",
    "py.init_notebook_mode(connected=True)\n",
    "#Unfreeze (make trainable) these VGG16 layers\n",
    "LAYER = [\"block5_conv1\", \"block5_conv2\", \"block4_conv3\" ]"
   ]
  },
  {
   "cell_type": "code",
   "execution_count": 12,
   "metadata": {},
   "outputs": [],
   "source": [
    "# Root directory for the project\n",
    "#            ***VERY URGENT NOTE***\n",
    "# 1. first, PLEASE CREATE THE \"data\" FOLDER AT\n",
    "#    THE SAME LEVEL, WHERE THE IPYNB FILE IS.\n",
    "# 2. WHILE YOU PASTE THIS CODE TO IPYNB-environment,\n",
    "#    PLEASE USE THE BELOW COMMENTED LINE, IN THAT CASE\n",
    "PRJ_ROOT_DIR = r\"{}\\\\\".format(pth.Path.cwd())\n",
    "# IF YOU ARE RUNNING THIS CODE, in say, PYCHARM-ENV\n",
    "# USE THE LINE BELOW FOR \"PRJ_ROOT_DIR\"\n",
    "#PRJ_ROOT_DIR = r\"{}\\..\\\\\".format(pth.Path.cwd())\n",
    "# Data-Set path (assuming, data set will be @ the \"data\" folder\n",
    "# under a project root.\n",
    "DATA_SET_PATH = r\"{}\\\\data\\\\\".format(PRJ_ROOT_DIR)\n",
    "DATA_SET_XLS_PATH = r\"{}\\data\\*.xlsx\".format(PRJ_ROOT_DIR)\n",
    "# Below data is provided as csv file, with col-names already there.\n",
    "DATA_SET_CSV_PATH = r\"{}\\data\\labels.csv\".format(PRJ_ROOT_DIR)\n",
    "TRAIN_CSV_PATH = DATA_SET_PATH + 'train.csv'\n",
    "TEST_CSV_PATH = DATA_SET_PATH + 'test.csv'\n",
    "BATCHSIZE = 64"
   ]
  },
  {
   "cell_type": "code",
   "execution_count": 13,
   "metadata": {},
   "outputs": [],
   "source": [
    "def cleanup_column_names(df):\n",
    "    \"\"\"\n",
    "    This routine \"cleans\" up the column names, in the sense that the non alphanumeric, non-word characters are\n",
    "    replaced with underscore-joined names instead\n",
    "\n",
    "    :param df:\n",
    "    \"\"\"\n",
    "    new_col_names = []\n",
    "    for col_name in df.columns:\n",
    "        # Remove all non-word characters (everything except numbers and letters)\n",
    "        col_name = re.sub(r\"[^\\w\\s]\", '', col_name)\n",
    "        # Replace all runs of whitespace with a single dash\n",
    "        col_name = re.sub(r\"\\s+\", '_', col_name)\n",
    "        new_col_names.append(col_name)\n",
    "    df.rename(columns={i: j for i, j in zip(df.columns, new_col_names)}, inplace=True)\n",
    "\n",
    "\n",
    "def read_data_set(data_path, is_text=False, usr_col_list=None):\n",
    "    \"\"\"\n",
    "    Read the csv or excel file at a given path, into a dataframe & return the same\n",
    "    :param usr_col_list:\n",
    "    :param is_text:\n",
    "    :param data_path:\n",
    "    :return:\n",
    "    \"\"\"\n",
    "    if data_path == DATA_SET_XLS_PATH:\n",
    "        df = pd.read_excel(data_path, encoding=\"ISO-8859-1\")\n",
    "    elif is_text:\n",
    "        df = pd.read_csv(DATA_SET_CSV_PATH, names=usr_col_list)\n",
    "    else:\n",
    "        df = pd.read_csv(data_path, encoding=\"ISO-8859-1\")\n",
    "    cleanup_column_names(df)\n",
    "    col_name_full = list(df.columns)\n",
    "    return df.loc[:, col_name_full]\n",
    "\n",
    "\n",
    "\n",
    "def split_train_test(image_df, test_size=0.2, random_state=42):\n",
    "    \"\"\"\n",
    "    \"\"\"\n",
    "    train_df, test_df = train_test_split(image_df, test_size=test_size, random_state=random_state)\n",
    "    train_df.reset_index(inplace=True, drop=True)\n",
    "    test_df.reset_index(inplace=True, drop=True)\n",
    "    print(\"Final Train-Dataset-shape:{}\".format(train_df.shape))\n",
    "    print(\"Final Direct Test-Dataset-shape:{}\".format(test_df.shape))\n",
    "    train_df.to_csv(TRAIN_CSV_PATH)\n",
    "    test_df.to_csv(TEST_CSV_PATH)\n",
    "\n",
    "\n",
    "def read_train_test_data(train_path, test_path):\n",
    "    \"\"\"\n",
    "    Read the train/test dataframes from saved csv files\n",
    "    :param path:\n",
    "    :return:test_df/train_df\n",
    "    \"\"\"\n",
    "    train_df = pd.read_csv(train_path, encoding=\"ISO-8859-1\")\n",
    "    test_df = pd.read_csv(test_path, encoding=\"ISO-8859-1\")\n",
    "    return train_df, test_df\n",
    "\n",
    "\n",
    "def batch_generator(df, batchsize=32, train_mode=True):\n",
    "    \"\"\"\n",
    "    Build the batch generator\n",
    "    :param df:\n",
    "    :param batchsize:\n",
    "    :param train_mode:\n",
    "    :yields:batch_images, batch_labels\n",
    "    \"\"\"    \n",
    "    img_generator = tf.keras.preprocessing.image.ImageDataGenerator(rotation_range=30,\n",
    "                                                                    width_shift_range=0.2,\n",
    "                                                                    height_shift_range=0.2,\n",
    "                                                                    horizontal_flip=True,\n",
    "                                                                    zoom_range=[0.3, 5.0],\n",
    "                                                                    shear_range=0.2)\n",
    "    lb1 = LabelBinarizer()\n",
    "    df_lb = pd.DataFrame(lb1.fit_transform(df['species']),columns=lb.classes_)\n",
    "    while True:\n",
    "        # Create a batch-indexer to populate the image & correspnding labels\n",
    "        # batch-wise\n",
    "        batch_nums = np.random.randint(0, df.shape[0], size=batchsize)\n",
    "        # Create placeholders for the returned batch_images & batch_labels\n",
    "        batch_images = np.zeros((batchsize, img_size, img_size, img_depth))\n",
    "        batch_labels = np.zeros((batchsize, len(class_names)))\n",
    "        for i in range(batchsize):\n",
    "            #get an image & label one at a time from the dataframe\n",
    "            image = tf.keras.preprocessing.image.load_img('./data/' + df.loc[batch_nums[i]]['species']+ '/'+ df.loc[batch_nums[i]]['file'],\n",
    "                                                          target_size=(img_size, img_size))\n",
    "            # Convert to numpy array\n",
    "            image = tf.keras.preprocessing.image.img_to_array(image)\n",
    "            if train_mode:\n",
    "                # Apply transform\n",
    "                image = img_generator.random_transform(image)\n",
    "            label = df_lb[lb.classes_].values[batch_nums[i]]\n",
    "            batch_images[i] = image\n",
    "            batch_labels[i] = label\n",
    "        yield batch_images, batch_labels            \n",
    "            \n",
    "\n",
    "def pred_func(df, batchsize=32, train_mode=True):\n",
    "    \"\"\"\n",
    "    Build the batch generator\n",
    "    :param df:\n",
    "    :param batchsize:\n",
    "    :param train_mode:\n",
    "    :yields:batch_images, batch_labels\n",
    "    \"\"\"    \n",
    "    lb1 = LabelBinarizer()\n",
    "    df_lb = pd.DataFrame(lb1.fit_transform(df['species']),columns=lb.classes_)\n",
    "    batch_nums = np.random.randint(0, df.shape[0], size=batchsize)\n",
    "    # Create placeholders for the returned batch_images & batch_labels\n",
    "    batch_images = np.zeros((batchsize, img_size, img_size, img_depth))\n",
    "    batch_labels = np.zeros((batchsize, len(class_names)))\n",
    "    for i in range(batchsize):\n",
    "        #get an image & label one at a time from the dataframe\n",
    "        image = tf.keras.preprocessing.image.load_img('./data/' + df.loc[batch_nums[i]]['species']+ '/'+ df.loc[batch_nums[i]]['file'],\n",
    "                                                      target_size=(img_size, img_size))\n",
    "        # Convert to numpy array\n",
    "        image = tf.keras.preprocessing.image.img_to_array(image)\n",
    "        label = df_lb[lb.classes_].values[batch_nums[i]]\n",
    "        batch_images[i] = image/255\n",
    "        batch_labels[i] = label\n",
    "    return batch_images, tf.keras.utils.to_categorical(batch_labels)   \n",
    "\n",
    "        \n",
    "def pred_func(df, batchsize=32):\n",
    "    lb1 = LabelBinarizer()\n",
    "    df_lb = pd.DataFrame(lb1.fit_transform(df['species']),columns=lb.classes_)\n",
    "    batch_nums = np.random.randint(0, df.shape[0], size=batchsize)\n",
    "    # Create placeholders for the returned batch_images & batch_labels\n",
    "    batch_images = np.zeros((batchsize, img_size, img_size, img_depth))\n",
    "    batch_labels = np.zeros((batchsize, len(class_names)))\n",
    "    for i in range(batchsize):\n",
    "        #get an image & label one at a time from the dataframe\n",
    "        image = tf.keras.preprocessing.image.load_img('./data/' + df.loc[batch_nums[i]]['species']+ '/'+ df.loc[batch_nums[i]]['file'],\n",
    "                                                      target_size=(img_size, img_size))\n",
    "        # Convert to numpy array\n",
    "        image = tf.keras.preprocessing.image.img_to_array(image)\n",
    "        label = df_lb[lb.classes_].values[batch_nums[i]]\n",
    "        batch_images[i] = image#/255\n",
    "        batch_labels[i] = label\n",
    "    return batch_images, batch_labels\n",
    "\n",
    "\n",
    "def layer_output(model, layer_name=None):\n",
    "    \"\"\"Output tensor of a specific layer in a model.\n",
    "    \"\"\"\n",
    "    conv_index = -1\n",
    "\n",
    "    for i in range(len(model.layers) - 1, -1, -1):\n",
    "        layer = model.layers[i]\n",
    "        if layer_name in layer.name:\n",
    "            conv_index = i\n",
    "            break\n",
    "\n",
    "    if conv_index < 0:\n",
    "        print('Error: could not find the interested layer.')\n",
    "\n",
    "    return model.layers[conv_index].output"
   ]
  },
  {
   "cell_type": "markdown",
   "metadata": {},
   "source": [
    "### Read the images and generate the train and test dataset (10 points)"
   ]
  },
  {
   "cell_type": "code",
   "execution_count": 14,
   "metadata": {},
   "outputs": [],
   "source": [
    "image_df = read_data_set(DATA_SET_CSV_PATH)"
   ]
  },
  {
   "cell_type": "code",
   "execution_count": 15,
   "metadata": {},
   "outputs": [
    {
     "data": {
      "text/html": [
       "<div>\n",
       "<style scoped>\n",
       "    .dataframe tbody tr th:only-of-type {\n",
       "        vertical-align: middle;\n",
       "    }\n",
       "\n",
       "    .dataframe tbody tr th {\n",
       "        vertical-align: top;\n",
       "    }\n",
       "\n",
       "    .dataframe thead th {\n",
       "        text-align: right;\n",
       "    }\n",
       "</style>\n",
       "<table border=\"1\" class=\"dataframe\">\n",
       "  <thead>\n",
       "    <tr style=\"text-align: right;\">\n",
       "      <th></th>\n",
       "      <th>file</th>\n",
       "      <th>species</th>\n",
       "    </tr>\n",
       "  </thead>\n",
       "  <tbody>\n",
       "    <tr>\n",
       "      <th>0</th>\n",
       "      <td>0050f38b3.png</td>\n",
       "      <td>Black-grass</td>\n",
       "    </tr>\n",
       "    <tr>\n",
       "      <th>1</th>\n",
       "      <td>0183fdf68.png</td>\n",
       "      <td>Black-grass</td>\n",
       "    </tr>\n",
       "    <tr>\n",
       "      <th>2</th>\n",
       "      <td>0260cffa8.png</td>\n",
       "      <td>Black-grass</td>\n",
       "    </tr>\n",
       "    <tr>\n",
       "      <th>3</th>\n",
       "      <td>05eedce4d.png</td>\n",
       "      <td>Black-grass</td>\n",
       "    </tr>\n",
       "    <tr>\n",
       "      <th>4</th>\n",
       "      <td>075d004bc.png</td>\n",
       "      <td>Black-grass</td>\n",
       "    </tr>\n",
       "  </tbody>\n",
       "</table>\n",
       "</div>"
      ],
      "text/plain": [
       "            file      species\n",
       "0  0050f38b3.png  Black-grass\n",
       "1  0183fdf68.png  Black-grass\n",
       "2  0260cffa8.png  Black-grass\n",
       "3  05eedce4d.png  Black-grass\n",
       "4  075d004bc.png  Black-grass"
      ]
     },
     "execution_count": 15,
     "metadata": {},
     "output_type": "execute_result"
    }
   ],
   "source": [
    "image_df.head()"
   ]
  },
  {
   "cell_type": "code",
   "execution_count": 16,
   "metadata": {},
   "outputs": [],
   "source": [
    "pd.set_option('display.width', 500)\n",
    "pd.set_option('display.max_columns', 500)"
   ]
  },
  {
   "cell_type": "code",
   "execution_count": 17,
   "metadata": {},
   "outputs": [
    {
     "data": {
      "text/plain": [
       "(4750, 2)"
      ]
     },
     "execution_count": 17,
     "metadata": {},
     "output_type": "execute_result"
    }
   ],
   "source": [
    "image_df.shape"
   ]
  },
  {
   "cell_type": "markdown",
   "metadata": {},
   "source": [
    "### 2) Divide the data set into Train and validation data sets"
   ]
  },
  {
   "cell_type": "code",
   "execution_count": 18,
   "metadata": {},
   "outputs": [
    {
     "name": "stdout",
     "output_type": "stream",
     "text": [
      "Final Train-Dataset-shape:(3800, 2)\n",
      "Final Direct Test-Dataset-shape:(950, 2)\n"
     ]
    }
   ],
   "source": [
    "split_train_test(image_df)"
   ]
  },
  {
   "cell_type": "code",
   "execution_count": 19,
   "metadata": {},
   "outputs": [],
   "source": [
    "train_df, test_df = read_train_test_data(TRAIN_CSV_PATH,TEST_CSV_PATH)"
   ]
  },
  {
   "cell_type": "code",
   "execution_count": 20,
   "metadata": {},
   "outputs": [
    {
     "data": {
      "text/plain": [
       "(3800, 3)"
      ]
     },
     "execution_count": 20,
     "metadata": {},
     "output_type": "execute_result"
    },
    {
     "data": {
      "text/plain": [
       "(950, 3)"
      ]
     },
     "execution_count": 20,
     "metadata": {},
     "output_type": "execute_result"
    }
   ],
   "source": [
    "train_df.shape\n",
    "test_df.shape"
   ]
  },
  {
   "cell_type": "code",
   "execution_count": 21,
   "metadata": {},
   "outputs": [
    {
     "name": "stdout",
     "output_type": "stream",
     "text": [
      "['Black-grass', 'Charlock', 'Cleavers', 'Common_Chickweed', 'Common_wheat', 'Fat_Hen', 'Loose_Silky-bent', 'Maize', 'Scentless_Mayweed', 'Shepherds_Purse', 'Small-flowered_Cranesbill', 'Sugar_beet']\n"
     ]
    }
   ],
   "source": [
    "#Get the class names\n",
    "lb = LabelBinarizer()\n",
    "df = pd.DataFrame(lb.fit_transform(train_df['species']),columns=lb.classes_)\n",
    "class_names = list(lb.classes_)\n",
    "print(class_names)"
   ]
  },
  {
   "cell_type": "markdown",
   "metadata": {},
   "source": [
    "### 3) Initialize & build the model (20 points)"
   ]
  },
  {
   "cell_type": "markdown",
   "metadata": {},
   "source": [
    "### 4) Optimize the model (16 points)"
   ]
  },
  {
   "cell_type": "code",
   "execution_count": 22,
   "metadata": {},
   "outputs": [],
   "source": [
    "# Define some parameters\n",
    "img_size =224\n",
    "img_depth = 3"
   ]
  },
  {
   "cell_type": "code",
   "execution_count": 23,
   "metadata": {},
   "outputs": [],
   "source": [
    "checkpoint = tf.keras.callbacks.ModelCheckpoint('seedling_weed_model-{epoch:03d}-{acc:03f}-{val_acc:03f}.h5', verbose=1, monitor='val_acc',save_best_only=True, mode='auto') "
   ]
  },
  {
   "cell_type": "code",
   "execution_count": 428,
   "metadata": {},
   "outputs": [
    {
     "name": "stdout",
     "output_type": "stream",
     "text": [
      "[INFO] summary for base model...\n",
      "Model: \"vgg16\"\n",
      "_________________________________________________________________\n",
      "Layer (type)                 Output Shape              Param #   \n",
      "=================================================================\n",
      "input_1 (InputLayer)         [(None, None, None, 3)]   0         \n",
      "_________________________________________________________________\n",
      "block1_conv1 (Conv2D)        (None, None, None, 64)    1792      \n",
      "_________________________________________________________________\n",
      "block1_conv2 (Conv2D)        (None, None, None, 64)    36928     \n",
      "_________________________________________________________________\n",
      "block1_pool (MaxPooling2D)   (None, None, None, 64)    0         \n",
      "_________________________________________________________________\n",
      "block2_conv1 (Conv2D)        (None, None, None, 128)   73856     \n",
      "_________________________________________________________________\n",
      "block2_conv2 (Conv2D)        (None, None, None, 128)   147584    \n",
      "_________________________________________________________________\n",
      "block2_pool (MaxPooling2D)   (None, None, None, 128)   0         \n",
      "_________________________________________________________________\n",
      "block3_conv1 (Conv2D)        (None, None, None, 256)   295168    \n",
      "_________________________________________________________________\n",
      "block3_conv2 (Conv2D)        (None, None, None, 256)   590080    \n",
      "_________________________________________________________________\n",
      "block3_conv3 (Conv2D)        (None, None, None, 256)   590080    \n",
      "_________________________________________________________________\n",
      "block3_pool (MaxPooling2D)   (None, None, None, 256)   0         \n",
      "_________________________________________________________________\n",
      "block4_conv1 (Conv2D)        (None, None, None, 512)   1180160   \n",
      "_________________________________________________________________\n",
      "block4_conv2 (Conv2D)        (None, None, None, 512)   2359808   \n",
      "_________________________________________________________________\n",
      "block4_conv3 (Conv2D)        (None, None, None, 512)   2359808   \n",
      "_________________________________________________________________\n",
      "block4_pool (MaxPooling2D)   (None, None, None, 512)   0         \n",
      "_________________________________________________________________\n",
      "block5_conv1 (Conv2D)        (None, None, None, 512)   2359808   \n",
      "_________________________________________________________________\n",
      "block5_conv2 (Conv2D)        (None, None, None, 512)   2359808   \n",
      "_________________________________________________________________\n",
      "block5_conv3 (Conv2D)        (None, None, None, 512)   2359808   \n",
      "_________________________________________________________________\n",
      "block5_pool (MaxPooling2D)   (None, None, None, 512)   0         \n",
      "=================================================================\n",
      "Total params: 14,714,688\n",
      "Trainable params: 14,714,688\n",
      "Non-trainable params: 0\n",
      "_________________________________________________________________\n",
      "None\n",
      "[INFO] compiling model...\n",
      "Model: \"model\"\n",
      "_________________________________________________________________\n",
      "Layer (type)                 Output Shape              Param #   \n",
      "=================================================================\n",
      "input_1 (InputLayer)         [(None, None, None, 3)]   0         \n",
      "_________________________________________________________________\n",
      "block1_conv1 (Conv2D)        (None, None, None, 64)    1792      \n",
      "_________________________________________________________________\n",
      "block1_conv2 (Conv2D)        (None, None, None, 64)    36928     \n",
      "_________________________________________________________________\n",
      "block1_pool (MaxPooling2D)   (None, None, None, 64)    0         \n",
      "_________________________________________________________________\n",
      "block2_conv1 (Conv2D)        (None, None, None, 128)   73856     \n",
      "_________________________________________________________________\n",
      "block2_conv2 (Conv2D)        (None, None, None, 128)   147584    \n",
      "_________________________________________________________________\n",
      "block2_pool (MaxPooling2D)   (None, None, None, 128)   0         \n",
      "_________________________________________________________________\n",
      "block3_conv1 (Conv2D)        (None, None, None, 256)   295168    \n",
      "_________________________________________________________________\n",
      "block3_conv2 (Conv2D)        (None, None, None, 256)   590080    \n",
      "_________________________________________________________________\n",
      "block3_conv3 (Conv2D)        (None, None, None, 256)   590080    \n",
      "_________________________________________________________________\n",
      "block3_pool (MaxPooling2D)   (None, None, None, 256)   0         \n",
      "_________________________________________________________________\n",
      "block4_conv1 (Conv2D)        (None, None, None, 512)   1180160   \n",
      "_________________________________________________________________\n",
      "block4_conv2 (Conv2D)        (None, None, None, 512)   2359808   \n",
      "_________________________________________________________________\n",
      "block4_conv3 (Conv2D)        (None, None, None, 512)   2359808   \n",
      "_________________________________________________________________\n",
      "block4_pool (MaxPooling2D)   (None, None, None, 512)   0         \n",
      "_________________________________________________________________\n",
      "block5_conv1 (Conv2D)        (None, None, None, 512)   2359808   \n",
      "_________________________________________________________________\n",
      "block5_conv2 (Conv2D)        (None, None, None, 512)   2359808   \n",
      "_________________________________________________________________\n",
      "block5_conv3 (Conv2D)        (None, None, None, 512)   2359808   \n",
      "_________________________________________________________________\n",
      "global_average_pooling2d (Gl (None, 512)               0         \n",
      "_________________________________________________________________\n",
      "dense (Dense)                (None, 1024)              525312    \n",
      "_________________________________________________________________\n",
      "dense_1 (Dense)              (None, 12)                12300     \n",
      "=================================================================\n",
      "Total params: 15,252,300\n",
      "Trainable params: 7,617,036\n",
      "Non-trainable params: 7,635,264\n",
      "_________________________________________________________________\n",
      "None\n"
     ]
    },
    {
     "data": {
      "image/png": "[encoded data removed]",
      "text/plain": [
       "<IPython.core.display.Image object>"
      ]
     },
     "execution_count": 428,
     "metadata": {},
     "output_type": "execute_result"
    }
   ],
   "source": [
    "# load VGG16, ensuring the head FC layer sets are left off, while at\n",
    "# the same time adjusting the size of the input image tensor to the\n",
    "# network\n",
    "baseModel = tf.keras.applications.vgg16.VGG16(weights=\"imagenet\", include_top=False)\n",
    "\n",
    "# show a summary of the base model\n",
    "print(\"[INFO] summary for base model...\")\n",
    "print(baseModel.summary())\n",
    "\n",
    "gap_input = layer_output(baseModel, 'block5_conv3')\n",
    "\n",
    "# construct the head of the model that will be placed on top of the\n",
    "# the base model\n",
    "headModel = gap_input\n",
    "headModel = tf.keras.layers.GlobalAveragePooling2D()(headModel)\n",
    "headModel = tf.keras.layers.Dense(1024, activation='relu')(headModel)\n",
    "#headModel = Dropout(0.5)(headModel)\n",
    "headModel = tf.keras.layers.Dense(len(class_names), activation='softmax')(headModel)\n",
    "\n",
    "# place the head FC model on top of the base model (this will become\n",
    "# the actual model we will train)\n",
    "model = tf.keras.models.Model(inputs=baseModel.input, outputs=headModel)\n",
    "\n",
    "# loop over all layers in the base model and freeze them so they will\n",
    "# *not* be updated during the first training process\n",
    "for layer in baseModel.layers:\n",
    "    if layer.name in LAYER:\n",
    "        layer.trainable = True\n",
    "    else:\n",
    "        layer.trainable = False\n",
    "\n",
    "# compile our model (this needs to be done after our setting our\n",
    "# layers to being non-trainable)\n",
    "print(\"[INFO] compiling model...\")\n",
    "opt = tf.keras.optimizers.Adam(lr=1e-4)\n",
    "model.compile(optimizer=opt, loss='categorical_crossentropy', metrics=['accuracy'])\n",
    "# summarize layers\n",
    "print(model.summary())\n",
    "# plot graph\n",
    "tf.keras.utils.plot_model(model, to_file='shared_input_layer.png', show_shapes=True, show_layer_names=True)"
   ]
  },
  {
   "cell_type": "code",
   "execution_count": 429,
   "metadata": {},
   "outputs": [],
   "source": [
    "# Create a test and train generator\n",
    "batchsize = 32\n",
    "train_generator = batch_generator(train_df, batchsize=batchsize)\n",
    "test_generator  = batch_generator(test_df, batchsize=batchsize, train_mode=False)"
   ]
  },
  {
   "cell_type": "code",
   "execution_count": 430,
   "metadata": {},
   "outputs": [
    {
     "name": "stdout",
     "output_type": "stream",
     "text": [
      "Epoch 1/20\n",
      "117/118 [============================>.] - ETA: 0s - loss: 2.2722 - acc: 0.2238\n",
      "Epoch 00001: val_acc improved from -inf to 0.33297, saving model to seedling_weed_model-001-0.224311-0.332974.h5\n",
      "118/118 [==============================] - 86s 731ms/step - loss: 2.2707 - acc: 0.2243 - val_loss: 1.9744 - val_acc: 0.3330\n",
      "Epoch 2/20\n",
      "117/118 [============================>.] - ETA: 0s - loss: 1.3784 - acc: 0.5155\n",
      "Epoch 00002: val_acc improved from 0.33297 to 0.61961, saving model to seedling_weed_model-002-0.516949-0.619612.h5\n",
      "118/118 [==============================] - 96s 815ms/step - loss: 1.3740 - acc: 0.5169 - val_loss: 1.0806 - val_acc: 0.6196\n",
      "Epoch 3/20\n",
      "117/118 [============================>.] - ETA: 0s - loss: 0.9600 - acc: 0.6675\n",
      "Epoch 00003: val_acc improved from 0.61961 to 0.71336, saving model to seedling_weed_model-003-0.668697-0.713362.h5\n",
      "118/118 [==============================] - 98s 827ms/step - loss: 0.9566 - acc: 0.6687 - val_loss: 0.8971 - val_acc: 0.7134\n",
      "Epoch 4/20\n",
      "117/118 [============================>.] - ETA: 0s - loss: 0.7868 - acc: 0.7294\n",
      "Epoch 00004: val_acc improved from 0.71336 to 0.74461, saving model to seedling_weed_model-004-0.730138-0.744612.h5\n",
      "118/118 [==============================] - 96s 813ms/step - loss: 0.7844 - acc: 0.7301 - val_loss: 0.8052 - val_acc: 0.7446\n",
      "Epoch 5/20\n",
      "117/118 [============================>.] - ETA: 0s - loss: 0.6837 - acc: 0.7569\n",
      "Epoch 00005: val_acc improved from 0.74461 to 0.78664, saving model to seedling_weed_model-005-0.756356-0.786638.h5\n",
      "118/118 [==============================] - 99s 840ms/step - loss: 0.6852 - acc: 0.7564 - val_loss: 0.6139 - val_acc: 0.7866\n",
      "Epoch 6/20\n",
      "117/118 [============================>.] - ETA: 0s - loss: 0.6282 - acc: 0.7871\n",
      "Epoch 00006: val_acc improved from 0.78664 to 0.85776, saving model to seedling_weed_model-006-0.786547-0.857759.h5\n",
      "118/118 [==============================] - 98s 829ms/step - loss: 0.6284 - acc: 0.7865 - val_loss: 0.3394 - val_acc: 0.8578\n",
      "Epoch 7/20\n",
      "117/118 [============================>.] - ETA: 0s - loss: 0.5858 - acc: 0.7983\n",
      "Epoch 00007: val_acc did not improve from 0.85776\n",
      "118/118 [==============================] - 99s 838ms/step - loss: 0.5851 - acc: 0.7985 - val_loss: 0.6365 - val_acc: 0.7963\n",
      "Epoch 8/20\n",
      "117/118 [============================>.] - ETA: 0s - loss: 0.5274 - acc: 0.8074\n",
      "Epoch 00008: val_acc improved from 0.85776 to 0.89224, saving model to seedling_weed_model-008-0.807203-0.892241.h5\n",
      "118/118 [==============================] - 100s 845ms/step - loss: 0.5275 - acc: 0.8072 - val_loss: 0.3285 - val_acc: 0.8922\n",
      "Epoch 9/20\n",
      "117/118 [============================>.] - ETA: 0s - loss: 0.5474 - acc: 0.8072\n",
      "Epoch 00009: val_acc did not improve from 0.89224\n",
      "118/118 [==============================] - 102s 862ms/step - loss: 0.5479 - acc: 0.8069 - val_loss: 0.6107 - val_acc: 0.7931\n",
      "Epoch 10/20\n",
      "117/118 [============================>.] - ETA: 0s - loss: 0.4662 - acc: 0.8285\n",
      "Epoch 00010: val_acc did not improve from 0.89224\n",
      "118/118 [==============================] - 104s 877ms/step - loss: 0.4661 - acc: 0.8281 - val_loss: 0.4014 - val_acc: 0.8470\n",
      "Epoch 11/20\n",
      "117/118 [============================>.] - ETA: 0s - loss: 0.4677 - acc: 0.8352\n",
      "Epoch 00011: val_acc did not improve from 0.89224\n",
      "118/118 [==============================] - 102s 863ms/step - loss: 0.4672 - acc: 0.8350 - val_loss: 0.4452 - val_acc: 0.8578\n",
      "Epoch 12/20\n",
      "117/118 [============================>.] - ETA: 0s - loss: 0.4378 - acc: 0.8408\n",
      "Epoch 00012: val_acc did not improve from 0.89224\n",
      "118/118 [==============================] - 101s 859ms/step - loss: 0.4377 - acc: 0.8406 - val_loss: 0.3872 - val_acc: 0.8696\n",
      "Epoch 13/20\n",
      "117/118 [============================>.] - ETA: 0s - loss: 0.4191 - acc: 0.8480\n",
      "Epoch 00013: val_acc did not improve from 0.89224\n",
      "118/118 [==============================] - 101s 858ms/step - loss: 0.4175 - acc: 0.8485 - val_loss: 0.4598 - val_acc: 0.8448\n",
      "Epoch 14/20\n",
      "117/118 [============================>.] - ETA: 0s - loss: 0.4242 - acc: 0.8435\n",
      "Epoch 00014: val_acc did not improve from 0.89224\n",
      "118/118 [==============================] - 103s 873ms/step - loss: 0.4238 - acc: 0.8440 - val_loss: 0.3166 - val_acc: 0.8922\n",
      "Epoch 15/20\n",
      "117/118 [============================>.] - ETA: 0s - loss: 0.3935 - acc: 0.8574\n",
      "Epoch 00015: val_acc did not improve from 0.89224\n",
      "118/118 [==============================] - 103s 870ms/step - loss: 0.3954 - acc: 0.8567 - val_loss: 0.4223 - val_acc: 0.8718\n",
      "Epoch 16/20\n",
      "117/118 [============================>.] - ETA: 0s - loss: 0.3747 - acc: 0.8665\n",
      "Epoch 00016: val_acc improved from 0.89224 to 0.89655, saving model to seedling_weed_model-016-0.866261-0.896552.h5\n",
      "118/118 [==============================] - 105s 892ms/step - loss: 0.3750 - acc: 0.8663 - val_loss: 0.3793 - val_acc: 0.8966\n",
      "Epoch 17/20\n",
      "117/118 [============================>.] - ETA: 0s - loss: 0.3596 - acc: 0.8681\n",
      "Epoch 00017: val_acc did not improve from 0.89655\n",
      "118/118 [==============================] - 102s 863ms/step - loss: 0.3588 - acc: 0.8686 - val_loss: 0.4352 - val_acc: 0.8254\n",
      "Epoch 18/20\n",
      "117/118 [============================>.] - ETA: 0s - loss: 0.3439 - acc: 0.8758\n",
      "Epoch 00018: val_acc did not improve from 0.89655\n",
      "118/118 [==============================] - 103s 875ms/step - loss: 0.3448 - acc: 0.8753 - val_loss: 0.3871 - val_acc: 0.8858\n",
      "Epoch 19/20\n",
      "117/118 [============================>.] - ETA: 0s - loss: 0.3516 - acc: 0.8710\n",
      "Epoch 00019: val_acc improved from 0.89655 to 0.90409, saving model to seedling_weed_model-019-0.871292-0.904095.h5\n",
      "118/118 [==============================] - 108s 917ms/step - loss: 0.3504 - acc: 0.8713 - val_loss: 0.3096 - val_acc: 0.9041\n",
      "Epoch 20/20\n",
      "117/118 [============================>.] - ETA: 0s - loss: 0.3356 - acc: 0.8825\n",
      "Epoch 00020: val_acc did not improve from 0.90409\n",
      "118/118 [==============================] - 118s 998ms/step - loss: 0.3359 - acc: 0.8819 - val_loss: 0.4208 - val_acc: 0.8728\n"
     ]
    },
    {
     "data": {
      "text/plain": [
       "<tensorflow.python.keras.callbacks.History at 0x1f8aa94c278>"
      ]
     },
     "execution_count": 430,
     "metadata": {},
     "output_type": "execute_result"
    }
   ],
   "source": [
    "model.fit_generator(train_generator, \n",
    "                    epochs=20, \n",
    "                    steps_per_epoch=train_df.shape[0]//batchsize, \n",
    "                    validation_data=test_generator, \n",
    "                    validation_steps=test_df.shape[0]//batchsize,\n",
    "                    callbacks=[checkpoint])"
   ]
  },
  {
   "cell_type": "code",
   "execution_count": 431,
   "metadata": {},
   "outputs": [],
   "source": [
    "model.save('seedling_weed_model.h5')"
   ]
  },
  {
   "cell_type": "markdown",
   "metadata": {},
   "source": [
    "### 5) Predict the accuracy for both train and validation data (14 points)"
   ]
  },
  {
   "cell_type": "code",
   "execution_count": 24,
   "metadata": {},
   "outputs": [],
   "source": [
    "#working with the best model out of the above epochs\n",
    "model = tf.keras.models.load_model('seedling_weed_model-019-0.871292-0.904095.h5')"
   ]
  },
  {
   "cell_type": "markdown",
   "metadata": {},
   "source": [
    "#### Train accuracy"
   ]
  },
  {
   "cell_type": "code",
   "execution_count": 25,
   "metadata": {},
   "outputs": [],
   "source": [
    "X, y_train = pred_func(train_df, train_df.shape[0])\n",
    "out_train = model.predict(X)"
   ]
  },
  {
   "cell_type": "code",
   "execution_count": 26,
   "metadata": {},
   "outputs": [],
   "source": [
    "ypred = []\n",
    "for val in out_train:\n",
    "    ypred.append(np.argmax(val))"
   ]
  },
  {
   "cell_type": "code",
   "execution_count": 27,
   "metadata": {},
   "outputs": [],
   "source": [
    "ytrain = []\n",
    "for val in y_train:\n",
    "    ytrain.append(np.argmax(val))"
   ]
  },
  {
   "cell_type": "code",
   "execution_count": 28,
   "metadata": {},
   "outputs": [
    {
     "name": "stdout",
     "output_type": "stream",
     "text": [
      "[[158   0   0   0   8   2  41   0   0   0   0   0]\n",
      " [  0 310   4   0   0   2   0   0   0   0   2   0]\n",
      " [  2   0 215   0   0  13   0   0   2   3   1   0]\n",
      " [  0   0   0 415   0  21   0   0  16   0   3   0]\n",
      " [  9   0   0   0 158   6   0   0   1   0   0   0]\n",
      " [  0   0   0   0   5 397   0   0   2   0   0   2]\n",
      " [ 51   0   0   0   2   0 439   0   0   0   0   0]\n",
      " [  1   0   0   0   0   0   0 160   6   0   0   0]\n",
      " [  1   0   5   2   0   4   0   0 431  10   5   0]\n",
      " [  0   0   8  16   0   3   0   0  19 138  18   0]\n",
      " [  1   0   3   0   0   1   0   0   3   0 374   0]\n",
      " [  3   0   0   2   1  37   0   3   3   0   0 252]]\n"
     ]
    }
   ],
   "source": [
    "cm = metrics.confusion_matrix(ytrain,ypred)\n",
    "print(cm)"
   ]
  },
  {
   "cell_type": "code",
   "execution_count": 29,
   "metadata": {},
   "outputs": [
    {
     "name": "stdout",
     "output_type": "stream",
     "text": [
      "              precision    recall  f1-score   support\n",
      "\n",
      "           0       0.70      0.76      0.73       209\n",
      "           1       1.00      0.97      0.99       318\n",
      "           2       0.91      0.91      0.91       236\n",
      "           3       0.95      0.91      0.93       455\n",
      "           4       0.91      0.91      0.91       174\n",
      "           5       0.82      0.98      0.89       406\n",
      "           6       0.91      0.89      0.90       492\n",
      "           7       0.98      0.96      0.97       167\n",
      "           8       0.89      0.94      0.92       458\n",
      "           9       0.91      0.68      0.78       202\n",
      "          10       0.93      0.98      0.95       382\n",
      "          11       0.99      0.84      0.91       301\n",
      "\n",
      "    accuracy                           0.91      3800\n",
      "   macro avg       0.91      0.89      0.90      3800\n",
      "weighted avg       0.91      0.91      0.91      3800\n",
      "\n"
     ]
    }
   ],
   "source": [
    "cr=metrics.classification_report(ytrain,ypred)\n",
    "print(cr)"
   ]
  },
  {
   "cell_type": "markdown",
   "metadata": {},
   "source": [
    "#### Validation accuracy"
   ]
  },
  {
   "cell_type": "code",
   "execution_count": 30,
   "metadata": {},
   "outputs": [],
   "source": [
    "X, y_test = pred_func(test_df, test_df.shape[0])\n",
    "out = model.predict(X)"
   ]
  },
  {
   "cell_type": "code",
   "execution_count": 31,
   "metadata": {},
   "outputs": [],
   "source": [
    "ypred = []\n",
    "for val in out:\n",
    "    ypred.append(np.argmax(val))"
   ]
  },
  {
   "cell_type": "code",
   "execution_count": 32,
   "metadata": {},
   "outputs": [],
   "source": [
    "ytest = []\n",
    "for val in y_test:\n",
    "    ytest.append(np.argmax(val))"
   ]
  },
  {
   "cell_type": "code",
   "execution_count": 33,
   "metadata": {},
   "outputs": [
    {
     "name": "stdout",
     "output_type": "stream",
     "text": [
      "[[ 44   0   0   0   0   0  14   0   0   0   0   0]\n",
      " [  0  60   0   0   0   2   0   0   0   0   0   0]\n",
      " [  0   0  62   0   0   1   0   0   0   0   2   0]\n",
      " [  0   0   0 120   0   1   0   1  12   0   0   0]\n",
      " [  0   0   0   0  34   5   0   0   1   0   0   0]\n",
      " [  0   0   0   0   4  82   0   0   0   0   0   0]\n",
      " [  8   0   0   0   0   0 141   0   0   0   0   0]\n",
      " [  1   0   0   0   0   1   0  45   0   0   0   0]\n",
      " [  1   0   2   1   0   4   0   0  88   3   0   0]\n",
      " [  0   0   1   6   0   2   0   0   2  23   5   0]\n",
      " [  0   0   3   0   0   1   0   0   0   2  90   0]\n",
      " [  1   0   0   0   0   5   0   3   0   0   0  66]]\n"
     ]
    }
   ],
   "source": [
    "cm = metrics.confusion_matrix(ytest,ypred)\n",
    "print(cm)"
   ]
  },
  {
   "cell_type": "code",
   "execution_count": 34,
   "metadata": {},
   "outputs": [
    {
     "name": "stdout",
     "output_type": "stream",
     "text": [
      "              precision    recall  f1-score   support\n",
      "\n",
      "           0       0.80      0.76      0.78        58\n",
      "           1       1.00      0.97      0.98        62\n",
      "           2       0.91      0.95      0.93        65\n",
      "           3       0.94      0.90      0.92       134\n",
      "           4       0.89      0.85      0.87        40\n",
      "           5       0.79      0.95      0.86        86\n",
      "           6       0.91      0.95      0.93       149\n",
      "           7       0.92      0.96      0.94        47\n",
      "           8       0.85      0.89      0.87        99\n",
      "           9       0.82      0.59      0.69        39\n",
      "          10       0.93      0.94      0.93        96\n",
      "          11       1.00      0.88      0.94        75\n",
      "\n",
      "    accuracy                           0.90       950\n",
      "   macro avg       0.90      0.88      0.89       950\n",
      "weighted avg       0.90      0.90      0.90       950\n",
      "\n"
     ]
    }
   ],
   "source": [
    "cr=metrics.classification_report(ytest,ypred)\n",
    "print(cr)"
   ]
  }
 ],
 "metadata": {
  "kernelspec": {
   "display_name": "Python 3",
   "language": "python",
   "name": "python3"
  },
  "language_info": {
   "codemirror_mode": {
    "name": "ipython",
    "version": 3
   },
   "file_extension": ".py",
   "mimetype": "text/x-python",
   "name": "python",
   "nbconvert_exporter": "python",
   "pygments_lexer": "ipython3",
   "version": "3.7.3"
  }
 },
 "nbformat": 4,
 "nbformat_minor": 2
}
